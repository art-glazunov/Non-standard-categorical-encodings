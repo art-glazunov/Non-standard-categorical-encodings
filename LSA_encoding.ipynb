{
  "nbformat": 4,
  "nbformat_minor": 0,
  "metadata": {
    "colab": {
      "name": "LSA_encoding.ipynb",
      "provenance": [],
      "collapsed_sections": [],
      "machine_shape": "hm",
      "mount_file_id": "1m6ZnxcML7qJJbRA-T1vO3pA0I_UHVbZi",
      "authorship_tag": "ABX9TyMFrNkIOQwVbTvhCZ+Nh2G9",
      "include_colab_link": true
    },
    "kernelspec": {
      "display_name": "Python 3",
      "name": "python3"
    },
    "language_info": {
      "name": "python"
    },
    "widgets": {
      "application/vnd.jupyter.widget-state+json": {
        "7d59845aff9a4a80b49098c41bb71928": {
          "model_module": "@jupyter-widgets/controls",
          "model_name": "HBoxModel",
          "state": {
            "_view_name": "HBoxView",
            "_dom_classes": [],
            "_model_name": "HBoxModel",
            "_view_module": "@jupyter-widgets/controls",
            "_model_module_version": "1.5.0",
            "_view_count": null,
            "_view_module_version": "1.5.0",
            "box_style": "",
            "layout": "IPY_MODEL_0cf4dc4fd2124d8e8286beef88f95f21",
            "_model_module": "@jupyter-widgets/controls",
            "children": [
              "IPY_MODEL_bcc7ac7888624e048a31a55e25832125",
              "IPY_MODEL_b2f91cedeff44857b4d12447013fe153"
            ]
          }
        },
        "0cf4dc4fd2124d8e8286beef88f95f21": {
          "model_module": "@jupyter-widgets/base",
          "model_name": "LayoutModel",
          "state": {
            "_view_name": "LayoutView",
            "grid_template_rows": null,
            "right": null,
            "justify_content": null,
            "_view_module": "@jupyter-widgets/base",
            "overflow": null,
            "_model_module_version": "1.2.0",
            "_view_count": null,
            "flex_flow": null,
            "width": null,
            "min_width": null,
            "border": null,
            "align_items": null,
            "bottom": null,
            "_model_module": "@jupyter-widgets/base",
            "top": null,
            "grid_column": null,
            "overflow_y": null,
            "overflow_x": null,
            "grid_auto_flow": null,
            "grid_area": null,
            "grid_template_columns": null,
            "flex": null,
            "_model_name": "LayoutModel",
            "justify_items": null,
            "grid_row": null,
            "max_height": null,
            "align_content": null,
            "visibility": null,
            "align_self": null,
            "height": null,
            "min_height": null,
            "padding": null,
            "grid_auto_rows": null,
            "grid_gap": null,
            "max_width": null,
            "order": null,
            "_view_module_version": "1.2.0",
            "grid_template_areas": null,
            "object_position": null,
            "object_fit": null,
            "grid_auto_columns": null,
            "margin": null,
            "display": null,
            "left": null
          }
        },
        "bcc7ac7888624e048a31a55e25832125": {
          "model_module": "@jupyter-widgets/controls",
          "model_name": "FloatProgressModel",
          "state": {
            "_view_name": "ProgressView",
            "style": "IPY_MODEL_99570c71ad8d4764b82de3160ddfc7d1",
            "_dom_classes": [],
            "description": "100%",
            "_model_name": "FloatProgressModel",
            "bar_style": "success",
            "max": 230000,
            "_view_module": "@jupyter-widgets/controls",
            "_model_module_version": "1.5.0",
            "value": 230000,
            "_view_count": null,
            "_view_module_version": "1.5.0",
            "orientation": "horizontal",
            "min": 0,
            "description_tooltip": null,
            "_model_module": "@jupyter-widgets/controls",
            "layout": "IPY_MODEL_8b006be5747a4cdb8948cda6fe918efe"
          }
        },
        "b2f91cedeff44857b4d12447013fe153": {
          "model_module": "@jupyter-widgets/controls",
          "model_name": "HTMLModel",
          "state": {
            "_view_name": "HTMLView",
            "style": "IPY_MODEL_e2f865f9bf2e40708b6a0914272e1c9b",
            "_dom_classes": [],
            "description": "",
            "_model_name": "HTMLModel",
            "placeholder": "​",
            "_view_module": "@jupyter-widgets/controls",
            "_model_module_version": "1.5.0",
            "value": " 230000/230000 [00:12&lt;00:00, 18092.49it/s]",
            "_view_count": null,
            "_view_module_version": "1.5.0",
            "description_tooltip": null,
            "_model_module": "@jupyter-widgets/controls",
            "layout": "IPY_MODEL_fb3cf754116a4318a963dcff1669407e"
          }
        },
        "99570c71ad8d4764b82de3160ddfc7d1": {
          "model_module": "@jupyter-widgets/controls",
          "model_name": "ProgressStyleModel",
          "state": {
            "_view_name": "StyleView",
            "_model_name": "ProgressStyleModel",
            "description_width": "initial",
            "_view_module": "@jupyter-widgets/base",
            "_model_module_version": "1.5.0",
            "_view_count": null,
            "_view_module_version": "1.2.0",
            "bar_color": null,
            "_model_module": "@jupyter-widgets/controls"
          }
        },
        "8b006be5747a4cdb8948cda6fe918efe": {
          "model_module": "@jupyter-widgets/base",
          "model_name": "LayoutModel",
          "state": {
            "_view_name": "LayoutView",
            "grid_template_rows": null,
            "right": null,
            "justify_content": null,
            "_view_module": "@jupyter-widgets/base",
            "overflow": null,
            "_model_module_version": "1.2.0",
            "_view_count": null,
            "flex_flow": null,
            "width": null,
            "min_width": null,
            "border": null,
            "align_items": null,
            "bottom": null,
            "_model_module": "@jupyter-widgets/base",
            "top": null,
            "grid_column": null,
            "overflow_y": null,
            "overflow_x": null,
            "grid_auto_flow": null,
            "grid_area": null,
            "grid_template_columns": null,
            "flex": null,
            "_model_name": "LayoutModel",
            "justify_items": null,
            "grid_row": null,
            "max_height": null,
            "align_content": null,
            "visibility": null,
            "align_self": null,
            "height": null,
            "min_height": null,
            "padding": null,
            "grid_auto_rows": null,
            "grid_gap": null,
            "max_width": null,
            "order": null,
            "_view_module_version": "1.2.0",
            "grid_template_areas": null,
            "object_position": null,
            "object_fit": null,
            "grid_auto_columns": null,
            "margin": null,
            "display": null,
            "left": null
          }
        },
        "e2f865f9bf2e40708b6a0914272e1c9b": {
          "model_module": "@jupyter-widgets/controls",
          "model_name": "DescriptionStyleModel",
          "state": {
            "_view_name": "StyleView",
            "_model_name": "DescriptionStyleModel",
            "description_width": "",
            "_view_module": "@jupyter-widgets/base",
            "_model_module_version": "1.5.0",
            "_view_count": null,
            "_view_module_version": "1.2.0",
            "_model_module": "@jupyter-widgets/controls"
          }
        },
        "fb3cf754116a4318a963dcff1669407e": {
          "model_module": "@jupyter-widgets/base",
          "model_name": "LayoutModel",
          "state": {
            "_view_name": "LayoutView",
            "grid_template_rows": null,
            "right": null,
            "justify_content": null,
            "_view_module": "@jupyter-widgets/base",
            "overflow": null,
            "_model_module_version": "1.2.0",
            "_view_count": null,
            "flex_flow": null,
            "width": null,
            "min_width": null,
            "border": null,
            "align_items": null,
            "bottom": null,
            "_model_module": "@jupyter-widgets/base",
            "top": null,
            "grid_column": null,
            "overflow_y": null,
            "overflow_x": null,
            "grid_auto_flow": null,
            "grid_area": null,
            "grid_template_columns": null,
            "flex": null,
            "_model_name": "LayoutModel",
            "justify_items": null,
            "grid_row": null,
            "max_height": null,
            "align_content": null,
            "visibility": null,
            "align_self": null,
            "height": null,
            "min_height": null,
            "padding": null,
            "grid_auto_rows": null,
            "grid_gap": null,
            "max_width": null,
            "order": null,
            "_view_module_version": "1.2.0",
            "grid_template_areas": null,
            "object_position": null,
            "object_fit": null,
            "grid_auto_columns": null,
            "margin": null,
            "display": null,
            "left": null
          }
        },
        "a6f4a7653da046acac979f1bcbc50e5a": {
          "model_module": "@jupyter-widgets/controls",
          "model_name": "HBoxModel",
          "state": {
            "_view_name": "HBoxView",
            "_dom_classes": [],
            "_model_name": "HBoxModel",
            "_view_module": "@jupyter-widgets/controls",
            "_model_module_version": "1.5.0",
            "_view_count": null,
            "_view_module_version": "1.5.0",
            "box_style": "",
            "layout": "IPY_MODEL_5aba4061bc99438f94f0855774a8d202",
            "_model_module": "@jupyter-widgets/controls",
            "children": [
              "IPY_MODEL_d324604a712b4a60964f0dc469b4a08e",
              "IPY_MODEL_456b7cfa8d854f0aada30156748933a3"
            ]
          }
        },
        "5aba4061bc99438f94f0855774a8d202": {
          "model_module": "@jupyter-widgets/base",
          "model_name": "LayoutModel",
          "state": {
            "_view_name": "LayoutView",
            "grid_template_rows": null,
            "right": null,
            "justify_content": null,
            "_view_module": "@jupyter-widgets/base",
            "overflow": null,
            "_model_module_version": "1.2.0",
            "_view_count": null,
            "flex_flow": null,
            "width": null,
            "min_width": null,
            "border": null,
            "align_items": null,
            "bottom": null,
            "_model_module": "@jupyter-widgets/base",
            "top": null,
            "grid_column": null,
            "overflow_y": null,
            "overflow_x": null,
            "grid_auto_flow": null,
            "grid_area": null,
            "grid_template_columns": null,
            "flex": null,
            "_model_name": "LayoutModel",
            "justify_items": null,
            "grid_row": null,
            "max_height": null,
            "align_content": null,
            "visibility": null,
            "align_self": null,
            "height": null,
            "min_height": null,
            "padding": null,
            "grid_auto_rows": null,
            "grid_gap": null,
            "max_width": null,
            "order": null,
            "_view_module_version": "1.2.0",
            "grid_template_areas": null,
            "object_position": null,
            "object_fit": null,
            "grid_auto_columns": null,
            "margin": null,
            "display": null,
            "left": null
          }
        },
        "d324604a712b4a60964f0dc469b4a08e": {
          "model_module": "@jupyter-widgets/controls",
          "model_name": "FloatProgressModel",
          "state": {
            "_view_name": "ProgressView",
            "style": "IPY_MODEL_a7c062d0a5924d47b036603721a58155",
            "_dom_classes": [],
            "description": "100%",
            "_model_name": "FloatProgressModel",
            "bar_style": "success",
            "max": 70000,
            "_view_module": "@jupyter-widgets/controls",
            "_model_module_version": "1.5.0",
            "value": 70000,
            "_view_count": null,
            "_view_module_version": "1.5.0",
            "orientation": "horizontal",
            "min": 0,
            "description_tooltip": null,
            "_model_module": "@jupyter-widgets/controls",
            "layout": "IPY_MODEL_6f20602574e54f25a42b0e423755e4fb"
          }
        },
        "456b7cfa8d854f0aada30156748933a3": {
          "model_module": "@jupyter-widgets/controls",
          "model_name": "HTMLModel",
          "state": {
            "_view_name": "HTMLView",
            "style": "IPY_MODEL_63e44ec75ff541e9ab556ef96dba0cc9",
            "_dom_classes": [],
            "description": "",
            "_model_name": "HTMLModel",
            "placeholder": "​",
            "_view_module": "@jupyter-widgets/controls",
            "_model_module_version": "1.5.0",
            "value": " 70000/70000 [00:10&lt;00:00, 6553.53it/s]",
            "_view_count": null,
            "_view_module_version": "1.5.0",
            "description_tooltip": null,
            "_model_module": "@jupyter-widgets/controls",
            "layout": "IPY_MODEL_0dbecc2782f24ec9951613a1e85e3a83"
          }
        },
        "a7c062d0a5924d47b036603721a58155": {
          "model_module": "@jupyter-widgets/controls",
          "model_name": "ProgressStyleModel",
          "state": {
            "_view_name": "StyleView",
            "_model_name": "ProgressStyleModel",
            "description_width": "initial",
            "_view_module": "@jupyter-widgets/base",
            "_model_module_version": "1.5.0",
            "_view_count": null,
            "_view_module_version": "1.2.0",
            "bar_color": null,
            "_model_module": "@jupyter-widgets/controls"
          }
        },
        "6f20602574e54f25a42b0e423755e4fb": {
          "model_module": "@jupyter-widgets/base",
          "model_name": "LayoutModel",
          "state": {
            "_view_name": "LayoutView",
            "grid_template_rows": null,
            "right": null,
            "justify_content": null,
            "_view_module": "@jupyter-widgets/base",
            "overflow": null,
            "_model_module_version": "1.2.0",
            "_view_count": null,
            "flex_flow": null,
            "width": null,
            "min_width": null,
            "border": null,
            "align_items": null,
            "bottom": null,
            "_model_module": "@jupyter-widgets/base",
            "top": null,
            "grid_column": null,
            "overflow_y": null,
            "overflow_x": null,
            "grid_auto_flow": null,
            "grid_area": null,
            "grid_template_columns": null,
            "flex": null,
            "_model_name": "LayoutModel",
            "justify_items": null,
            "grid_row": null,
            "max_height": null,
            "align_content": null,
            "visibility": null,
            "align_self": null,
            "height": null,
            "min_height": null,
            "padding": null,
            "grid_auto_rows": null,
            "grid_gap": null,
            "max_width": null,
            "order": null,
            "_view_module_version": "1.2.0",
            "grid_template_areas": null,
            "object_position": null,
            "object_fit": null,
            "grid_auto_columns": null,
            "margin": null,
            "display": null,
            "left": null
          }
        },
        "63e44ec75ff541e9ab556ef96dba0cc9": {
          "model_module": "@jupyter-widgets/controls",
          "model_name": "DescriptionStyleModel",
          "state": {
            "_view_name": "StyleView",
            "_model_name": "DescriptionStyleModel",
            "description_width": "",
            "_view_module": "@jupyter-widgets/base",
            "_model_module_version": "1.5.0",
            "_view_count": null,
            "_view_module_version": "1.2.0",
            "_model_module": "@jupyter-widgets/controls"
          }
        },
        "0dbecc2782f24ec9951613a1e85e3a83": {
          "model_module": "@jupyter-widgets/base",
          "model_name": "LayoutModel",
          "state": {
            "_view_name": "LayoutView",
            "grid_template_rows": null,
            "right": null,
            "justify_content": null,
            "_view_module": "@jupyter-widgets/base",
            "overflow": null,
            "_model_module_version": "1.2.0",
            "_view_count": null,
            "flex_flow": null,
            "width": null,
            "min_width": null,
            "border": null,
            "align_items": null,
            "bottom": null,
            "_model_module": "@jupyter-widgets/base",
            "top": null,
            "grid_column": null,
            "overflow_y": null,
            "overflow_x": null,
            "grid_auto_flow": null,
            "grid_area": null,
            "grid_template_columns": null,
            "flex": null,
            "_model_name": "LayoutModel",
            "justify_items": null,
            "grid_row": null,
            "max_height": null,
            "align_content": null,
            "visibility": null,
            "align_self": null,
            "height": null,
            "min_height": null,
            "padding": null,
            "grid_auto_rows": null,
            "grid_gap": null,
            "max_width": null,
            "order": null,
            "_view_module_version": "1.2.0",
            "grid_template_areas": null,
            "object_position": null,
            "object_fit": null,
            "grid_auto_columns": null,
            "margin": null,
            "display": null,
            "left": null
          }
        },
        "4ace600620484018aa6ca1577a558ed3": {
          "model_module": "@jupyter-widgets/controls",
          "model_name": "HBoxModel",
          "state": {
            "_view_name": "HBoxView",
            "_dom_classes": [],
            "_model_name": "HBoxModel",
            "_view_module": "@jupyter-widgets/controls",
            "_model_module_version": "1.5.0",
            "_view_count": null,
            "_view_module_version": "1.5.0",
            "box_style": "",
            "layout": "IPY_MODEL_13ce3a84a3a343809399b06411623c8c",
            "_model_module": "@jupyter-widgets/controls",
            "children": [
              "IPY_MODEL_ae60b58e5ac7469695a233bae054735e",
              "IPY_MODEL_ed46bf57ff4e4c199fc30881aea82d1e"
            ]
          }
        },
        "13ce3a84a3a343809399b06411623c8c": {
          "model_module": "@jupyter-widgets/base",
          "model_name": "LayoutModel",
          "state": {
            "_view_name": "LayoutView",
            "grid_template_rows": null,
            "right": null,
            "justify_content": null,
            "_view_module": "@jupyter-widgets/base",
            "overflow": null,
            "_model_module_version": "1.2.0",
            "_view_count": null,
            "flex_flow": null,
            "width": null,
            "min_width": null,
            "border": null,
            "align_items": null,
            "bottom": null,
            "_model_module": "@jupyter-widgets/base",
            "top": null,
            "grid_column": null,
            "overflow_y": null,
            "overflow_x": null,
            "grid_auto_flow": null,
            "grid_area": null,
            "grid_template_columns": null,
            "flex": null,
            "_model_name": "LayoutModel",
            "justify_items": null,
            "grid_row": null,
            "max_height": null,
            "align_content": null,
            "visibility": null,
            "align_self": null,
            "height": null,
            "min_height": null,
            "padding": null,
            "grid_auto_rows": null,
            "grid_gap": null,
            "max_width": null,
            "order": null,
            "_view_module_version": "1.2.0",
            "grid_template_areas": null,
            "object_position": null,
            "object_fit": null,
            "grid_auto_columns": null,
            "margin": null,
            "display": null,
            "left": null
          }
        },
        "ae60b58e5ac7469695a233bae054735e": {
          "model_module": "@jupyter-widgets/controls",
          "model_name": "FloatProgressModel",
          "state": {
            "_view_name": "ProgressView",
            "style": "IPY_MODEL_d1c31b38f87e4d83b03e0d574cc2623c",
            "_dom_classes": [],
            "description": "100%",
            "_model_name": "FloatProgressModel",
            "bar_style": "success",
            "max": 230000,
            "_view_module": "@jupyter-widgets/controls",
            "_model_module_version": "1.5.0",
            "value": 230000,
            "_view_count": null,
            "_view_module_version": "1.5.0",
            "orientation": "horizontal",
            "min": 0,
            "description_tooltip": null,
            "_model_module": "@jupyter-widgets/controls",
            "layout": "IPY_MODEL_d7565bb8d5494da2a5cdc74dbb4a9cb7"
          }
        },
        "ed46bf57ff4e4c199fc30881aea82d1e": {
          "model_module": "@jupyter-widgets/controls",
          "model_name": "HTMLModel",
          "state": {
            "_view_name": "HTMLView",
            "style": "IPY_MODEL_57d9949bbfc9400ba9622da52df5c7c3",
            "_dom_classes": [],
            "description": "",
            "_model_name": "HTMLModel",
            "placeholder": "​",
            "_view_module": "@jupyter-widgets/controls",
            "_model_module_version": "1.5.0",
            "value": " 230000/230000 [07:04&lt;00:00, 541.48it/s]",
            "_view_count": null,
            "_view_module_version": "1.5.0",
            "description_tooltip": null,
            "_model_module": "@jupyter-widgets/controls",
            "layout": "IPY_MODEL_d51121721280483bb3056cb76c8b034d"
          }
        },
        "d1c31b38f87e4d83b03e0d574cc2623c": {
          "model_module": "@jupyter-widgets/controls",
          "model_name": "ProgressStyleModel",
          "state": {
            "_view_name": "StyleView",
            "_model_name": "ProgressStyleModel",
            "description_width": "initial",
            "_view_module": "@jupyter-widgets/base",
            "_model_module_version": "1.5.0",
            "_view_count": null,
            "_view_module_version": "1.2.0",
            "bar_color": null,
            "_model_module": "@jupyter-widgets/controls"
          }
        },
        "d7565bb8d5494da2a5cdc74dbb4a9cb7": {
          "model_module": "@jupyter-widgets/base",
          "model_name": "LayoutModel",
          "state": {
            "_view_name": "LayoutView",
            "grid_template_rows": null,
            "right": null,
            "justify_content": null,
            "_view_module": "@jupyter-widgets/base",
            "overflow": null,
            "_model_module_version": "1.2.0",
            "_view_count": null,
            "flex_flow": null,
            "width": null,
            "min_width": null,
            "border": null,
            "align_items": null,
            "bottom": null,
            "_model_module": "@jupyter-widgets/base",
            "top": null,
            "grid_column": null,
            "overflow_y": null,
            "overflow_x": null,
            "grid_auto_flow": null,
            "grid_area": null,
            "grid_template_columns": null,
            "flex": null,
            "_model_name": "LayoutModel",
            "justify_items": null,
            "grid_row": null,
            "max_height": null,
            "align_content": null,
            "visibility": null,
            "align_self": null,
            "height": null,
            "min_height": null,
            "padding": null,
            "grid_auto_rows": null,
            "grid_gap": null,
            "max_width": null,
            "order": null,
            "_view_module_version": "1.2.0",
            "grid_template_areas": null,
            "object_position": null,
            "object_fit": null,
            "grid_auto_columns": null,
            "margin": null,
            "display": null,
            "left": null
          }
        },
        "57d9949bbfc9400ba9622da52df5c7c3": {
          "model_module": "@jupyter-widgets/controls",
          "model_name": "DescriptionStyleModel",
          "state": {
            "_view_name": "StyleView",
            "_model_name": "DescriptionStyleModel",
            "description_width": "",
            "_view_module": "@jupyter-widgets/base",
            "_model_module_version": "1.5.0",
            "_view_count": null,
            "_view_module_version": "1.2.0",
            "_model_module": "@jupyter-widgets/controls"
          }
        },
        "d51121721280483bb3056cb76c8b034d": {
          "model_module": "@jupyter-widgets/base",
          "model_name": "LayoutModel",
          "state": {
            "_view_name": "LayoutView",
            "grid_template_rows": null,
            "right": null,
            "justify_content": null,
            "_view_module": "@jupyter-widgets/base",
            "overflow": null,
            "_model_module_version": "1.2.0",
            "_view_count": null,
            "flex_flow": null,
            "width": null,
            "min_width": null,
            "border": null,
            "align_items": null,
            "bottom": null,
            "_model_module": "@jupyter-widgets/base",
            "top": null,
            "grid_column": null,
            "overflow_y": null,
            "overflow_x": null,
            "grid_auto_flow": null,
            "grid_area": null,
            "grid_template_columns": null,
            "flex": null,
            "_model_name": "LayoutModel",
            "justify_items": null,
            "grid_row": null,
            "max_height": null,
            "align_content": null,
            "visibility": null,
            "align_self": null,
            "height": null,
            "min_height": null,
            "padding": null,
            "grid_auto_rows": null,
            "grid_gap": null,
            "max_width": null,
            "order": null,
            "_view_module_version": "1.2.0",
            "grid_template_areas": null,
            "object_position": null,
            "object_fit": null,
            "grid_auto_columns": null,
            "margin": null,
            "display": null,
            "left": null
          }
        },
        "0f6e84a3ec3543a581b494636e67b771": {
          "model_module": "@jupyter-widgets/controls",
          "model_name": "HBoxModel",
          "state": {
            "_view_name": "HBoxView",
            "_dom_classes": [],
            "_model_name": "HBoxModel",
            "_view_module": "@jupyter-widgets/controls",
            "_model_module_version": "1.5.0",
            "_view_count": null,
            "_view_module_version": "1.5.0",
            "box_style": "",
            "layout": "IPY_MODEL_90ba97ce5ad840e6a6c855368cfacc56",
            "_model_module": "@jupyter-widgets/controls",
            "children": [
              "IPY_MODEL_b5261b83f730451c93b730881575932b",
              "IPY_MODEL_11bcf26671cd4b8b86d26b38403a6356"
            ]
          }
        },
        "90ba97ce5ad840e6a6c855368cfacc56": {
          "model_module": "@jupyter-widgets/base",
          "model_name": "LayoutModel",
          "state": {
            "_view_name": "LayoutView",
            "grid_template_rows": null,
            "right": null,
            "justify_content": null,
            "_view_module": "@jupyter-widgets/base",
            "overflow": null,
            "_model_module_version": "1.2.0",
            "_view_count": null,
            "flex_flow": null,
            "width": null,
            "min_width": null,
            "border": null,
            "align_items": null,
            "bottom": null,
            "_model_module": "@jupyter-widgets/base",
            "top": null,
            "grid_column": null,
            "overflow_y": null,
            "overflow_x": null,
            "grid_auto_flow": null,
            "grid_area": null,
            "grid_template_columns": null,
            "flex": null,
            "_model_name": "LayoutModel",
            "justify_items": null,
            "grid_row": null,
            "max_height": null,
            "align_content": null,
            "visibility": null,
            "align_self": null,
            "height": null,
            "min_height": null,
            "padding": null,
            "grid_auto_rows": null,
            "grid_gap": null,
            "max_width": null,
            "order": null,
            "_view_module_version": "1.2.0",
            "grid_template_areas": null,
            "object_position": null,
            "object_fit": null,
            "grid_auto_columns": null,
            "margin": null,
            "display": null,
            "left": null
          }
        },
        "b5261b83f730451c93b730881575932b": {
          "model_module": "@jupyter-widgets/controls",
          "model_name": "FloatProgressModel",
          "state": {
            "_view_name": "ProgressView",
            "style": "IPY_MODEL_66abb3806f6846959e7bce46068b5c3d",
            "_dom_classes": [],
            "description": "100%",
            "_model_name": "FloatProgressModel",
            "bar_style": "success",
            "max": 70000,
            "_view_module": "@jupyter-widgets/controls",
            "_model_module_version": "1.5.0",
            "value": 70000,
            "_view_count": null,
            "_view_module_version": "1.5.0",
            "orientation": "horizontal",
            "min": 0,
            "description_tooltip": null,
            "_model_module": "@jupyter-widgets/controls",
            "layout": "IPY_MODEL_7eecc54a35b148adaae7d140965d8016"
          }
        },
        "11bcf26671cd4b8b86d26b38403a6356": {
          "model_module": "@jupyter-widgets/controls",
          "model_name": "HTMLModel",
          "state": {
            "_view_name": "HTMLView",
            "style": "IPY_MODEL_174f27c685a245eeb86d7e8847d11179",
            "_dom_classes": [],
            "description": "",
            "_model_name": "HTMLModel",
            "placeholder": "​",
            "_view_module": "@jupyter-widgets/controls",
            "_model_module_version": "1.5.0",
            "value": " 70000/70000 [04:49&lt;00:00, 242.14it/s]",
            "_view_count": null,
            "_view_module_version": "1.5.0",
            "description_tooltip": null,
            "_model_module": "@jupyter-widgets/controls",
            "layout": "IPY_MODEL_9d83a9d908a34eb8a9512dd85cb03a0e"
          }
        },
        "66abb3806f6846959e7bce46068b5c3d": {
          "model_module": "@jupyter-widgets/controls",
          "model_name": "ProgressStyleModel",
          "state": {
            "_view_name": "StyleView",
            "_model_name": "ProgressStyleModel",
            "description_width": "initial",
            "_view_module": "@jupyter-widgets/base",
            "_model_module_version": "1.5.0",
            "_view_count": null,
            "_view_module_version": "1.2.0",
            "bar_color": null,
            "_model_module": "@jupyter-widgets/controls"
          }
        },
        "7eecc54a35b148adaae7d140965d8016": {
          "model_module": "@jupyter-widgets/base",
          "model_name": "LayoutModel",
          "state": {
            "_view_name": "LayoutView",
            "grid_template_rows": null,
            "right": null,
            "justify_content": null,
            "_view_module": "@jupyter-widgets/base",
            "overflow": null,
            "_model_module_version": "1.2.0",
            "_view_count": null,
            "flex_flow": null,
            "width": null,
            "min_width": null,
            "border": null,
            "align_items": null,
            "bottom": null,
            "_model_module": "@jupyter-widgets/base",
            "top": null,
            "grid_column": null,
            "overflow_y": null,
            "overflow_x": null,
            "grid_auto_flow": null,
            "grid_area": null,
            "grid_template_columns": null,
            "flex": null,
            "_model_name": "LayoutModel",
            "justify_items": null,
            "grid_row": null,
            "max_height": null,
            "align_content": null,
            "visibility": null,
            "align_self": null,
            "height": null,
            "min_height": null,
            "padding": null,
            "grid_auto_rows": null,
            "grid_gap": null,
            "max_width": null,
            "order": null,
            "_view_module_version": "1.2.0",
            "grid_template_areas": null,
            "object_position": null,
            "object_fit": null,
            "grid_auto_columns": null,
            "margin": null,
            "display": null,
            "left": null
          }
        },
        "174f27c685a245eeb86d7e8847d11179": {
          "model_module": "@jupyter-widgets/controls",
          "model_name": "DescriptionStyleModel",
          "state": {
            "_view_name": "StyleView",
            "_model_name": "DescriptionStyleModel",
            "description_width": "",
            "_view_module": "@jupyter-widgets/base",
            "_model_module_version": "1.5.0",
            "_view_count": null,
            "_view_module_version": "1.2.0",
            "_model_module": "@jupyter-widgets/controls"
          }
        },
        "9d83a9d908a34eb8a9512dd85cb03a0e": {
          "model_module": "@jupyter-widgets/base",
          "model_name": "LayoutModel",
          "state": {
            "_view_name": "LayoutView",
            "grid_template_rows": null,
            "right": null,
            "justify_content": null,
            "_view_module": "@jupyter-widgets/base",
            "overflow": null,
            "_model_module_version": "1.2.0",
            "_view_count": null,
            "flex_flow": null,
            "width": null,
            "min_width": null,
            "border": null,
            "align_items": null,
            "bottom": null,
            "_model_module": "@jupyter-widgets/base",
            "top": null,
            "grid_column": null,
            "overflow_y": null,
            "overflow_x": null,
            "grid_auto_flow": null,
            "grid_area": null,
            "grid_template_columns": null,
            "flex": null,
            "_model_name": "LayoutModel",
            "justify_items": null,
            "grid_row": null,
            "max_height": null,
            "align_content": null,
            "visibility": null,
            "align_self": null,
            "height": null,
            "min_height": null,
            "padding": null,
            "grid_auto_rows": null,
            "grid_gap": null,
            "max_width": null,
            "order": null,
            "_view_module_version": "1.2.0",
            "grid_template_areas": null,
            "object_position": null,
            "object_fit": null,
            "grid_auto_columns": null,
            "margin": null,
            "display": null,
            "left": null
          }
        },
        "4a2333ee8a2048bba9999da587aa78b0": {
          "model_module": "@jupyter-widgets/controls",
          "model_name": "HBoxModel",
          "state": {
            "_dom_classes": [],
            "_model_module": "@jupyter-widgets/controls",
            "_model_module_version": "1.5.0",
            "_model_name": "HBoxModel",
            "_view_count": null,
            "_view_module": "@jupyter-widgets/controls",
            "_view_module_version": "1.5.0",
            "_view_name": "HBoxView",
            "box_style": "",
            "children": [
              "IPY_MODEL_a0acdf065fc84cb2a94b8d7cfaa8661c",
              "IPY_MODEL_069065e4435742708f8ef1d8973d940e"
            ],
            "layout": "IPY_MODEL_378ec43b1b06431894e89aa91a4cf1e6"
          }
        },
        "a0acdf065fc84cb2a94b8d7cfaa8661c": {
          "model_module": "@jupyter-widgets/controls",
          "model_name": "FloatProgressModel",
          "state": {
            "_dom_classes": [],
            "_model_module": "@jupyter-widgets/controls",
            "_model_module_version": "1.5.0",
            "_model_name": "FloatProgressModel",
            "_view_count": null,
            "_view_module": "@jupyter-widgets/controls",
            "_view_module_version": "1.5.0",
            "_view_name": "ProgressView",
            "bar_style": "success",
            "description": "100%",
            "description_tooltip": null,
            "layout": "IPY_MODEL_9966a4b177894c0dbca3e2b72817991c",
            "max": 70000,
            "min": 0,
            "orientation": "horizontal",
            "style": "IPY_MODEL_68113ce7c0414ee4934a4f259e83156b",
            "value": 70000
          }
        },
        "069065e4435742708f8ef1d8973d940e": {
          "model_module": "@jupyter-widgets/controls",
          "model_name": "HTMLModel",
          "state": {
            "_dom_classes": [],
            "_model_module": "@jupyter-widgets/controls",
            "_model_module_version": "1.5.0",
            "_model_name": "HTMLModel",
            "_view_count": null,
            "_view_module": "@jupyter-widgets/controls",
            "_view_module_version": "1.5.0",
            "_view_name": "HTMLView",
            "description": "",
            "description_tooltip": null,
            "layout": "IPY_MODEL_daf40f179eee4bd487f8e67e6e050a62",
            "placeholder": "​",
            "style": "IPY_MODEL_d319c6d3e95e4031a0c33b59260f4adc",
            "value": " 70000/70000 [00:34&lt;00:00, 2022.68it/s]"
          }
        },
        "378ec43b1b06431894e89aa91a4cf1e6": {
          "model_module": "@jupyter-widgets/base",
          "model_name": "LayoutModel",
          "state": {
            "_model_module": "@jupyter-widgets/base",
            "_model_module_version": "1.2.0",
            "_model_name": "LayoutModel",
            "_view_count": null,
            "_view_module": "@jupyter-widgets/base",
            "_view_module_version": "1.2.0",
            "_view_name": "LayoutView",
            "align_content": null,
            "align_items": null,
            "align_self": null,
            "border": null,
            "bottom": null,
            "display": null,
            "flex": null,
            "flex_flow": null,
            "grid_area": null,
            "grid_auto_columns": null,
            "grid_auto_flow": null,
            "grid_auto_rows": null,
            "grid_column": null,
            "grid_gap": null,
            "grid_row": null,
            "grid_template_areas": null,
            "grid_template_columns": null,
            "grid_template_rows": null,
            "height": null,
            "justify_content": null,
            "justify_items": null,
            "left": null,
            "margin": null,
            "max_height": null,
            "max_width": null,
            "min_height": null,
            "min_width": null,
            "object_fit": null,
            "object_position": null,
            "order": null,
            "overflow": null,
            "overflow_x": null,
            "overflow_y": null,
            "padding": null,
            "right": null,
            "top": null,
            "visibility": null,
            "width": null
          }
        },
        "9966a4b177894c0dbca3e2b72817991c": {
          "model_module": "@jupyter-widgets/base",
          "model_name": "LayoutModel",
          "state": {
            "_model_module": "@jupyter-widgets/base",
            "_model_module_version": "1.2.0",
            "_model_name": "LayoutModel",
            "_view_count": null,
            "_view_module": "@jupyter-widgets/base",
            "_view_module_version": "1.2.0",
            "_view_name": "LayoutView",
            "align_content": null,
            "align_items": null,
            "align_self": null,
            "border": null,
            "bottom": null,
            "display": null,
            "flex": null,
            "flex_flow": null,
            "grid_area": null,
            "grid_auto_columns": null,
            "grid_auto_flow": null,
            "grid_auto_rows": null,
            "grid_column": null,
            "grid_gap": null,
            "grid_row": null,
            "grid_template_areas": null,
            "grid_template_columns": null,
            "grid_template_rows": null,
            "height": null,
            "justify_content": null,
            "justify_items": null,
            "left": null,
            "margin": null,
            "max_height": null,
            "max_width": null,
            "min_height": null,
            "min_width": null,
            "object_fit": null,
            "object_position": null,
            "order": null,
            "overflow": null,
            "overflow_x": null,
            "overflow_y": null,
            "padding": null,
            "right": null,
            "top": null,
            "visibility": null,
            "width": null
          }
        },
        "68113ce7c0414ee4934a4f259e83156b": {
          "model_module": "@jupyter-widgets/controls",
          "model_name": "ProgressStyleModel",
          "state": {
            "_model_module": "@jupyter-widgets/controls",
            "_model_module_version": "1.5.0",
            "_model_name": "ProgressStyleModel",
            "_view_count": null,
            "_view_module": "@jupyter-widgets/base",
            "_view_module_version": "1.2.0",
            "_view_name": "StyleView",
            "bar_color": null,
            "description_width": "initial"
          }
        },
        "daf40f179eee4bd487f8e67e6e050a62": {
          "model_module": "@jupyter-widgets/base",
          "model_name": "LayoutModel",
          "state": {
            "_model_module": "@jupyter-widgets/base",
            "_model_module_version": "1.2.0",
            "_model_name": "LayoutModel",
            "_view_count": null,
            "_view_module": "@jupyter-widgets/base",
            "_view_module_version": "1.2.0",
            "_view_name": "LayoutView",
            "align_content": null,
            "align_items": null,
            "align_self": null,
            "border": null,
            "bottom": null,
            "display": null,
            "flex": null,
            "flex_flow": null,
            "grid_area": null,
            "grid_auto_columns": null,
            "grid_auto_flow": null,
            "grid_auto_rows": null,
            "grid_column": null,
            "grid_gap": null,
            "grid_row": null,
            "grid_template_areas": null,
            "grid_template_columns": null,
            "grid_template_rows": null,
            "height": null,
            "justify_content": null,
            "justify_items": null,
            "left": null,
            "margin": null,
            "max_height": null,
            "max_width": null,
            "min_height": null,
            "min_width": null,
            "object_fit": null,
            "object_position": null,
            "order": null,
            "overflow": null,
            "overflow_x": null,
            "overflow_y": null,
            "padding": null,
            "right": null,
            "top": null,
            "visibility": null,
            "width": null
          }
        },
        "d319c6d3e95e4031a0c33b59260f4adc": {
          "model_module": "@jupyter-widgets/controls",
          "model_name": "DescriptionStyleModel",
          "state": {
            "_model_module": "@jupyter-widgets/controls",
            "_model_module_version": "1.5.0",
            "_model_name": "DescriptionStyleModel",
            "_view_count": null,
            "_view_module": "@jupyter-widgets/base",
            "_view_module_version": "1.2.0",
            "_view_name": "StyleView",
            "description_width": ""
          }
        }
      }
    }
  },
  "cells": [
    {
      "cell_type": "markdown",
      "metadata": {
        "id": "view-in-github",
        "colab_type": "text"
      },
      "source": [
        "<a href=\"https://colab.research.google.com/github/art-glazunov/Non-standard-categorical-encodings/blob/main/LSA_encoding.ipynb\" target=\"_parent\"><img src=\"https://colab.research.google.com/assets/colab-badge.svg\" alt=\"Open In Colab\"/></a>"
      ]
    },
    {
      "cell_type": "markdown",
      "metadata": {
        "id": "3suS_rdRFeKA"
      },
      "source": [
        "# Non-standard categorical encodings\n",
        "by Artyom Glazunov\n",
        "#Part 1. Direct conversion to texts + topic modeling\n",
        "\n"
      ]
    },
    {
      "cell_type": "markdown",
      "metadata": {
        "id": "UY4nT1EZzbK1"
      },
      "source": [
        "### In this notebook, you can check out how topic modeling can help with categorical encoding and getting object embeddings in unsupervised manner. Such embeddings can be useful for solving many supervised and unsupervised learning tasks.\n",
        "\n",
        "*In my experiments, I did not use specific random_states, so your results may differ from mine.*"
      ]
    },
    {
      "cell_type": "code",
      "metadata": {
        "colab": {
          "base_uri": "https://localhost:8080/"
        },
        "id": "CjfSaem_zayj",
        "outputId": "894d2c58-4e65-4956-ec4f-63abd6337e78"
      },
      "source": [
        "!pip install scikit-learn==0.24.1 --quiet"
      ],
      "execution_count": null,
      "outputs": [
        {
          "output_type": "stream",
          "text": [
            "\u001b[K     |████████████████████████████████| 22.3MB 1.7MB/s \n",
            "\u001b[?25h"
          ],
          "name": "stdout"
        }
      ]
    },
    {
      "cell_type": "code",
      "metadata": {
        "id": "06Xvfnh3iF3y"
      },
      "source": [
        "import pandas as pd\n",
        "import numpy as np\n",
        "import lightgbm as lgb\n",
        "from sklearn.linear_model import LogisticRegression\n",
        "from sklearn.naive_bayes import MultinomialNB\n",
        "import gensim\n",
        "import gensim.corpora as corpora\n",
        "\n",
        "import sklearn\n",
        "from sklearn.preprocessing import OrdinalEncoder, OneHotEncoder, StandardScaler\n",
        "from sklearn.feature_extraction.text import CountVectorizer, TfidfVectorizer\n",
        "from sklearn.pipeline import Pipeline\n",
        "from sklearn.metrics import roc_auc_score\n",
        "\n",
        "from sklearn.manifold import TSNE, MDS\n",
        "\n",
        "from sklearn.model_selection import train_test_split\n",
        "\n",
        "from tqdm.notebook import tqdm\n",
        "import matplotlib.pyplot as plt\n",
        "\n",
        "import warnings\n",
        "warnings.filterwarnings(\"ignore\")"
      ],
      "execution_count": null,
      "outputs": []
    },
    {
      "cell_type": "code",
      "metadata": {
        "colab": {
          "base_uri": "https://localhost:8080/",
          "height": 35
        },
        "id": "kQljMDTr3Nro",
        "outputId": "755ba935-a4db-46a3-8516-6497a3a2d856"
      },
      "source": [
        "sklearn.__version__"
      ],
      "execution_count": null,
      "outputs": [
        {
          "output_type": "execute_result",
          "data": {
            "application/vnd.google.colaboratory.intrinsic+json": {
              "type": "string"
            },
            "text/plain": [
              "'0.24.1'"
            ]
          },
          "metadata": {
            "tags": []
          },
          "execution_count": 4
        }
      ]
    },
    {
      "cell_type": "markdown",
      "metadata": {
        "id": "h-VtAtregUZu"
      },
      "source": [
        "Download our train dataset from https://www.kaggle.com/c/cat-in-the-dat/data?select=train.csv into your directory, here I use a folder on my Google Drive to store the data. Of course, you can simply load the data into the folder on the left, without Google Drive. But if you want to mount your drive, you can do as instructed here https://towardsdatascience.com/downloading-datasets-into-google-drive-via-google-colab-bcb1b30b0166, *or just use a button on the left panel*). "
      ]
    },
    {
      "cell_type": "markdown",
      "metadata": {
        "id": "aTzIvHOF5Im3"
      },
      "source": [
        "Change working dir"
      ]
    },
    {
      "cell_type": "code",
      "metadata": {
        "id": "3g9TtZRym044"
      },
      "source": [
        "cd /content/drive/MyDrive/Colab_Notebooks/datafest/article"
      ],
      "execution_count": null,
      "outputs": []
    },
    {
      "cell_type": "markdown",
      "metadata": {
        "id": "m_1jhJxpvi-D"
      },
      "source": [
        "Check the folder"
      ]
    },
    {
      "cell_type": "code",
      "metadata": {
        "colab": {
          "base_uri": "https://localhost:8080/"
        },
        "id": "bBoBnev2m7k6",
        "outputId": "24cab130-ddc7-437a-8b67-393ee6aa529f"
      },
      "source": [
        "!ls"
      ],
      "execution_count": null,
      "outputs": [
        {
          "output_type": "stream",
          "text": [
            "LSA_encoding.ipynb  train.csv\n"
          ],
          "name": "stdout"
        }
      ]
    },
    {
      "cell_type": "markdown",
      "metadata": {
        "id": "_X-oDbNSu8Lf"
      },
      "source": [
        "Our file is here, let's load the data and split it into train and test parts"
      ]
    },
    {
      "cell_type": "code",
      "metadata": {
        "colab": {
          "base_uri": "https://localhost:8080/",
          "height": 297
        },
        "id": "OA-FCh4dl3vJ",
        "outputId": "3ec10ca8-7940-4102-eb1a-25a0a173ff51"
      },
      "source": [
        "data = pd.read_csv('train.csv', index_col = 'id')\n",
        "train = data.iloc[:-70000]\n",
        "print(train.shape)\n",
        "train.head()"
      ],
      "execution_count": null,
      "outputs": [
        {
          "output_type": "stream",
          "text": [
            "(230000, 24)\n"
          ],
          "name": "stdout"
        },
        {
          "output_type": "execute_result",
          "data": {
            "text/html": [
              "<div>\n",
              "<style scoped>\n",
              "    .dataframe tbody tr th:only-of-type {\n",
              "        vertical-align: middle;\n",
              "    }\n",
              "\n",
              "    .dataframe tbody tr th {\n",
              "        vertical-align: top;\n",
              "    }\n",
              "\n",
              "    .dataframe thead th {\n",
              "        text-align: right;\n",
              "    }\n",
              "</style>\n",
              "<table border=\"1\" class=\"dataframe\">\n",
              "  <thead>\n",
              "    <tr style=\"text-align: right;\">\n",
              "      <th></th>\n",
              "      <th>bin_0</th>\n",
              "      <th>bin_1</th>\n",
              "      <th>bin_2</th>\n",
              "      <th>bin_3</th>\n",
              "      <th>bin_4</th>\n",
              "      <th>nom_0</th>\n",
              "      <th>nom_1</th>\n",
              "      <th>nom_2</th>\n",
              "      <th>nom_3</th>\n",
              "      <th>nom_4</th>\n",
              "      <th>nom_5</th>\n",
              "      <th>nom_6</th>\n",
              "      <th>nom_7</th>\n",
              "      <th>nom_8</th>\n",
              "      <th>nom_9</th>\n",
              "      <th>ord_0</th>\n",
              "      <th>ord_1</th>\n",
              "      <th>ord_2</th>\n",
              "      <th>ord_3</th>\n",
              "      <th>ord_4</th>\n",
              "      <th>ord_5</th>\n",
              "      <th>day</th>\n",
              "      <th>month</th>\n",
              "      <th>target</th>\n",
              "    </tr>\n",
              "    <tr>\n",
              "      <th>id</th>\n",
              "      <th></th>\n",
              "      <th></th>\n",
              "      <th></th>\n",
              "      <th></th>\n",
              "      <th></th>\n",
              "      <th></th>\n",
              "      <th></th>\n",
              "      <th></th>\n",
              "      <th></th>\n",
              "      <th></th>\n",
              "      <th></th>\n",
              "      <th></th>\n",
              "      <th></th>\n",
              "      <th></th>\n",
              "      <th></th>\n",
              "      <th></th>\n",
              "      <th></th>\n",
              "      <th></th>\n",
              "      <th></th>\n",
              "      <th></th>\n",
              "      <th></th>\n",
              "      <th></th>\n",
              "      <th></th>\n",
              "      <th></th>\n",
              "    </tr>\n",
              "  </thead>\n",
              "  <tbody>\n",
              "    <tr>\n",
              "      <th>0</th>\n",
              "      <td>0</td>\n",
              "      <td>0</td>\n",
              "      <td>0</td>\n",
              "      <td>T</td>\n",
              "      <td>Y</td>\n",
              "      <td>Green</td>\n",
              "      <td>Triangle</td>\n",
              "      <td>Snake</td>\n",
              "      <td>Finland</td>\n",
              "      <td>Bassoon</td>\n",
              "      <td>50f116bcf</td>\n",
              "      <td>3ac1b8814</td>\n",
              "      <td>68f6ad3e9</td>\n",
              "      <td>c389000ab</td>\n",
              "      <td>2f4cb3d51</td>\n",
              "      <td>2</td>\n",
              "      <td>Grandmaster</td>\n",
              "      <td>Cold</td>\n",
              "      <td>h</td>\n",
              "      <td>D</td>\n",
              "      <td>kr</td>\n",
              "      <td>2</td>\n",
              "      <td>2</td>\n",
              "      <td>0</td>\n",
              "    </tr>\n",
              "    <tr>\n",
              "      <th>1</th>\n",
              "      <td>0</td>\n",
              "      <td>1</td>\n",
              "      <td>0</td>\n",
              "      <td>T</td>\n",
              "      <td>Y</td>\n",
              "      <td>Green</td>\n",
              "      <td>Trapezoid</td>\n",
              "      <td>Hamster</td>\n",
              "      <td>Russia</td>\n",
              "      <td>Piano</td>\n",
              "      <td>b3b4d25d0</td>\n",
              "      <td>fbcb50fc1</td>\n",
              "      <td>3b6dd5612</td>\n",
              "      <td>4cd920251</td>\n",
              "      <td>f83c56c21</td>\n",
              "      <td>1</td>\n",
              "      <td>Grandmaster</td>\n",
              "      <td>Hot</td>\n",
              "      <td>a</td>\n",
              "      <td>A</td>\n",
              "      <td>bF</td>\n",
              "      <td>7</td>\n",
              "      <td>8</td>\n",
              "      <td>0</td>\n",
              "    </tr>\n",
              "    <tr>\n",
              "      <th>2</th>\n",
              "      <td>0</td>\n",
              "      <td>0</td>\n",
              "      <td>0</td>\n",
              "      <td>F</td>\n",
              "      <td>Y</td>\n",
              "      <td>Blue</td>\n",
              "      <td>Trapezoid</td>\n",
              "      <td>Lion</td>\n",
              "      <td>Russia</td>\n",
              "      <td>Theremin</td>\n",
              "      <td>3263bdce5</td>\n",
              "      <td>0922e3cb8</td>\n",
              "      <td>a6a36f527</td>\n",
              "      <td>de9c9f684</td>\n",
              "      <td>ae6800dd0</td>\n",
              "      <td>1</td>\n",
              "      <td>Expert</td>\n",
              "      <td>Lava Hot</td>\n",
              "      <td>h</td>\n",
              "      <td>R</td>\n",
              "      <td>Jc</td>\n",
              "      <td>7</td>\n",
              "      <td>2</td>\n",
              "      <td>0</td>\n",
              "    </tr>\n",
              "    <tr>\n",
              "      <th>3</th>\n",
              "      <td>0</td>\n",
              "      <td>1</td>\n",
              "      <td>0</td>\n",
              "      <td>F</td>\n",
              "      <td>Y</td>\n",
              "      <td>Red</td>\n",
              "      <td>Trapezoid</td>\n",
              "      <td>Snake</td>\n",
              "      <td>Canada</td>\n",
              "      <td>Oboe</td>\n",
              "      <td>f12246592</td>\n",
              "      <td>50d7ad46a</td>\n",
              "      <td>ec69236eb</td>\n",
              "      <td>4ade6ab69</td>\n",
              "      <td>8270f0d71</td>\n",
              "      <td>1</td>\n",
              "      <td>Grandmaster</td>\n",
              "      <td>Boiling Hot</td>\n",
              "      <td>i</td>\n",
              "      <td>D</td>\n",
              "      <td>kW</td>\n",
              "      <td>2</td>\n",
              "      <td>1</td>\n",
              "      <td>1</td>\n",
              "    </tr>\n",
              "    <tr>\n",
              "      <th>4</th>\n",
              "      <td>0</td>\n",
              "      <td>0</td>\n",
              "      <td>0</td>\n",
              "      <td>F</td>\n",
              "      <td>N</td>\n",
              "      <td>Red</td>\n",
              "      <td>Trapezoid</td>\n",
              "      <td>Lion</td>\n",
              "      <td>Canada</td>\n",
              "      <td>Oboe</td>\n",
              "      <td>5b0f5acd5</td>\n",
              "      <td>1fe17a1fd</td>\n",
              "      <td>04ddac2be</td>\n",
              "      <td>cb43ab175</td>\n",
              "      <td>b164b72a7</td>\n",
              "      <td>1</td>\n",
              "      <td>Grandmaster</td>\n",
              "      <td>Freezing</td>\n",
              "      <td>a</td>\n",
              "      <td>R</td>\n",
              "      <td>qP</td>\n",
              "      <td>7</td>\n",
              "      <td>8</td>\n",
              "      <td>0</td>\n",
              "    </tr>\n",
              "  </tbody>\n",
              "</table>\n",
              "</div>"
            ],
            "text/plain": [
              "    bin_0  bin_1  bin_2 bin_3 bin_4  ... ord_4 ord_5 day month target\n",
              "id                                   ...                             \n",
              "0       0      0      0     T     Y  ...     D    kr   2     2      0\n",
              "1       0      1      0     T     Y  ...     A    bF   7     8      0\n",
              "2       0      0      0     F     Y  ...     R    Jc   7     2      0\n",
              "3       0      1      0     F     Y  ...     D    kW   2     1      1\n",
              "4       0      0      0     F     N  ...     R    qP   7     8      0\n",
              "\n",
              "[5 rows x 24 columns]"
            ]
          },
          "metadata": {
            "tags": []
          },
          "execution_count": 7
        }
      ]
    },
    {
      "cell_type": "code",
      "metadata": {
        "colab": {
          "base_uri": "https://localhost:8080/",
          "height": 314
        },
        "id": "crjPBEmFmkqk",
        "outputId": "2f0cc5be-e136-4d10-befd-a9929c479478"
      },
      "source": [
        "test = data.iloc[-70000:]\n",
        "print(test.shape)\n",
        "test.head()"
      ],
      "execution_count": null,
      "outputs": [
        {
          "output_type": "stream",
          "text": [
            "(70000, 24)\n"
          ],
          "name": "stdout"
        },
        {
          "output_type": "execute_result",
          "data": {
            "text/html": [
              "<div>\n",
              "<style scoped>\n",
              "    .dataframe tbody tr th:only-of-type {\n",
              "        vertical-align: middle;\n",
              "    }\n",
              "\n",
              "    .dataframe tbody tr th {\n",
              "        vertical-align: top;\n",
              "    }\n",
              "\n",
              "    .dataframe thead th {\n",
              "        text-align: right;\n",
              "    }\n",
              "</style>\n",
              "<table border=\"1\" class=\"dataframe\">\n",
              "  <thead>\n",
              "    <tr style=\"text-align: right;\">\n",
              "      <th></th>\n",
              "      <th>bin_0</th>\n",
              "      <th>bin_1</th>\n",
              "      <th>bin_2</th>\n",
              "      <th>bin_3</th>\n",
              "      <th>bin_4</th>\n",
              "      <th>nom_0</th>\n",
              "      <th>nom_1</th>\n",
              "      <th>nom_2</th>\n",
              "      <th>nom_3</th>\n",
              "      <th>nom_4</th>\n",
              "      <th>nom_5</th>\n",
              "      <th>nom_6</th>\n",
              "      <th>nom_7</th>\n",
              "      <th>nom_8</th>\n",
              "      <th>nom_9</th>\n",
              "      <th>ord_0</th>\n",
              "      <th>ord_1</th>\n",
              "      <th>ord_2</th>\n",
              "      <th>ord_3</th>\n",
              "      <th>ord_4</th>\n",
              "      <th>ord_5</th>\n",
              "      <th>day</th>\n",
              "      <th>month</th>\n",
              "      <th>target</th>\n",
              "    </tr>\n",
              "    <tr>\n",
              "      <th>id</th>\n",
              "      <th></th>\n",
              "      <th></th>\n",
              "      <th></th>\n",
              "      <th></th>\n",
              "      <th></th>\n",
              "      <th></th>\n",
              "      <th></th>\n",
              "      <th></th>\n",
              "      <th></th>\n",
              "      <th></th>\n",
              "      <th></th>\n",
              "      <th></th>\n",
              "      <th></th>\n",
              "      <th></th>\n",
              "      <th></th>\n",
              "      <th></th>\n",
              "      <th></th>\n",
              "      <th></th>\n",
              "      <th></th>\n",
              "      <th></th>\n",
              "      <th></th>\n",
              "      <th></th>\n",
              "      <th></th>\n",
              "      <th></th>\n",
              "    </tr>\n",
              "  </thead>\n",
              "  <tbody>\n",
              "    <tr>\n",
              "      <th>230000</th>\n",
              "      <td>1</td>\n",
              "      <td>1</td>\n",
              "      <td>0</td>\n",
              "      <td>F</td>\n",
              "      <td>Y</td>\n",
              "      <td>Green</td>\n",
              "      <td>Square</td>\n",
              "      <td>Dog</td>\n",
              "      <td>Russia</td>\n",
              "      <td>Piano</td>\n",
              "      <td>92190168b</td>\n",
              "      <td>fa498a5ae</td>\n",
              "      <td>d10553e7e</td>\n",
              "      <td>80be47228</td>\n",
              "      <td>47d38e9d3</td>\n",
              "      <td>1</td>\n",
              "      <td>Master</td>\n",
              "      <td>Lava Hot</td>\n",
              "      <td>e</td>\n",
              "      <td>U</td>\n",
              "      <td>MO</td>\n",
              "      <td>4</td>\n",
              "      <td>2</td>\n",
              "      <td>0</td>\n",
              "    </tr>\n",
              "    <tr>\n",
              "      <th>230001</th>\n",
              "      <td>0</td>\n",
              "      <td>0</td>\n",
              "      <td>0</td>\n",
              "      <td>T</td>\n",
              "      <td>Y</td>\n",
              "      <td>Red</td>\n",
              "      <td>Star</td>\n",
              "      <td>Lion</td>\n",
              "      <td>Canada</td>\n",
              "      <td>Piano</td>\n",
              "      <td>e7d9ca356</td>\n",
              "      <td>0b23e3352</td>\n",
              "      <td>40f84f6de</td>\n",
              "      <td>333f46907</td>\n",
              "      <td>e9e56a3f8</td>\n",
              "      <td>1</td>\n",
              "      <td>Expert</td>\n",
              "      <td>Boiling Hot</td>\n",
              "      <td>i</td>\n",
              "      <td>O</td>\n",
              "      <td>CM</td>\n",
              "      <td>1</td>\n",
              "      <td>1</td>\n",
              "      <td>0</td>\n",
              "    </tr>\n",
              "    <tr>\n",
              "      <th>230002</th>\n",
              "      <td>0</td>\n",
              "      <td>0</td>\n",
              "      <td>0</td>\n",
              "      <td>F</td>\n",
              "      <td>Y</td>\n",
              "      <td>Red</td>\n",
              "      <td>Circle</td>\n",
              "      <td>Cat</td>\n",
              "      <td>Canada</td>\n",
              "      <td>Bassoon</td>\n",
              "      <td>a3f640358</td>\n",
              "      <td>9b1c3c8b7</td>\n",
              "      <td>d1586e0e0</td>\n",
              "      <td>1b9339c49</td>\n",
              "      <td>973983691</td>\n",
              "      <td>3</td>\n",
              "      <td>Grandmaster</td>\n",
              "      <td>Freezing</td>\n",
              "      <td>b</td>\n",
              "      <td>T</td>\n",
              "      <td>RL</td>\n",
              "      <td>3</td>\n",
              "      <td>8</td>\n",
              "      <td>1</td>\n",
              "    </tr>\n",
              "    <tr>\n",
              "      <th>230003</th>\n",
              "      <td>1</td>\n",
              "      <td>0</td>\n",
              "      <td>0</td>\n",
              "      <td>T</td>\n",
              "      <td>N</td>\n",
              "      <td>Green</td>\n",
              "      <td>Trapezoid</td>\n",
              "      <td>Hamster</td>\n",
              "      <td>Costa Rica</td>\n",
              "      <td>Bassoon</td>\n",
              "      <td>0b3bec656</td>\n",
              "      <td>603232dea</td>\n",
              "      <td>5387ed7d2</td>\n",
              "      <td>da8be1022</td>\n",
              "      <td>508c9de37</td>\n",
              "      <td>1</td>\n",
              "      <td>Novice</td>\n",
              "      <td>Warm</td>\n",
              "      <td>e</td>\n",
              "      <td>U</td>\n",
              "      <td>Qo</td>\n",
              "      <td>2</td>\n",
              "      <td>11</td>\n",
              "      <td>0</td>\n",
              "    </tr>\n",
              "    <tr>\n",
              "      <th>230004</th>\n",
              "      <td>1</td>\n",
              "      <td>0</td>\n",
              "      <td>0</td>\n",
              "      <td>T</td>\n",
              "      <td>Y</td>\n",
              "      <td>Blue</td>\n",
              "      <td>Star</td>\n",
              "      <td>Axolotl</td>\n",
              "      <td>Canada</td>\n",
              "      <td>Piano</td>\n",
              "      <td>4173a0252</td>\n",
              "      <td>c135cdf77</td>\n",
              "      <td>91cd074b1</td>\n",
              "      <td>1a2fd4686</td>\n",
              "      <td>75193d88a</td>\n",
              "      <td>3</td>\n",
              "      <td>Novice</td>\n",
              "      <td>Hot</td>\n",
              "      <td>g</td>\n",
              "      <td>U</td>\n",
              "      <td>LE</td>\n",
              "      <td>4</td>\n",
              "      <td>12</td>\n",
              "      <td>1</td>\n",
              "    </tr>\n",
              "  </tbody>\n",
              "</table>\n",
              "</div>"
            ],
            "text/plain": [
              "        bin_0  bin_1  bin_2 bin_3 bin_4  ... ord_4 ord_5 day month target\n",
              "id                                       ...                             \n",
              "230000      1      1      0     F     Y  ...     U    MO   4     2      0\n",
              "230001      0      0      0     T     Y  ...     O    CM   1     1      0\n",
              "230002      0      0      0     F     Y  ...     T    RL   3     8      1\n",
              "230003      1      0      0     T     N  ...     U    Qo   2    11      0\n",
              "230004      1      0      0     T     Y  ...     U    LE   4    12      1\n",
              "\n",
              "[5 rows x 24 columns]"
            ]
          },
          "metadata": {
            "tags": []
          },
          "execution_count": 8
        }
      ]
    },
    {
      "cell_type": "markdown",
      "metadata": {
        "id": "X0-56z1WhOsp"
      },
      "source": [
        "Select only features"
      ]
    },
    {
      "cell_type": "code",
      "metadata": {
        "colab": {
          "base_uri": "https://localhost:8080/"
        },
        "id": "5C9T_UF1nv1p",
        "outputId": "a11191a2-58cc-401f-a3e5-a450eaee9e62"
      },
      "source": [
        "categorical_cols = [col for col in train.columns if col != 'target']\n",
        "print(categorical_cols)\n",
        "len(categorical_cols)"
      ],
      "execution_count": null,
      "outputs": [
        {
          "output_type": "stream",
          "text": [
            "['bin_0', 'bin_1', 'bin_2', 'bin_3', 'bin_4', 'nom_0', 'nom_1', 'nom_2', 'nom_3', 'nom_4', 'nom_5', 'nom_6', 'nom_7', 'nom_8', 'nom_9', 'ord_0', 'ord_1', 'ord_2', 'ord_3', 'ord_4', 'ord_5', 'day', 'month']\n"
          ],
          "name": "stdout"
        },
        {
          "output_type": "execute_result",
          "data": {
            "text/plain": [
              "23"
            ]
          },
          "metadata": {
            "tags": []
          },
          "execution_count": 9
        }
      ]
    },
    {
      "cell_type": "markdown",
      "metadata": {
        "id": "j5EcGVzuvuU_"
      },
      "source": [
        "So, get the data in a convenient format"
      ]
    },
    {
      "cell_type": "code",
      "metadata": {
        "id": "h2R2r_mNqyKd"
      },
      "source": [
        "X_train = train[categorical_cols]\n",
        "y_train = train['target']\n",
        "X_test = test[categorical_cols]\n",
        "y_test = test['target']"
      ],
      "execution_count": null,
      "outputs": []
    },
    {
      "cell_type": "markdown",
      "metadata": {
        "id": "_-p3sH2Z8S5r"
      },
      "source": [
        "## BASE\n",
        "Let's use ordinary encoding methods to get results for comparison."
      ]
    },
    {
      "cell_type": "markdown",
      "metadata": {
        "id": "vul0IyCSiCeG"
      },
      "source": [
        "LightGBM (out-of-the-box handler)"
      ]
    },
    {
      "cell_type": "code",
      "metadata": {
        "colab": {
          "base_uri": "https://localhost:8080/"
        },
        "id": "N0PQ3I50q__e",
        "outputId": "f8efd3ef-97f7-4c9b-a8e1-b5de68f5163e"
      },
      "source": [
        "%%time\n",
        "def to_pd_categorical(data):\n",
        "  \"\"\"change the format of data to categorical\"\"\"\n",
        "  X = data.copy()\n",
        "  for col in X.columns:\n",
        "    X[col] = pd.Categorical(X[col])\n",
        "  return X\n",
        "\n",
        "lgbm_clf = lgb.LGBMClassifier()\n",
        "lgbm_clf.fit(to_pd_categorical(X_train), y_train)\n",
        "probs = lgbm_clf.predict_proba(to_pd_categorical(X_test))\n",
        "score_lgbm_default = roc_auc_score(y_test, probs[:,1])\n",
        "print(score_lgbm_default)"
      ],
      "execution_count": null,
      "outputs": [
        {
          "output_type": "stream",
          "text": [
            "0.783034361531605\n",
            "CPU times: user 14.3 s, sys: 32.4 ms, total: 14.3 s\n",
            "Wall time: 7.75 s\n"
          ],
          "name": "stdout"
        }
      ]
    },
    {
      "cell_type": "markdown",
      "metadata": {
        "id": "grfsp19HjPS5"
      },
      "source": [
        "LightGBM (OHE)"
      ]
    },
    {
      "cell_type": "code",
      "metadata": {
        "colab": {
          "base_uri": "https://localhost:8080/"
        },
        "id": "CSIYUUML1pWP",
        "outputId": "a02c1a41-152a-4943-f429-3576ac433771"
      },
      "source": [
        "%%time\n",
        "ohe = OneHotEncoder(handle_unknown='ignore')\n",
        "lgbm_clf = lgb.LGBMClassifier()\n",
        "lgbm_ohe_clf = Pipeline([\n",
        "                          ('encoder', ohe),\n",
        "                          ('classifier', lgbm_clf)\n",
        "                        ])\n",
        "lgbm_ohe_clf.fit(X_train, y_train)\n",
        "probs = lgbm_ohe_clf.predict_proba(X_test)\n",
        "score_lgbm_ohe = roc_auc_score(y_test, probs[:,1])\n",
        "print(score_lgbm_ohe)"
      ],
      "execution_count": null,
      "outputs": [
        {
          "output_type": "stream",
          "text": [
            "0.7566672479254364\n",
            "CPU times: user 18.9 s, sys: 64.6 ms, total: 19 s\n",
            "Wall time: 6.53 s\n"
          ],
          "name": "stdout"
        }
      ]
    },
    {
      "cell_type": "markdown",
      "metadata": {
        "id": "cnSAKWhxjlHJ"
      },
      "source": [
        "Logistic Regression (OHE)"
      ]
    },
    {
      "cell_type": "code",
      "metadata": {
        "colab": {
          "base_uri": "https://localhost:8080/"
        },
        "id": "zYBAGbF8kB_E",
        "outputId": "51683ce9-ccd7-43f0-cf2f-fe112a3509d1"
      },
      "source": [
        "%%time\n",
        "ohe = OneHotEncoder(handle_unknown='ignore')\n",
        "model_lr = LogisticRegression()\n",
        "lr_ohe_clf = Pipeline([\n",
        "                        ('encoder', ohe),\n",
        "                        ('classifier', model_lr)\n",
        "                      ])\n",
        "lr_ohe_clf.fit(X_train, y_train)\n",
        "probs = lr_ohe_clf.predict_proba(X_test)\n",
        "score_lr_ohe = roc_auc_score(y_test, probs[:,1])\n",
        "print(score_lr_ohe)"
      ],
      "execution_count": null,
      "outputs": [
        {
          "output_type": "stream",
          "text": [
            "0.8001741054831377\n",
            "CPU times: user 12.3 s, sys: 31.2 s, total: 43.5 s\n",
            "Wall time: 12.4 s\n"
          ],
          "name": "stdout"
        }
      ]
    },
    {
      "cell_type": "markdown",
      "metadata": {
        "id": "qm-xRco68Va8"
      },
      "source": [
        "Let's look at the dimemsionality after OHE."
      ]
    },
    {
      "cell_type": "code",
      "metadata": {
        "colab": {
          "base_uri": "https://localhost:8080/"
        },
        "id": "rT67zh3W8Frx",
        "outputId": "ff0aaaee-5efe-4396-a80d-88c9c94aa7fe"
      },
      "source": [
        "ohe = OneHotEncoder(handle_unknown='ignore')\n",
        "X_ohe = ohe.fit_transform(X_train)\n",
        "X_ohe.shape"
      ],
      "execution_count": null,
      "outputs": [
        {
          "output_type": "execute_result",
          "data": {
            "text/plain": [
              "(230000, 16380)"
            ]
          },
          "metadata": {
            "tags": []
          },
          "execution_count": 45
        }
      ]
    },
    {
      "cell_type": "markdown",
      "metadata": {
        "id": "DLmaYuKj8bfJ"
      },
      "source": [
        "Very big, isn't it?) We had two dozens of features and now we have more than 16 thousand! Embeddings will show that we can pack almost all of the original information into dimensionality of 700!"
      ]
    },
    {
      "cell_type": "markdown",
      "metadata": {
        "id": "nlLqx58TkUWq"
      },
      "source": [
        "Logistic Regression (ordinal, scaled)"
      ]
    },
    {
      "cell_type": "code",
      "metadata": {
        "colab": {
          "base_uri": "https://localhost:8080/"
        },
        "id": "U1lBRWGykmFz",
        "outputId": "f2561af1-80ea-4586-940c-31f0c73cb5e9"
      },
      "source": [
        "%%time\n",
        "ord_enc = OrdinalEncoder(handle_unknown='use_encoded_value', unknown_value=-1)\n",
        "model_lr = LogisticRegression()\n",
        "lr_oe_clf = Pipeline([\n",
        "                      ('encoder', ord_enc),\n",
        "                      ('scaler', StandardScaler()),\n",
        "                      ('classifier', model_lr)\n",
        "                    ])\n",
        "lr_oe_clf.fit(X_train, y_train)\n",
        "probs = lr_oe_clf.predict_proba(X_test)\n",
        "score_lr_oe = roc_auc_score(y_test, probs[:,1])\n",
        "print(score_lr_oe)"
      ],
      "execution_count": null,
      "outputs": [
        {
          "output_type": "stream",
          "text": [
            "0.7194894718221823\n",
            "CPU times: user 2.29 s, sys: 963 ms, total: 3.25 s\n",
            "Wall time: 2.03 s\n"
          ],
          "name": "stdout"
        }
      ]
    },
    {
      "cell_type": "markdown",
      "metadata": {
        "id": "PbHqeqtI8XCM"
      },
      "source": [
        "## Embeddings"
      ]
    },
    {
      "cell_type": "markdown",
      "metadata": {
        "id": "dTCZN5ffUZNM"
      },
      "source": [
        "## Preprocessing"
      ]
    },
    {
      "cell_type": "markdown",
      "metadata": {
        "id": "lgpEGKKxlYUv"
      },
      "source": [
        "Let's create texts from our rows of data"
      ]
    },
    {
      "cell_type": "code",
      "metadata": {
        "id": "fBwwqX6yBLGq"
      },
      "source": [
        "def categorical_to_texts(data):\n",
        "  \"\"\"Transform categorical data rows into texts as follows:\n",
        "  “Var1Name_Value1 Var2Name_Value2 …”\n",
        "  \"\"\"\n",
        "  new_data_list = []\n",
        "  columns = list(data.columns)\n",
        "  for line in tqdm(data.values):\n",
        "    new_line = ''\n",
        "    for pair in zip(columns, line):\n",
        "      new_line = new_line + f'{pair[0]}_{pair[1]} '\n",
        "    new_data_list.append(new_line)\n",
        "  return new_data_list"
      ],
      "execution_count": null,
      "outputs": []
    },
    {
      "cell_type": "code",
      "metadata": {
        "colab": {
          "base_uri": "https://localhost:8080/",
          "height": 149,
          "referenced_widgets": [
            "7d59845aff9a4a80b49098c41bb71928",
            "0cf4dc4fd2124d8e8286beef88f95f21",
            "bcc7ac7888624e048a31a55e25832125",
            "b2f91cedeff44857b4d12447013fe153",
            "99570c71ad8d4764b82de3160ddfc7d1",
            "8b006be5747a4cdb8948cda6fe918efe",
            "e2f865f9bf2e40708b6a0914272e1c9b",
            "fb3cf754116a4318a963dcff1669407e",
            "a6f4a7653da046acac979f1bcbc50e5a",
            "5aba4061bc99438f94f0855774a8d202",
            "d324604a712b4a60964f0dc469b4a08e",
            "456b7cfa8d854f0aada30156748933a3",
            "a7c062d0a5924d47b036603721a58155",
            "6f20602574e54f25a42b0e423755e4fb",
            "63e44ec75ff541e9ab556ef96dba0cc9",
            "0dbecc2782f24ec9951613a1e85e3a83"
          ]
        },
        "id": "1rpPeSOlD0l5",
        "outputId": "96e7a46e-9743-4bd3-f4b2-f30a83d91930"
      },
      "source": [
        "X_train_texts = categorical_to_texts(X_train)\n",
        "X_test_texts = categorical_to_texts(X_test)\n",
        "X_train_texts[1]"
      ],
      "execution_count": null,
      "outputs": [
        {
          "output_type": "display_data",
          "data": {
            "application/vnd.jupyter.widget-view+json": {
              "model_id": "7d59845aff9a4a80b49098c41bb71928",
              "version_minor": 0,
              "version_major": 2
            },
            "text/plain": [
              "HBox(children=(FloatProgress(value=0.0, max=230000.0), HTML(value='')))"
            ]
          },
          "metadata": {
            "tags": []
          }
        },
        {
          "output_type": "stream",
          "text": [
            "\n"
          ],
          "name": "stdout"
        },
        {
          "output_type": "display_data",
          "data": {
            "application/vnd.jupyter.widget-view+json": {
              "model_id": "a6f4a7653da046acac979f1bcbc50e5a",
              "version_minor": 0,
              "version_major": 2
            },
            "text/plain": [
              "HBox(children=(FloatProgress(value=0.0, max=70000.0), HTML(value='')))"
            ]
          },
          "metadata": {
            "tags": []
          }
        },
        {
          "output_type": "stream",
          "text": [
            "\n"
          ],
          "name": "stdout"
        },
        {
          "output_type": "execute_result",
          "data": {
            "application/vnd.google.colaboratory.intrinsic+json": {
              "type": "string"
            },
            "text/plain": [
              "'bin_0_0 bin_1_1 bin_2_0 bin_3_T bin_4_Y nom_0_Green nom_1_Trapezoid nom_2_Hamster nom_3_Russia nom_4_Piano nom_5_b3b4d25d0 nom_6_fbcb50fc1 nom_7_3b6dd5612 nom_8_4cd920251 nom_9_f83c56c21 ord_0_1 ord_1_Grandmaster ord_2_Hot ord_3_a ord_4_A ord_5_bF day_7 month_8 '"
            ]
          },
          "metadata": {
            "tags": []
          },
          "execution_count": 14
        }
      ]
    },
    {
      "cell_type": "markdown",
      "metadata": {
        "id": "ikPjW50eli-3"
      },
      "source": [
        "To prepare the data for LSA we need to somehow vectorize it. Let's use CountVectorizer, consider unigrams and bigrams, and get rid of too rare and frequent tokens."
      ]
    },
    {
      "cell_type": "code",
      "metadata": {
        "colab": {
          "base_uri": "https://localhost:8080/"
        },
        "id": "TOgc6ydy_kza",
        "outputId": "33dac399-45c2-4fe7-a216-89e62fdbe680"
      },
      "source": [
        "vectorizer = CountVectorizer(ngram_range=(1, 2),min_df=10,max_df=0.2)\n",
        "bow_matrix = vectorizer.fit_transform(X_train_texts)\n",
        "bow_matrix.shape"
      ],
      "execution_count": null,
      "outputs": [
        {
          "output_type": "execute_result",
          "data": {
            "text/plain": [
              "(230000, 28849)"
            ]
          },
          "metadata": {
            "tags": []
          },
          "execution_count": 15
        }
      ]
    },
    {
      "cell_type": "markdown",
      "metadata": {
        "id": "4-htznrzmnS_"
      },
      "source": [
        "Then make the data compatible with the gensim library."
      ]
    },
    {
      "cell_type": "code",
      "metadata": {
        "id": "N-tbUscN_2PL"
      },
      "source": [
        "def vect2gensim(vectorizer, dtmatrix):\n",
        "    \"\"\" transform sparse matrix into gensim corpus and dictionary \"\"\"\n",
        "    corpus_vect_gensim = gensim.matutils.Sparse2Corpus(dtmatrix, documents_columns=False)\n",
        "    dictionary = gensim.corpora.dictionary.Dictionary.from_corpus(corpus_vect_gensim,\n",
        "        id2word=dict((id, word) for word, id in vectorizer.vocabulary_.items()))\n",
        "\n",
        "    return (corpus_vect_gensim, dictionary)"
      ],
      "execution_count": null,
      "outputs": []
    },
    {
      "cell_type": "code",
      "metadata": {
        "id": "ufS-RetO_43A"
      },
      "source": [
        "(gensim_corpus, gensim_dict) = vect2gensim(vectorizer, bow_matrix)"
      ],
      "execution_count": null,
      "outputs": []
    },
    {
      "cell_type": "code",
      "metadata": {
        "id": "MzoJA1K5_7e0"
      },
      "source": [
        "bow_matrix_test = vectorizer.transform(X_test_texts)\n",
        "gensim_corpus_test,_ = vect2gensim(vectorizer, bow_matrix_test)"
      ],
      "execution_count": null,
      "outputs": []
    },
    {
      "cell_type": "markdown",
      "metadata": {
        "id": "lJFKRBvvm2_9"
      },
      "source": [
        "Create a function to pull out the topic representations that will be our embeddings of objects."
      ]
    },
    {
      "cell_type": "code",
      "metadata": {
        "id": "P18lAsJvAChh"
      },
      "source": [
        "def get_topic_vectors(model,corpus):\n",
        "  \"\"\"Get new features form the topic LSA model and gensim corpus\"\"\"\n",
        "  num_topics = len(model[corpus[1]])\n",
        "  doc_vectors = np.zeros((len(corpus), num_topics))\n",
        "  for i, doc in enumerate(tqdm(corpus)):\n",
        "    topics = model[doc]\n",
        "    for pair in topics:\n",
        "      j = pair[0]\n",
        "      doc_vectors[i,j] = pair[1]\n",
        "  return doc_vectors"
      ],
      "execution_count": null,
      "outputs": []
    },
    {
      "cell_type": "markdown",
      "metadata": {
        "id": "nwxFD0Anrbvv"
      },
      "source": [
        "## Topic modeling"
      ]
    },
    {
      "cell_type": "markdown",
      "metadata": {
        "id": "E_iE0dHZUUzq"
      },
      "source": [
        "Get the embeddings and check the model performance and quality on LightGBM."
      ]
    },
    {
      "cell_type": "code",
      "metadata": {
        "colab": {
          "base_uri": "https://localhost:8080/",
          "height": 164,
          "referenced_widgets": [
            "4ace600620484018aa6ca1577a558ed3",
            "13ce3a84a3a343809399b06411623c8c",
            "ae60b58e5ac7469695a233bae054735e",
            "ed46bf57ff4e4c199fc30881aea82d1e",
            "d1c31b38f87e4d83b03e0d574cc2623c",
            "d7565bb8d5494da2a5cdc74dbb4a9cb7",
            "57d9949bbfc9400ba9622da52df5c7c3",
            "d51121721280483bb3056cb76c8b034d",
            "0f6e84a3ec3543a581b494636e67b771",
            "90ba97ce5ad840e6a6c855368cfacc56",
            "b5261b83f730451c93b730881575932b",
            "11bcf26671cd4b8b86d26b38403a6356",
            "66abb3806f6846959e7bce46068b5c3d",
            "7eecc54a35b148adaae7d140965d8016",
            "174f27c685a245eeb86d7e8847d11179",
            "9d83a9d908a34eb8a9512dd85cb03a0e"
          ]
        },
        "id": "nxfk0tpRn-5f",
        "outputId": "da8d6de6-e636-42c8-a2df-d3d7aec9dd82"
      },
      "source": [
        "%%time\n",
        "lsamodel = gensim.models.LsiModel(gensim_corpus, num_topics=700, id2word = gensim_dict, power_iters=30)\n",
        "lsa_features_train = get_topic_vectors(lsamodel, gensim_corpus)\n",
        "lsa_features_test = get_topic_vectors(lsamodel, gensim_corpus_test)\n",
        "lgbm_clf = lgb.LGBMClassifier()\n",
        "lgbm_clf.fit(lsa_features_train, y_train)\n",
        "probs = lgbm_clf.predict_proba(lsa_features_test)\n",
        "score_lgbm_lsi = roc_auc_score(y_test, probs[:,1])\n",
        "print(score_lgbm_lsi)"
      ],
      "execution_count": null,
      "outputs": [
        {
          "output_type": "display_data",
          "data": {
            "application/vnd.jupyter.widget-view+json": {
              "model_id": "4ace600620484018aa6ca1577a558ed3",
              "version_minor": 0,
              "version_major": 2
            },
            "text/plain": [
              "HBox(children=(FloatProgress(value=0.0, max=230000.0), HTML(value='')))"
            ]
          },
          "metadata": {
            "tags": []
          }
        },
        {
          "output_type": "stream",
          "text": [
            "\n"
          ],
          "name": "stdout"
        },
        {
          "output_type": "display_data",
          "data": {
            "application/vnd.jupyter.widget-view+json": {
              "model_id": "0f6e84a3ec3543a581b494636e67b771",
              "version_minor": 0,
              "version_major": 2
            },
            "text/plain": [
              "HBox(children=(FloatProgress(value=0.0, max=70000.0), HTML(value='')))"
            ]
          },
          "metadata": {
            "tags": []
          }
        },
        {
          "output_type": "stream",
          "text": [
            "\n",
            "0.7507850556429279\n",
            "CPU times: user 1h 36s, sys: 7min 57s, total: 1h 8min 34s\n",
            "Wall time: 23min 49s\n"
          ],
          "name": "stdout"
        }
      ]
    },
    {
      "cell_type": "markdown",
      "metadata": {
        "id": "pUikWTmO6uVR"
      },
      "source": [
        "Let's look at feature importances"
      ]
    },
    {
      "cell_type": "code",
      "metadata": {
        "colab": {
          "base_uri": "https://localhost:8080/",
          "height": 635
        },
        "id": "gT0y6xNr4sJT",
        "outputId": "6ffe3433-fbc9-4bf9-ef57-1d72974fb9a9"
      },
      "source": [
        "lgb.plot_importance(lgbm_clf, importance_type='split', figsize=(20,15));"
      ],
      "execution_count": null,
      "outputs": [
        {
          "output_type": "display_data",
          "data": {
            "image/png": "[encoded data removed]",
            "text/plain": [
              "<Figure size 1440x1080 with 1 Axes>"
            ]
          },
          "metadata": {
            "tags": [],
            "needs_background": "light"
          }
        }
      ]
    },
    {
      "cell_type": "markdown",
      "metadata": {
        "id": "_ZuhYJpO5yXt"
      },
      "source": [
        "You can see that is this case we have unbalanced importance distribution, because of the fact that LSA is similar to PCA (first PC have more variance which correlates with info content). More complex methods (next article) will be slightly better in this problem."
      ]
    },
    {
      "cell_type": "markdown",
      "metadata": {
        "id": "89Yci2ei7EF_"
      },
      "source": [
        "Logistic Regression"
      ]
    },
    {
      "cell_type": "code",
      "metadata": {
        "colab": {
          "base_uri": "https://localhost:8080/"
        },
        "id": "6W0POjB4ouvC",
        "outputId": "967156a9-7b97-44b2-a7e8-23465926a048"
      },
      "source": [
        "%%time\n",
        "model_lr = LogisticRegression().fit(lsa_features_train, y_train)\n",
        "probs = model_lr.predict_proba(lsa_features_test)\n",
        "score_lr_lsi = roc_auc_score(y_test, probs[:,1])\n",
        "print(score_lr_lsi)"
      ],
      "execution_count": null,
      "outputs": [
        {
          "output_type": "stream",
          "text": [
            "0.7720975419867606\n",
            "CPU times: user 54.6 s, sys: 8.8 s, total: 1min 3s\n",
            "Wall time: 16.2 s\n"
          ],
          "name": "stdout"
        }
      ]
    },
    {
      "cell_type": "markdown",
      "metadata": {
        "id": "JAwXOgswpD-4"
      },
      "source": [
        "Let's check LSA training and encoding time"
      ]
    },
    {
      "cell_type": "code",
      "metadata": {
        "colab": {
          "base_uri": "https://localhost:8080/"
        },
        "id": "lkhCe9QKpDgb",
        "outputId": "97ae40ec-41ca-45b0-f0d1-ba85c581ced5"
      },
      "source": [
        "%%time\n",
        "lsamodel_ = gensim.models.LsiModel(gensim_corpus, num_topics=700, id2word = gensim_dict,power_iters=30)"
      ],
      "execution_count": null,
      "outputs": [
        {
          "output_type": "stream",
          "text": [
            "CPU times: user 49min 8s, sys: 7min 3s, total: 56min 12s\n",
            "Wall time: 18min 34s\n"
          ],
          "name": "stdout"
        }
      ]
    },
    {
      "cell_type": "code",
      "metadata": {
        "colab": {
          "base_uri": "https://localhost:8080/",
          "height": 99,
          "referenced_widgets": [
            "4a2333ee8a2048bba9999da587aa78b0",
            "a0acdf065fc84cb2a94b8d7cfaa8661c",
            "069065e4435742708f8ef1d8973d940e",
            "378ec43b1b06431894e89aa91a4cf1e6",
            "9966a4b177894c0dbca3e2b72817991c",
            "68113ce7c0414ee4934a4f259e83156b",
            "daf40f179eee4bd487f8e67e6e050a62",
            "d319c6d3e95e4031a0c33b59260f4adc"
          ]
        },
        "id": "Zq7-KdFrpDgb",
        "outputId": "c3b4dbc2-accd-4859-897c-66e19baab42e"
      },
      "source": [
        "%%time\n",
        "lsa_features_test_ = get_topic_vectors(lsamodel_, gensim_corpus_test)"
      ],
      "execution_count": null,
      "outputs": [
        {
          "output_type": "display_data",
          "data": {
            "application/vnd.jupyter.widget-view+json": {
              "model_id": "4a2333ee8a2048bba9999da587aa78b0",
              "version_major": 2,
              "version_minor": 0
            },
            "text/plain": [
              "HBox(children=(FloatProgress(value=0.0, max=70000.0), HTML(value='')))"
            ]
          },
          "metadata": {
            "tags": []
          }
        },
        {
          "output_type": "stream",
          "text": [
            "\n",
            "CPU times: user 34.6 s, sys: 294 ms, total: 34.9 s\n",
            "Wall time: 34.7 s\n"
          ],
          "name": "stdout"
        }
      ]
    },
    {
      "cell_type": "markdown",
      "metadata": {
        "id": "AWdhbTTBw3mB"
      },
      "source": [
        "Conclusions:\n",
        "- Simple (+)\n",
        "- Long training and encoding time (-)\n",
        "- Not bad in quality, we can preserve a lot of initial info in our embedding:) (+)\n",
        "- Doesn't depend on the number of categorical features and their cardinality, that's nice) (+)\n",
        "- Not very balanced info distibution among the components of our embeddings (-) "
      ]
    },
    {
      "cell_type": "markdown",
      "metadata": {
        "id": "62_Iz1AHpbQV"
      },
      "source": [
        "# Visualization"
      ]
    },
    {
      "cell_type": "markdown",
      "metadata": {
        "id": "oZepX3Z-prY6"
      },
      "source": [
        "Generate a subsample to visualize."
      ]
    },
    {
      "cell_type": "code",
      "metadata": {
        "id": "1rE2TUsHpbQW"
      },
      "source": [
        "_, emb_sample, _, _ = train_test_split(lsa_features_test, y_test, test_size=0.03)"
      ],
      "execution_count": null,
      "outputs": []
    },
    {
      "cell_type": "markdown",
      "metadata": {
        "id": "uU_miunLqIcG"
      },
      "source": [
        "Scale the data\n"
      ]
    },
    {
      "cell_type": "code",
      "metadata": {
        "colab": {
          "base_uri": "https://localhost:8080/"
        },
        "id": "y2cnOt-LpbQW",
        "outputId": "1b0f7323-ab78-4702-d4f7-641c9a929a4c"
      },
      "source": [
        "%%time\n",
        "scaler = StandardScaler()\n",
        "scaler.fit(lsa_features_train)\n",
        "\n",
        "scaled_emb = scaler.transform(emb_sample)"
      ],
      "execution_count": null,
      "outputs": [
        {
          "output_type": "stream",
          "text": [
            "CPU times: user 2.47 s, sys: 116 ms, total: 2.58 s\n",
            "Wall time: 2.57 s\n"
          ],
          "name": "stdout"
        }
      ]
    },
    {
      "cell_type": "markdown",
      "metadata": {
        "id": "txa2Q3zUqNkN"
      },
      "source": [
        "t-SNE"
      ]
    },
    {
      "cell_type": "code",
      "metadata": {
        "colab": {
          "base_uri": "https://localhost:8080/"
        },
        "id": "XQg4V9kYpbQX",
        "outputId": "240ce9a8-4764-44fb-bd05-46c79c4a42e9"
      },
      "source": [
        "%%time\n",
        "tsne = TSNE(n_components=2, random_state=33)\n",
        "T = tsne.fit_transform(scaled_emb)"
      ],
      "execution_count": null,
      "outputs": [
        {
          "output_type": "stream",
          "text": [
            "CPU times: user 56.4 s, sys: 572 ms, total: 57 s\n",
            "Wall time: 14.5 s\n"
          ],
          "name": "stdout"
        }
      ]
    },
    {
      "cell_type": "code",
      "metadata": {
        "colab": {
          "base_uri": "https://localhost:8080/",
          "height": 483
        },
        "id": "JogT93oupbQZ",
        "outputId": "d6e41c92-8f72-4a43-d5c8-b9ccdc39c765"
      },
      "source": [
        "plt.figure(figsize=(12,8))\n",
        "plt.scatter(T[:,0], T[:,1], alpha=0.7)\n",
        "plt.grid()"
      ],
      "execution_count": null,
      "outputs": [
        {
          "output_type": "display_data",
          "data": {
            "image/png": "[encoded data removed]",
            "text/plain": [
              "<Figure size 864x576 with 1 Axes>"
            ]
          },
          "metadata": {
            "tags": [],
            "needs_background": "light"
          }
        }
      ]
    },
    {
      "cell_type": "markdown",
      "metadata": {
        "id": "IQR3EEbYqRhw"
      },
      "source": [
        "MDS"
      ]
    },
    {
      "cell_type": "code",
      "metadata": {
        "colab": {
          "base_uri": "https://localhost:8080/"
        },
        "id": "g8dA0lkepbQY",
        "outputId": "d83d7240-cb84-4232-dded-12a0296b7f0e"
      },
      "source": [
        "%%time\n",
        "mds_trans = MDS(n_components=2, random_state=33)\n",
        "M = mds_trans.fit_transform(scaled_emb)"
      ],
      "execution_count": null,
      "outputs": [
        {
          "output_type": "stream",
          "text": [
            "CPU times: user 3min 50s, sys: 6min 51s, total: 10min 42s\n",
            "Wall time: 2min 42s\n"
          ],
          "name": "stdout"
        }
      ]
    },
    {
      "cell_type": "code",
      "metadata": {
        "colab": {
          "base_uri": "https://localhost:8080/",
          "height": 483
        },
        "id": "qS5QPjNfpbQZ",
        "outputId": "aea74a6b-39e7-4da3-fefb-70d5e9f73f29"
      },
      "source": [
        "plt.figure(figsize=(12,8))\n",
        "plt.scatter(M[:,0], M[:,1], alpha=0.7)\n",
        "plt.grid()"
      ],
      "execution_count": null,
      "outputs": [
        {
          "output_type": "display_data",
          "data": {
            "image/png": "[encoded data removed]",
            "text/plain": [
              "<Figure size 864x576 with 1 Axes>"
            ]
          },
          "metadata": {
            "tags": [],
            "needs_background": "light"
          }
        }
      ]
    },
    {
      "cell_type": "markdown",
      "metadata": {
        "id": "q7b7UnS8wPN2"
      },
      "source": [
        "### Not very informative picture, is it? But this is only **the first part** of our journey, stay tuned :)"
      ]
    },
    {
      "cell_type": "markdown",
      "metadata": {
        "id": "7UynmAaZrkg2"
      },
      "source": [
        "## Bonus experiment: another encoding variant"
      ]
    },
    {
      "cell_type": "markdown",
      "metadata": {
        "id": "eTWhdiB3sTTm"
      },
      "source": [
        "Let's encode our text data with TfidfVectorizer and then check the quality on MultinomialNB model."
      ]
    },
    {
      "cell_type": "code",
      "metadata": {
        "colab": {
          "base_uri": "https://localhost:8080/"
        },
        "id": "XJaW5pgy0rq4",
        "outputId": "68ea7867-6cbd-4f75-de93-c175eb5ddb76"
      },
      "source": [
        "%%time\n",
        "vectorizer = TfidfVectorizer(ngram_range=(1, 2), min_df=10, max_df=0.2)\n",
        "X_train_tfidf = vectorizer.fit_transform(X_train_texts)\n",
        "X_test_tfidf = vectorizer.transform(X_test_texts)"
      ],
      "execution_count": null,
      "outputs": [
        {
          "output_type": "stream",
          "text": [
            "CPU times: user 16.4 s, sys: 146 ms, total: 16.5 s\n",
            "Wall time: 16.5 s\n"
          ],
          "name": "stdout"
        }
      ]
    },
    {
      "cell_type": "code",
      "metadata": {
        "colab": {
          "base_uri": "https://localhost:8080/"
        },
        "id": "pSCYPUk1UI_q",
        "outputId": "2bb3a281-cdeb-400a-d888-9114203949cb"
      },
      "source": [
        "%%time\n",
        "model_nb = MultinomialNB().fit(X_train_tfidf, y_train)\n",
        "probs = model_nb.predict_proba(X_test_tfidf)\n",
        "score_nb_tfidf = roc_auc_score(y_test, probs[:,1])\n",
        "print(score_nb_tfidf)"
      ],
      "execution_count": null,
      "outputs": [
        {
          "output_type": "stream",
          "text": [
            "0.7529499777533144\n",
            "CPU times: user 126 ms, sys: 1.96 ms, total: 128 ms\n",
            "Wall time: 127 ms\n"
          ],
          "name": "stdout"
        }
      ]
    },
    {
      "cell_type": "markdown",
      "metadata": {
        "id": "gaD0wrgntLm4"
      },
      "source": [
        "Let's compare with an ordinary approach"
      ]
    },
    {
      "cell_type": "code",
      "metadata": {
        "colab": {
          "base_uri": "https://localhost:8080/"
        },
        "id": "tva7x1xl7j3A",
        "outputId": "645d29a9-f866-47e8-fce8-aaa03e053532"
      },
      "source": [
        "%%time\n",
        "nb_ohe_clf = Pipeline([\n",
        "                        ('encoder', OneHotEncoder(handle_unknown='ignore')),\n",
        "                        ('classifier', model_nb)\n",
        "                      ])\n",
        "nb_ohe_clf.fit(X_train, y_train)\n",
        "probs = nb_ohe_clf.predict_proba(X_test)\n",
        "score_nb_ohe = roc_auc_score(y_test, probs[:,1])\n",
        "print(score_nb_ohe)"
      ],
      "execution_count": null,
      "outputs": [
        {
          "output_type": "stream",
          "text": [
            "0.7838390923137883\n",
            "CPU times: user 2.01 s, sys: 10.6 ms, total: 2.02 s\n",
            "Wall time: 2.01 s\n"
          ],
          "name": "stdout"
        }
      ]
    },
    {
      "cell_type": "markdown",
      "metadata": {
        "id": "Ff_yUcu2tTu2"
      },
      "source": [
        "So, in this case OHE wins, but the very possibility of using tfidf of our texts as features is quite interesting, isn't it?:) Now, it looks like \"truncated\" OHE with document frequencies, but we could tune hyperparameters and see the results. Good luck)"
      ]
    }
  ]
}