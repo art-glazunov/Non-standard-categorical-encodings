{
  "nbformat": 4,
  "nbformat_minor": 0,
  "metadata": {
    "colab": {
      "name": "group_counts_and_SVD.ipynb",
      "provenance": [],
      "collapsed_sections": [],
      "machine_shape": "hm",
      "mount_file_id": "1SqAEkvXip07fFr9-cmZ7X6ARjL-F4lyF",
      "authorship_tag": "ABX9TyOZ3w1GWVWwqOSBkDqUJMwN",
      "include_colab_link": true
    },
    "kernelspec": {
      "display_name": "Python 3",
      "name": "python3"
    },
    "language_info": {
      "name": "python"
    },
    "widgets": {
      "application/vnd.jupyter.widget-state+json": {
        "0dcf8eac4a15484c916a462b5bdaad14": {
          "model_module": "@jupyter-widgets/controls",
          "model_name": "HBoxModel",
          "model_module_version": "1.5.0",
          "state": {
            "_view_name": "HBoxView",
            "_dom_classes": [],
            "_model_name": "HBoxModel",
            "_view_module": "@jupyter-widgets/controls",
            "_model_module_version": "1.5.0",
            "_view_count": null,
            "_view_module_version": "1.5.0",
            "box_style": "",
            "layout": "IPY_MODEL_58d2e9a905ed4661b461bd94dfea8aff",
            "_model_module": "@jupyter-widgets/controls",
            "children": [
              "IPY_MODEL_115dd07e2b0b4818a2d8875f853171dc",
              "IPY_MODEL_f0156ae260354291b9128307e752a64b",
              "IPY_MODEL_8bbad158621d43109b297472dfb5c6ef"
            ]
          }
        },
        "58d2e9a905ed4661b461bd94dfea8aff": {
          "model_module": "@jupyter-widgets/base",
          "model_name": "LayoutModel",
          "model_module_version": "1.2.0",
          "state": {
            "_view_name": "LayoutView",
            "grid_template_rows": null,
            "right": null,
            "justify_content": null,
            "_view_module": "@jupyter-widgets/base",
            "overflow": null,
            "_model_module_version": "1.2.0",
            "_view_count": null,
            "flex_flow": null,
            "width": null,
            "min_width": null,
            "border": null,
            "align_items": null,
            "bottom": null,
            "_model_module": "@jupyter-widgets/base",
            "top": null,
            "grid_column": null,
            "overflow_y": null,
            "overflow_x": null,
            "grid_auto_flow": null,
            "grid_area": null,
            "grid_template_columns": null,
            "flex": null,
            "_model_name": "LayoutModel",
            "justify_items": null,
            "grid_row": null,
            "max_height": null,
            "align_content": null,
            "visibility": null,
            "align_self": null,
            "height": null,
            "min_height": null,
            "padding": null,
            "grid_auto_rows": null,
            "grid_gap": null,
            "max_width": null,
            "order": null,
            "_view_module_version": "1.2.0",
            "grid_template_areas": null,
            "object_position": null,
            "object_fit": null,
            "grid_auto_columns": null,
            "margin": null,
            "display": null,
            "left": null
          }
        },
        "115dd07e2b0b4818a2d8875f853171dc": {
          "model_module": "@jupyter-widgets/controls",
          "model_name": "HTMLModel",
          "model_module_version": "1.5.0",
          "state": {
            "_view_name": "HTMLView",
            "style": "IPY_MODEL_ff6c2c14772f4f1ca6833de6767ee497",
            "_dom_classes": [],
            "description": "",
            "_model_name": "HTMLModel",
            "placeholder": "​",
            "_view_module": "@jupyter-widgets/controls",
            "_model_module_version": "1.5.0",
            "value": "100%",
            "_view_count": null,
            "_view_module_version": "1.5.0",
            "description_tooltip": null,
            "_model_module": "@jupyter-widgets/controls",
            "layout": "IPY_MODEL_7a49e44a39a44d81bf1a265edc556309"
          }
        },
        "f0156ae260354291b9128307e752a64b": {
          "model_module": "@jupyter-widgets/controls",
          "model_name": "FloatProgressModel",
          "model_module_version": "1.5.0",
          "state": {
            "_view_name": "ProgressView",
            "style": "IPY_MODEL_fb9b38c22bbf4ad4bbfd5d2264e809c6",
            "_dom_classes": [],
            "description": "",
            "_model_name": "FloatProgressModel",
            "bar_style": "success",
            "max": 23,
            "_view_module": "@jupyter-widgets/controls",
            "_model_module_version": "1.5.0",
            "value": 23,
            "_view_count": null,
            "_view_module_version": "1.5.0",
            "orientation": "horizontal",
            "min": 0,
            "description_tooltip": null,
            "_model_module": "@jupyter-widgets/controls",
            "layout": "IPY_MODEL_c1481f03ff4a4eda986776e9e777fb08"
          }
        },
        "8bbad158621d43109b297472dfb5c6ef": {
          "model_module": "@jupyter-widgets/controls",
          "model_name": "HTMLModel",
          "model_module_version": "1.5.0",
          "state": {
            "_view_name": "HTMLView",
            "style": "IPY_MODEL_6861149ba9b542f4992e5e1e132df8d8",
            "_dom_classes": [],
            "description": "",
            "_model_name": "HTMLModel",
            "placeholder": "​",
            "_view_module": "@jupyter-widgets/controls",
            "_model_module_version": "1.5.0",
            "value": " 23/23 [00:02&lt;00:00,  8.88it/s]",
            "_view_count": null,
            "_view_module_version": "1.5.0",
            "description_tooltip": null,
            "_model_module": "@jupyter-widgets/controls",
            "layout": "IPY_MODEL_67147fffa8db45239b72d2f241905549"
          }
        },
        "ff6c2c14772f4f1ca6833de6767ee497": {
          "model_module": "@jupyter-widgets/controls",
          "model_name": "DescriptionStyleModel",
          "model_module_version": "1.5.0",
          "state": {
            "_view_name": "StyleView",
            "_model_name": "DescriptionStyleModel",
            "description_width": "",
            "_view_module": "@jupyter-widgets/base",
            "_model_module_version": "1.5.0",
            "_view_count": null,
            "_view_module_version": "1.2.0",
            "_model_module": "@jupyter-widgets/controls"
          }
        },
        "7a49e44a39a44d81bf1a265edc556309": {
          "model_module": "@jupyter-widgets/base",
          "model_name": "LayoutModel",
          "model_module_version": "1.2.0",
          "state": {
            "_view_name": "LayoutView",
            "grid_template_rows": null,
            "right": null,
            "justify_content": null,
            "_view_module": "@jupyter-widgets/base",
            "overflow": null,
            "_model_module_version": "1.2.0",
            "_view_count": null,
            "flex_flow": null,
            "width": null,
            "min_width": null,
            "border": null,
            "align_items": null,
            "bottom": null,
            "_model_module": "@jupyter-widgets/base",
            "top": null,
            "grid_column": null,
            "overflow_y": null,
            "overflow_x": null,
            "grid_auto_flow": null,
            "grid_area": null,
            "grid_template_columns": null,
            "flex": null,
            "_model_name": "LayoutModel",
            "justify_items": null,
            "grid_row": null,
            "max_height": null,
            "align_content": null,
            "visibility": null,
            "align_self": null,
            "height": null,
            "min_height": null,
            "padding": null,
            "grid_auto_rows": null,
            "grid_gap": null,
            "max_width": null,
            "order": null,
            "_view_module_version": "1.2.0",
            "grid_template_areas": null,
            "object_position": null,
            "object_fit": null,
            "grid_auto_columns": null,
            "margin": null,
            "display": null,
            "left": null
          }
        },
        "fb9b38c22bbf4ad4bbfd5d2264e809c6": {
          "model_module": "@jupyter-widgets/controls",
          "model_name": "ProgressStyleModel",
          "model_module_version": "1.5.0",
          "state": {
            "_view_name": "StyleView",
            "_model_name": "ProgressStyleModel",
            "description_width": "",
            "_view_module": "@jupyter-widgets/base",
            "_model_module_version": "1.5.0",
            "_view_count": null,
            "_view_module_version": "1.2.0",
            "bar_color": null,
            "_model_module": "@jupyter-widgets/controls"
          }
        },
        "c1481f03ff4a4eda986776e9e777fb08": {
          "model_module": "@jupyter-widgets/base",
          "model_name": "LayoutModel",
          "model_module_version": "1.2.0",
          "state": {
            "_view_name": "LayoutView",
            "grid_template_rows": null,
            "right": null,
            "justify_content": null,
            "_view_module": "@jupyter-widgets/base",
            "overflow": null,
            "_model_module_version": "1.2.0",
            "_view_count": null,
            "flex_flow": null,
            "width": null,
            "min_width": null,
            "border": null,
            "align_items": null,
            "bottom": null,
            "_model_module": "@jupyter-widgets/base",
            "top": null,
            "grid_column": null,
            "overflow_y": null,
            "overflow_x": null,
            "grid_auto_flow": null,
            "grid_area": null,
            "grid_template_columns": null,
            "flex": null,
            "_model_name": "LayoutModel",
            "justify_items": null,
            "grid_row": null,
            "max_height": null,
            "align_content": null,
            "visibility": null,
            "align_self": null,
            "height": null,
            "min_height": null,
            "padding": null,
            "grid_auto_rows": null,
            "grid_gap": null,
            "max_width": null,
            "order": null,
            "_view_module_version": "1.2.0",
            "grid_template_areas": null,
            "object_position": null,
            "object_fit": null,
            "grid_auto_columns": null,
            "margin": null,
            "display": null,
            "left": null
          }
        },
        "6861149ba9b542f4992e5e1e132df8d8": {
          "model_module": "@jupyter-widgets/controls",
          "model_name": "DescriptionStyleModel",
          "model_module_version": "1.5.0",
          "state": {
            "_view_name": "StyleView",
            "_model_name": "DescriptionStyleModel",
            "description_width": "",
            "_view_module": "@jupyter-widgets/base",
            "_model_module_version": "1.5.0",
            "_view_count": null,
            "_view_module_version": "1.2.0",
            "_model_module": "@jupyter-widgets/controls"
          }
        },
        "67147fffa8db45239b72d2f241905549": {
          "model_module": "@jupyter-widgets/base",
          "model_name": "LayoutModel",
          "model_module_version": "1.2.0",
          "state": {
            "_view_name": "LayoutView",
            "grid_template_rows": null,
            "right": null,
            "justify_content": null,
            "_view_module": "@jupyter-widgets/base",
            "overflow": null,
            "_model_module_version": "1.2.0",
            "_view_count": null,
            "flex_flow": null,
            "width": null,
            "min_width": null,
            "border": null,
            "align_items": null,
            "bottom": null,
            "_model_module": "@jupyter-widgets/base",
            "top": null,
            "grid_column": null,
            "overflow_y": null,
            "overflow_x": null,
            "grid_auto_flow": null,
            "grid_area": null,
            "grid_template_columns": null,
            "flex": null,
            "_model_name": "LayoutModel",
            "justify_items": null,
            "grid_row": null,
            "max_height": null,
            "align_content": null,
            "visibility": null,
            "align_self": null,
            "height": null,
            "min_height": null,
            "padding": null,
            "grid_auto_rows": null,
            "grid_gap": null,
            "max_width": null,
            "order": null,
            "_view_module_version": "1.2.0",
            "grid_template_areas": null,
            "object_position": null,
            "object_fit": null,
            "grid_auto_columns": null,
            "margin": null,
            "display": null,
            "left": null
          }
        },
        "ad0368bf57654e47a25e25fcbdaf62e4": {
          "model_module": "@jupyter-widgets/controls",
          "model_name": "HBoxModel",
          "model_module_version": "1.5.0",
          "state": {
            "_view_name": "HBoxView",
            "_dom_classes": [],
            "_model_name": "HBoxModel",
            "_view_module": "@jupyter-widgets/controls",
            "_model_module_version": "1.5.0",
            "_view_count": null,
            "_view_module_version": "1.5.0",
            "box_style": "",
            "layout": "IPY_MODEL_b40e7629b5b147cc84e3b0fa9fcb08b4",
            "_model_module": "@jupyter-widgets/controls",
            "children": [
              "IPY_MODEL_2ac8eb7dd82b492a801dab6dae76842a",
              "IPY_MODEL_fb2899530a35455c880ac98f91dc60e8",
              "IPY_MODEL_dbaa7828ebd94be1992558bec657aa04"
            ]
          }
        },
        "b40e7629b5b147cc84e3b0fa9fcb08b4": {
          "model_module": "@jupyter-widgets/base",
          "model_name": "LayoutModel",
          "model_module_version": "1.2.0",
          "state": {
            "_view_name": "LayoutView",
            "grid_template_rows": null,
            "right": null,
            "justify_content": null,
            "_view_module": "@jupyter-widgets/base",
            "overflow": null,
            "_model_module_version": "1.2.0",
            "_view_count": null,
            "flex_flow": null,
            "width": null,
            "min_width": null,
            "border": null,
            "align_items": null,
            "bottom": null,
            "_model_module": "@jupyter-widgets/base",
            "top": null,
            "grid_column": null,
            "overflow_y": null,
            "overflow_x": null,
            "grid_auto_flow": null,
            "grid_area": null,
            "grid_template_columns": null,
            "flex": null,
            "_model_name": "LayoutModel",
            "justify_items": null,
            "grid_row": null,
            "max_height": null,
            "align_content": null,
            "visibility": null,
            "align_self": null,
            "height": null,
            "min_height": null,
            "padding": null,
            "grid_auto_rows": null,
            "grid_gap": null,
            "max_width": null,
            "order": null,
            "_view_module_version": "1.2.0",
            "grid_template_areas": null,
            "object_position": null,
            "object_fit": null,
            "grid_auto_columns": null,
            "margin": null,
            "display": null,
            "left": null
          }
        },
        "2ac8eb7dd82b492a801dab6dae76842a": {
          "model_module": "@jupyter-widgets/controls",
          "model_name": "HTMLModel",
          "model_module_version": "1.5.0",
          "state": {
            "_view_name": "HTMLView",
            "style": "IPY_MODEL_c48eaac585fc411bbee900af76b98a65",
            "_dom_classes": [],
            "description": "",
            "_model_name": "HTMLModel",
            "placeholder": "​",
            "_view_module": "@jupyter-widgets/controls",
            "_model_module_version": "1.5.0",
            "value": "100%",
            "_view_count": null,
            "_view_module_version": "1.5.0",
            "description_tooltip": null,
            "_model_module": "@jupyter-widgets/controls",
            "layout": "IPY_MODEL_043b6cf4c9d54546b778c014e305a532"
          }
        },
        "fb2899530a35455c880ac98f91dc60e8": {
          "model_module": "@jupyter-widgets/controls",
          "model_name": "FloatProgressModel",
          "model_module_version": "1.5.0",
          "state": {
            "_view_name": "ProgressView",
            "style": "IPY_MODEL_e8fa028ed53348e6a9734f6b6427f9d0",
            "_dom_classes": [],
            "description": "",
            "_model_name": "FloatProgressModel",
            "bar_style": "success",
            "max": 23,
            "_view_module": "@jupyter-widgets/controls",
            "_model_module_version": "1.5.0",
            "value": 23,
            "_view_count": null,
            "_view_module_version": "1.5.0",
            "orientation": "horizontal",
            "min": 0,
            "description_tooltip": null,
            "_model_module": "@jupyter-widgets/controls",
            "layout": "IPY_MODEL_b37291310618457d92aa95f021a16593"
          }
        },
        "dbaa7828ebd94be1992558bec657aa04": {
          "model_module": "@jupyter-widgets/controls",
          "model_name": "HTMLModel",
          "model_module_version": "1.5.0",
          "state": {
            "_view_name": "HTMLView",
            "style": "IPY_MODEL_bc8133a4dfac43a1952c1cf93a55e139",
            "_dom_classes": [],
            "description": "",
            "_model_name": "HTMLModel",
            "placeholder": "​",
            "_view_module": "@jupyter-widgets/controls",
            "_model_module_version": "1.5.0",
            "value": " 23/23 [00:00&lt;00:00, 28.91it/s]",
            "_view_count": null,
            "_view_module_version": "1.5.0",
            "description_tooltip": null,
            "_model_module": "@jupyter-widgets/controls",
            "layout": "IPY_MODEL_18d3f3eb9e09465aabb4e11fea417c94"
          }
        },
        "c48eaac585fc411bbee900af76b98a65": {
          "model_module": "@jupyter-widgets/controls",
          "model_name": "DescriptionStyleModel",
          "model_module_version": "1.5.0",
          "state": {
            "_view_name": "StyleView",
            "_model_name": "DescriptionStyleModel",
            "description_width": "",
            "_view_module": "@jupyter-widgets/base",
            "_model_module_version": "1.5.0",
            "_view_count": null,
            "_view_module_version": "1.2.0",
            "_model_module": "@jupyter-widgets/controls"
          }
        },
        "043b6cf4c9d54546b778c014e305a532": {
          "model_module": "@jupyter-widgets/base",
          "model_name": "LayoutModel",
          "model_module_version": "1.2.0",
          "state": {
            "_view_name": "LayoutView",
            "grid_template_rows": null,
            "right": null,
            "justify_content": null,
            "_view_module": "@jupyter-widgets/base",
            "overflow": null,
            "_model_module_version": "1.2.0",
            "_view_count": null,
            "flex_flow": null,
            "width": null,
            "min_width": null,
            "border": null,
            "align_items": null,
            "bottom": null,
            "_model_module": "@jupyter-widgets/base",
            "top": null,
            "grid_column": null,
            "overflow_y": null,
            "overflow_x": null,
            "grid_auto_flow": null,
            "grid_area": null,
            "grid_template_columns": null,
            "flex": null,
            "_model_name": "LayoutModel",
            "justify_items": null,
            "grid_row": null,
            "max_height": null,
            "align_content": null,
            "visibility": null,
            "align_self": null,
            "height": null,
            "min_height": null,
            "padding": null,
            "grid_auto_rows": null,
            "grid_gap": null,
            "max_width": null,
            "order": null,
            "_view_module_version": "1.2.0",
            "grid_template_areas": null,
            "object_position": null,
            "object_fit": null,
            "grid_auto_columns": null,
            "margin": null,
            "display": null,
            "left": null
          }
        },
        "e8fa028ed53348e6a9734f6b6427f9d0": {
          "model_module": "@jupyter-widgets/controls",
          "model_name": "ProgressStyleModel",
          "model_module_version": "1.5.0",
          "state": {
            "_view_name": "StyleView",
            "_model_name": "ProgressStyleModel",
            "description_width": "",
            "_view_module": "@jupyter-widgets/base",
            "_model_module_version": "1.5.0",
            "_view_count": null,
            "_view_module_version": "1.2.0",
            "bar_color": null,
            "_model_module": "@jupyter-widgets/controls"
          }
        },
        "b37291310618457d92aa95f021a16593": {
          "model_module": "@jupyter-widgets/base",
          "model_name": "LayoutModel",
          "model_module_version": "1.2.0",
          "state": {
            "_view_name": "LayoutView",
            "grid_template_rows": null,
            "right": null,
            "justify_content": null,
            "_view_module": "@jupyter-widgets/base",
            "overflow": null,
            "_model_module_version": "1.2.0",
            "_view_count": null,
            "flex_flow": null,
            "width": null,
            "min_width": null,
            "border": null,
            "align_items": null,
            "bottom": null,
            "_model_module": "@jupyter-widgets/base",
            "top": null,
            "grid_column": null,
            "overflow_y": null,
            "overflow_x": null,
            "grid_auto_flow": null,
            "grid_area": null,
            "grid_template_columns": null,
            "flex": null,
            "_model_name": "LayoutModel",
            "justify_items": null,
            "grid_row": null,
            "max_height": null,
            "align_content": null,
            "visibility": null,
            "align_self": null,
            "height": null,
            "min_height": null,
            "padding": null,
            "grid_auto_rows": null,
            "grid_gap": null,
            "max_width": null,
            "order": null,
            "_view_module_version": "1.2.0",
            "grid_template_areas": null,
            "object_position": null,
            "object_fit": null,
            "grid_auto_columns": null,
            "margin": null,
            "display": null,
            "left": null
          }
        },
        "bc8133a4dfac43a1952c1cf93a55e139": {
          "model_module": "@jupyter-widgets/controls",
          "model_name": "DescriptionStyleModel",
          "model_module_version": "1.5.0",
          "state": {
            "_view_name": "StyleView",
            "_model_name": "DescriptionStyleModel",
            "description_width": "",
            "_view_module": "@jupyter-widgets/base",
            "_model_module_version": "1.5.0",
            "_view_count": null,
            "_view_module_version": "1.2.0",
            "_model_module": "@jupyter-widgets/controls"
          }
        },
        "18d3f3eb9e09465aabb4e11fea417c94": {
          "model_module": "@jupyter-widgets/base",
          "model_name": "LayoutModel",
          "model_module_version": "1.2.0",
          "state": {
            "_view_name": "LayoutView",
            "grid_template_rows": null,
            "right": null,
            "justify_content": null,
            "_view_module": "@jupyter-widgets/base",
            "overflow": null,
            "_model_module_version": "1.2.0",
            "_view_count": null,
            "flex_flow": null,
            "width": null,
            "min_width": null,
            "border": null,
            "align_items": null,
            "bottom": null,
            "_model_module": "@jupyter-widgets/base",
            "top": null,
            "grid_column": null,
            "overflow_y": null,
            "overflow_x": null,
            "grid_auto_flow": null,
            "grid_area": null,
            "grid_template_columns": null,
            "flex": null,
            "_model_name": "LayoutModel",
            "justify_items": null,
            "grid_row": null,
            "max_height": null,
            "align_content": null,
            "visibility": null,
            "align_self": null,
            "height": null,
            "min_height": null,
            "padding": null,
            "grid_auto_rows": null,
            "grid_gap": null,
            "max_width": null,
            "order": null,
            "_view_module_version": "1.2.0",
            "grid_template_areas": null,
            "object_position": null,
            "object_fit": null,
            "grid_auto_columns": null,
            "margin": null,
            "display": null,
            "left": null
          }
        },
        "cba63020be464fd69751fbe783d63f86": {
          "model_module": "@jupyter-widgets/controls",
          "model_name": "HBoxModel",
          "model_module_version": "1.5.0",
          "state": {
            "_view_name": "HBoxView",
            "_dom_classes": [],
            "_model_name": "HBoxModel",
            "_view_module": "@jupyter-widgets/controls",
            "_model_module_version": "1.5.0",
            "_view_count": null,
            "_view_module_version": "1.5.0",
            "box_style": "",
            "layout": "IPY_MODEL_b7938d844d13491a991ddf84b9916a2a",
            "_model_module": "@jupyter-widgets/controls",
            "children": [
              "IPY_MODEL_995d5be2bcf64759875ac4c8b539060d",
              "IPY_MODEL_04f9cb06c5544ca0ae1a53d1351745c9",
              "IPY_MODEL_23c6eae1dd64451f95738d400bf09cfa"
            ]
          }
        },
        "b7938d844d13491a991ddf84b9916a2a": {
          "model_module": "@jupyter-widgets/base",
          "model_name": "LayoutModel",
          "model_module_version": "1.2.0",
          "state": {
            "_view_name": "LayoutView",
            "grid_template_rows": null,
            "right": null,
            "justify_content": null,
            "_view_module": "@jupyter-widgets/base",
            "overflow": null,
            "_model_module_version": "1.2.0",
            "_view_count": null,
            "flex_flow": null,
            "width": null,
            "min_width": null,
            "border": null,
            "align_items": null,
            "bottom": null,
            "_model_module": "@jupyter-widgets/base",
            "top": null,
            "grid_column": null,
            "overflow_y": null,
            "overflow_x": null,
            "grid_auto_flow": null,
            "grid_area": null,
            "grid_template_columns": null,
            "flex": null,
            "_model_name": "LayoutModel",
            "justify_items": null,
            "grid_row": null,
            "max_height": null,
            "align_content": null,
            "visibility": null,
            "align_self": null,
            "height": null,
            "min_height": null,
            "padding": null,
            "grid_auto_rows": null,
            "grid_gap": null,
            "max_width": null,
            "order": null,
            "_view_module_version": "1.2.0",
            "grid_template_areas": null,
            "object_position": null,
            "object_fit": null,
            "grid_auto_columns": null,
            "margin": null,
            "display": null,
            "left": null
          }
        },
        "995d5be2bcf64759875ac4c8b539060d": {
          "model_module": "@jupyter-widgets/controls",
          "model_name": "HTMLModel",
          "model_module_version": "1.5.0",
          "state": {
            "_view_name": "HTMLView",
            "style": "IPY_MODEL_dc2c454e3a1b409a9005ef99a1d02959",
            "_dom_classes": [],
            "description": "",
            "_model_name": "HTMLModel",
            "placeholder": "​",
            "_view_module": "@jupyter-widgets/controls",
            "_model_module_version": "1.5.0",
            "value": "100%",
            "_view_count": null,
            "_view_module_version": "1.5.0",
            "description_tooltip": null,
            "_model_module": "@jupyter-widgets/controls",
            "layout": "IPY_MODEL_6872a71d44e14d5d84a72ee8046bc224"
          }
        },
        "04f9cb06c5544ca0ae1a53d1351745c9": {
          "model_module": "@jupyter-widgets/controls",
          "model_name": "FloatProgressModel",
          "model_module_version": "1.5.0",
          "state": {
            "_view_name": "ProgressView",
            "style": "IPY_MODEL_16da640507a3458c83b895585f4923d3",
            "_dom_classes": [],
            "description": "",
            "_model_name": "FloatProgressModel",
            "bar_style": "success",
            "max": 23,
            "_view_module": "@jupyter-widgets/controls",
            "_model_module_version": "1.5.0",
            "value": 23,
            "_view_count": null,
            "_view_module_version": "1.5.0",
            "orientation": "horizontal",
            "min": 0,
            "description_tooltip": null,
            "_model_module": "@jupyter-widgets/controls",
            "layout": "IPY_MODEL_b49c7559f97d4dee8f83b50cd71586c9"
          }
        },
        "23c6eae1dd64451f95738d400bf09cfa": {
          "model_module": "@jupyter-widgets/controls",
          "model_name": "HTMLModel",
          "model_module_version": "1.5.0",
          "state": {
            "_view_name": "HTMLView",
            "style": "IPY_MODEL_30bfe72d02b947d291fdd2fe5eae7778",
            "_dom_classes": [],
            "description": "",
            "_model_name": "HTMLModel",
            "placeholder": "​",
            "_view_module": "@jupyter-widgets/controls",
            "_model_module_version": "1.5.0",
            "value": " 23/23 [02:47&lt;00:00,  7.16s/it]",
            "_view_count": null,
            "_view_module_version": "1.5.0",
            "description_tooltip": null,
            "_model_module": "@jupyter-widgets/controls",
            "layout": "IPY_MODEL_c2a26d491cfb48ab806e6806ba545c06"
          }
        },
        "dc2c454e3a1b409a9005ef99a1d02959": {
          "model_module": "@jupyter-widgets/controls",
          "model_name": "DescriptionStyleModel",
          "model_module_version": "1.5.0",
          "state": {
            "_view_name": "StyleView",
            "_model_name": "DescriptionStyleModel",
            "description_width": "",
            "_view_module": "@jupyter-widgets/base",
            "_model_module_version": "1.5.0",
            "_view_count": null,
            "_view_module_version": "1.2.0",
            "_model_module": "@jupyter-widgets/controls"
          }
        },
        "6872a71d44e14d5d84a72ee8046bc224": {
          "model_module": "@jupyter-widgets/base",
          "model_name": "LayoutModel",
          "model_module_version": "1.2.0",
          "state": {
            "_view_name": "LayoutView",
            "grid_template_rows": null,
            "right": null,
            "justify_content": null,
            "_view_module": "@jupyter-widgets/base",
            "overflow": null,
            "_model_module_version": "1.2.0",
            "_view_count": null,
            "flex_flow": null,
            "width": null,
            "min_width": null,
            "border": null,
            "align_items": null,
            "bottom": null,
            "_model_module": "@jupyter-widgets/base",
            "top": null,
            "grid_column": null,
            "overflow_y": null,
            "overflow_x": null,
            "grid_auto_flow": null,
            "grid_area": null,
            "grid_template_columns": null,
            "flex": null,
            "_model_name": "LayoutModel",
            "justify_items": null,
            "grid_row": null,
            "max_height": null,
            "align_content": null,
            "visibility": null,
            "align_self": null,
            "height": null,
            "min_height": null,
            "padding": null,
            "grid_auto_rows": null,
            "grid_gap": null,
            "max_width": null,
            "order": null,
            "_view_module_version": "1.2.0",
            "grid_template_areas": null,
            "object_position": null,
            "object_fit": null,
            "grid_auto_columns": null,
            "margin": null,
            "display": null,
            "left": null
          }
        },
        "16da640507a3458c83b895585f4923d3": {
          "model_module": "@jupyter-widgets/controls",
          "model_name": "ProgressStyleModel",
          "model_module_version": "1.5.0",
          "state": {
            "_view_name": "StyleView",
            "_model_name": "ProgressStyleModel",
            "description_width": "",
            "_view_module": "@jupyter-widgets/base",
            "_model_module_version": "1.5.0",
            "_view_count": null,
            "_view_module_version": "1.2.0",
            "bar_color": null,
            "_model_module": "@jupyter-widgets/controls"
          }
        },
        "b49c7559f97d4dee8f83b50cd71586c9": {
          "model_module": "@jupyter-widgets/base",
          "model_name": "LayoutModel",
          "model_module_version": "1.2.0",
          "state": {
            "_view_name": "LayoutView",
            "grid_template_rows": null,
            "right": null,
            "justify_content": null,
            "_view_module": "@jupyter-widgets/base",
            "overflow": null,
            "_model_module_version": "1.2.0",
            "_view_count": null,
            "flex_flow": null,
            "width": null,
            "min_width": null,
            "border": null,
            "align_items": null,
            "bottom": null,
            "_model_module": "@jupyter-widgets/base",
            "top": null,
            "grid_column": null,
            "overflow_y": null,
            "overflow_x": null,
            "grid_auto_flow": null,
            "grid_area": null,
            "grid_template_columns": null,
            "flex": null,
            "_model_name": "LayoutModel",
            "justify_items": null,
            "grid_row": null,
            "max_height": null,
            "align_content": null,
            "visibility": null,
            "align_self": null,
            "height": null,
            "min_height": null,
            "padding": null,
            "grid_auto_rows": null,
            "grid_gap": null,
            "max_width": null,
            "order": null,
            "_view_module_version": "1.2.0",
            "grid_template_areas": null,
            "object_position": null,
            "object_fit": null,
            "grid_auto_columns": null,
            "margin": null,
            "display": null,
            "left": null
          }
        },
        "30bfe72d02b947d291fdd2fe5eae7778": {
          "model_module": "@jupyter-widgets/controls",
          "model_name": "DescriptionStyleModel",
          "model_module_version": "1.5.0",
          "state": {
            "_view_name": "StyleView",
            "_model_name": "DescriptionStyleModel",
            "description_width": "",
            "_view_module": "@jupyter-widgets/base",
            "_model_module_version": "1.5.0",
            "_view_count": null,
            "_view_module_version": "1.2.0",
            "_model_module": "@jupyter-widgets/controls"
          }
        },
        "c2a26d491cfb48ab806e6806ba545c06": {
          "model_module": "@jupyter-widgets/base",
          "model_name": "LayoutModel",
          "model_module_version": "1.2.0",
          "state": {
            "_view_name": "LayoutView",
            "grid_template_rows": null,
            "right": null,
            "justify_content": null,
            "_view_module": "@jupyter-widgets/base",
            "overflow": null,
            "_model_module_version": "1.2.0",
            "_view_count": null,
            "flex_flow": null,
            "width": null,
            "min_width": null,
            "border": null,
            "align_items": null,
            "bottom": null,
            "_model_module": "@jupyter-widgets/base",
            "top": null,
            "grid_column": null,
            "overflow_y": null,
            "overflow_x": null,
            "grid_auto_flow": null,
            "grid_area": null,
            "grid_template_columns": null,
            "flex": null,
            "_model_name": "LayoutModel",
            "justify_items": null,
            "grid_row": null,
            "max_height": null,
            "align_content": null,
            "visibility": null,
            "align_self": null,
            "height": null,
            "min_height": null,
            "padding": null,
            "grid_auto_rows": null,
            "grid_gap": null,
            "max_width": null,
            "order": null,
            "_view_module_version": "1.2.0",
            "grid_template_areas": null,
            "object_position": null,
            "object_fit": null,
            "grid_auto_columns": null,
            "margin": null,
            "display": null,
            "left": null
          }
        },
        "c58cd25b14bc47f2af36dc81201a2dcb": {
          "model_module": "@jupyter-widgets/controls",
          "model_name": "HBoxModel",
          "model_module_version": "1.5.0",
          "state": {
            "_view_name": "HBoxView",
            "_dom_classes": [],
            "_model_name": "HBoxModel",
            "_view_module": "@jupyter-widgets/controls",
            "_model_module_version": "1.5.0",
            "_view_count": null,
            "_view_module_version": "1.5.0",
            "box_style": "",
            "layout": "IPY_MODEL_6623c691ad6e4d2abc6c015307e0d9e2",
            "_model_module": "@jupyter-widgets/controls",
            "children": [
              "IPY_MODEL_fdf714164f524b4c9ee9714fb814d124",
              "IPY_MODEL_8092d92b1f6a4e48a455d285273d0589",
              "IPY_MODEL_a7c488757f934501bf26d59ebe3f764f"
            ]
          }
        },
        "6623c691ad6e4d2abc6c015307e0d9e2": {
          "model_module": "@jupyter-widgets/base",
          "model_name": "LayoutModel",
          "model_module_version": "1.2.0",
          "state": {
            "_view_name": "LayoutView",
            "grid_template_rows": null,
            "right": null,
            "justify_content": null,
            "_view_module": "@jupyter-widgets/base",
            "overflow": null,
            "_model_module_version": "1.2.0",
            "_view_count": null,
            "flex_flow": null,
            "width": null,
            "min_width": null,
            "border": null,
            "align_items": null,
            "bottom": null,
            "_model_module": "@jupyter-widgets/base",
            "top": null,
            "grid_column": null,
            "overflow_y": null,
            "overflow_x": null,
            "grid_auto_flow": null,
            "grid_area": null,
            "grid_template_columns": null,
            "flex": null,
            "_model_name": "LayoutModel",
            "justify_items": null,
            "grid_row": null,
            "max_height": null,
            "align_content": null,
            "visibility": null,
            "align_self": null,
            "height": null,
            "min_height": null,
            "padding": null,
            "grid_auto_rows": null,
            "grid_gap": null,
            "max_width": null,
            "order": null,
            "_view_module_version": "1.2.0",
            "grid_template_areas": null,
            "object_position": null,
            "object_fit": null,
            "grid_auto_columns": null,
            "margin": null,
            "display": null,
            "left": null
          }
        },
        "fdf714164f524b4c9ee9714fb814d124": {
          "model_module": "@jupyter-widgets/controls",
          "model_name": "HTMLModel",
          "model_module_version": "1.5.0",
          "state": {
            "_view_name": "HTMLView",
            "style": "IPY_MODEL_95da860c89db47288a2d8b919cf7dc1d",
            "_dom_classes": [],
            "description": "",
            "_model_name": "HTMLModel",
            "placeholder": "​",
            "_view_module": "@jupyter-widgets/controls",
            "_model_module_version": "1.5.0",
            "value": "100%",
            "_view_count": null,
            "_view_module_version": "1.5.0",
            "description_tooltip": null,
            "_model_module": "@jupyter-widgets/controls",
            "layout": "IPY_MODEL_590c01e301dc43bb8ef73822d1ebe57f"
          }
        },
        "8092d92b1f6a4e48a455d285273d0589": {
          "model_module": "@jupyter-widgets/controls",
          "model_name": "FloatProgressModel",
          "model_module_version": "1.5.0",
          "state": {
            "_view_name": "ProgressView",
            "style": "IPY_MODEL_f4d609bf2fe247388b18ce114ba66901",
            "_dom_classes": [],
            "description": "",
            "_model_name": "FloatProgressModel",
            "bar_style": "success",
            "max": 23,
            "_view_module": "@jupyter-widgets/controls",
            "_model_module_version": "1.5.0",
            "value": 23,
            "_view_count": null,
            "_view_module_version": "1.5.0",
            "orientation": "horizontal",
            "min": 0,
            "description_tooltip": null,
            "_model_module": "@jupyter-widgets/controls",
            "layout": "IPY_MODEL_43c5008aeaa44d42ab5cc15c173998e7"
          }
        },
        "a7c488757f934501bf26d59ebe3f764f": {
          "model_module": "@jupyter-widgets/controls",
          "model_name": "HTMLModel",
          "model_module_version": "1.5.0",
          "state": {
            "_view_name": "HTMLView",
            "style": "IPY_MODEL_2b501e5c92704731ab50306661a7b15f",
            "_dom_classes": [],
            "description": "",
            "_model_name": "HTMLModel",
            "placeholder": "​",
            "_view_module": "@jupyter-widgets/controls",
            "_model_module_version": "1.5.0",
            "value": " 23/23 [00:02&lt;00:00, 10.36it/s]",
            "_view_count": null,
            "_view_module_version": "1.5.0",
            "description_tooltip": null,
            "_model_module": "@jupyter-widgets/controls",
            "layout": "IPY_MODEL_80e730bd76e245f2a827198c33c3c601"
          }
        },
        "95da860c89db47288a2d8b919cf7dc1d": {
          "model_module": "@jupyter-widgets/controls",
          "model_name": "DescriptionStyleModel",
          "model_module_version": "1.5.0",
          "state": {
            "_view_name": "StyleView",
            "_model_name": "DescriptionStyleModel",
            "description_width": "",
            "_view_module": "@jupyter-widgets/base",
            "_model_module_version": "1.5.0",
            "_view_count": null,
            "_view_module_version": "1.2.0",
            "_model_module": "@jupyter-widgets/controls"
          }
        },
        "590c01e301dc43bb8ef73822d1ebe57f": {
          "model_module": "@jupyter-widgets/base",
          "model_name": "LayoutModel",
          "model_module_version": "1.2.0",
          "state": {
            "_view_name": "LayoutView",
            "grid_template_rows": null,
            "right": null,
            "justify_content": null,
            "_view_module": "@jupyter-widgets/base",
            "overflow": null,
            "_model_module_version": "1.2.0",
            "_view_count": null,
            "flex_flow": null,
            "width": null,
            "min_width": null,
            "border": null,
            "align_items": null,
            "bottom": null,
            "_model_module": "@jupyter-widgets/base",
            "top": null,
            "grid_column": null,
            "overflow_y": null,
            "overflow_x": null,
            "grid_auto_flow": null,
            "grid_area": null,
            "grid_template_columns": null,
            "flex": null,
            "_model_name": "LayoutModel",
            "justify_items": null,
            "grid_row": null,
            "max_height": null,
            "align_content": null,
            "visibility": null,
            "align_self": null,
            "height": null,
            "min_height": null,
            "padding": null,
            "grid_auto_rows": null,
            "grid_gap": null,
            "max_width": null,
            "order": null,
            "_view_module_version": "1.2.0",
            "grid_template_areas": null,
            "object_position": null,
            "object_fit": null,
            "grid_auto_columns": null,
            "margin": null,
            "display": null,
            "left": null
          }
        },
        "f4d609bf2fe247388b18ce114ba66901": {
          "model_module": "@jupyter-widgets/controls",
          "model_name": "ProgressStyleModel",
          "model_module_version": "1.5.0",
          "state": {
            "_view_name": "StyleView",
            "_model_name": "ProgressStyleModel",
            "description_width": "",
            "_view_module": "@jupyter-widgets/base",
            "_model_module_version": "1.5.0",
            "_view_count": null,
            "_view_module_version": "1.2.0",
            "bar_color": null,
            "_model_module": "@jupyter-widgets/controls"
          }
        },
        "43c5008aeaa44d42ab5cc15c173998e7": {
          "model_module": "@jupyter-widgets/base",
          "model_name": "LayoutModel",
          "model_module_version": "1.2.0",
          "state": {
            "_view_name": "LayoutView",
            "grid_template_rows": null,
            "right": null,
            "justify_content": null,
            "_view_module": "@jupyter-widgets/base",
            "overflow": null,
            "_model_module_version": "1.2.0",
            "_view_count": null,
            "flex_flow": null,
            "width": null,
            "min_width": null,
            "border": null,
            "align_items": null,
            "bottom": null,
            "_model_module": "@jupyter-widgets/base",
            "top": null,
            "grid_column": null,
            "overflow_y": null,
            "overflow_x": null,
            "grid_auto_flow": null,
            "grid_area": null,
            "grid_template_columns": null,
            "flex": null,
            "_model_name": "LayoutModel",
            "justify_items": null,
            "grid_row": null,
            "max_height": null,
            "align_content": null,
            "visibility": null,
            "align_self": null,
            "height": null,
            "min_height": null,
            "padding": null,
            "grid_auto_rows": null,
            "grid_gap": null,
            "max_width": null,
            "order": null,
            "_view_module_version": "1.2.0",
            "grid_template_areas": null,
            "object_position": null,
            "object_fit": null,
            "grid_auto_columns": null,
            "margin": null,
            "display": null,
            "left": null
          }
        },
        "2b501e5c92704731ab50306661a7b15f": {
          "model_module": "@jupyter-widgets/controls",
          "model_name": "DescriptionStyleModel",
          "model_module_version": "1.5.0",
          "state": {
            "_view_name": "StyleView",
            "_model_name": "DescriptionStyleModel",
            "description_width": "",
            "_view_module": "@jupyter-widgets/base",
            "_model_module_version": "1.5.0",
            "_view_count": null,
            "_view_module_version": "1.2.0",
            "_model_module": "@jupyter-widgets/controls"
          }
        },
        "80e730bd76e245f2a827198c33c3c601": {
          "model_module": "@jupyter-widgets/base",
          "model_name": "LayoutModel",
          "model_module_version": "1.2.0",
          "state": {
            "_view_name": "LayoutView",
            "grid_template_rows": null,
            "right": null,
            "justify_content": null,
            "_view_module": "@jupyter-widgets/base",
            "overflow": null,
            "_model_module_version": "1.2.0",
            "_view_count": null,
            "flex_flow": null,
            "width": null,
            "min_width": null,
            "border": null,
            "align_items": null,
            "bottom": null,
            "_model_module": "@jupyter-widgets/base",
            "top": null,
            "grid_column": null,
            "overflow_y": null,
            "overflow_x": null,
            "grid_auto_flow": null,
            "grid_area": null,
            "grid_template_columns": null,
            "flex": null,
            "_model_name": "LayoutModel",
            "justify_items": null,
            "grid_row": null,
            "max_height": null,
            "align_content": null,
            "visibility": null,
            "align_self": null,
            "height": null,
            "min_height": null,
            "padding": null,
            "grid_auto_rows": null,
            "grid_gap": null,
            "max_width": null,
            "order": null,
            "_view_module_version": "1.2.0",
            "grid_template_areas": null,
            "object_position": null,
            "object_fit": null,
            "grid_auto_columns": null,
            "margin": null,
            "display": null,
            "left": null
          }
        },
        "ab499aa082884273bd97bec414cda050": {
          "model_module": "@jupyter-widgets/controls",
          "model_name": "HBoxModel",
          "model_module_version": "1.5.0",
          "state": {
            "_view_name": "HBoxView",
            "_dom_classes": [],
            "_model_name": "HBoxModel",
            "_view_module": "@jupyter-widgets/controls",
            "_model_module_version": "1.5.0",
            "_view_count": null,
            "_view_module_version": "1.5.0",
            "box_style": "",
            "layout": "IPY_MODEL_970733973df840fe829be885fde2ecd2",
            "_model_module": "@jupyter-widgets/controls",
            "children": [
              "IPY_MODEL_42de6e6c7ca9457e916a157aafd0c256",
              "IPY_MODEL_d4dba49172bc4b45a35241b9d07e293e",
              "IPY_MODEL_32b8c45129a2488fbabc780d84a6dbc9"
            ]
          }
        },
        "970733973df840fe829be885fde2ecd2": {
          "model_module": "@jupyter-widgets/base",
          "model_name": "LayoutModel",
          "model_module_version": "1.2.0",
          "state": {
            "_view_name": "LayoutView",
            "grid_template_rows": null,
            "right": null,
            "justify_content": null,
            "_view_module": "@jupyter-widgets/base",
            "overflow": null,
            "_model_module_version": "1.2.0",
            "_view_count": null,
            "flex_flow": null,
            "width": null,
            "min_width": null,
            "border": null,
            "align_items": null,
            "bottom": null,
            "_model_module": "@jupyter-widgets/base",
            "top": null,
            "grid_column": null,
            "overflow_y": null,
            "overflow_x": null,
            "grid_auto_flow": null,
            "grid_area": null,
            "grid_template_columns": null,
            "flex": null,
            "_model_name": "LayoutModel",
            "justify_items": null,
            "grid_row": null,
            "max_height": null,
            "align_content": null,
            "visibility": null,
            "align_self": null,
            "height": null,
            "min_height": null,
            "padding": null,
            "grid_auto_rows": null,
            "grid_gap": null,
            "max_width": null,
            "order": null,
            "_view_module_version": "1.2.0",
            "grid_template_areas": null,
            "object_position": null,
            "object_fit": null,
            "grid_auto_columns": null,
            "margin": null,
            "display": null,
            "left": null
          }
        },
        "42de6e6c7ca9457e916a157aafd0c256": {
          "model_module": "@jupyter-widgets/controls",
          "model_name": "HTMLModel",
          "model_module_version": "1.5.0",
          "state": {
            "_view_name": "HTMLView",
            "style": "IPY_MODEL_b694076dbb3049a098adf001d2ad054b",
            "_dom_classes": [],
            "description": "",
            "_model_name": "HTMLModel",
            "placeholder": "​",
            "_view_module": "@jupyter-widgets/controls",
            "_model_module_version": "1.5.0",
            "value": "",
            "_view_count": null,
            "_view_module_version": "1.5.0",
            "description_tooltip": null,
            "_model_module": "@jupyter-widgets/controls",
            "layout": "IPY_MODEL_84936afc095f432ca5e92b2a81fea4df"
          }
        },
        "d4dba49172bc4b45a35241b9d07e293e": {
          "model_module": "@jupyter-widgets/controls",
          "model_name": "FloatProgressModel",
          "model_module_version": "1.5.0",
          "state": {
            "_view_name": "ProgressView",
            "style": "IPY_MODEL_1c507c32216441b1898d867a71a3c870",
            "_dom_classes": [],
            "description": "",
            "_model_name": "FloatProgressModel",
            "bar_style": "success",
            "max": 1,
            "_view_module": "@jupyter-widgets/controls",
            "_model_module_version": "1.5.0",
            "value": 1,
            "_view_count": null,
            "_view_module_version": "1.5.0",
            "orientation": "horizontal",
            "min": 0,
            "description_tooltip": null,
            "_model_module": "@jupyter-widgets/controls",
            "layout": "IPY_MODEL_2811045af0984f14b80f909c94c88eb0"
          }
        },
        "32b8c45129a2488fbabc780d84a6dbc9": {
          "model_module": "@jupyter-widgets/controls",
          "model_name": "HTMLModel",
          "model_module_version": "1.5.0",
          "state": {
            "_view_name": "HTMLView",
            "style": "IPY_MODEL_d9ec4a1f40f04d9691293e289febb0ff",
            "_dom_classes": [],
            "description": "",
            "_model_name": "HTMLModel",
            "placeholder": "​",
            "_view_module": "@jupyter-widgets/controls",
            "_model_module_version": "1.5.0",
            "value": " 230000/? [00:27&lt;00:00, 8044.88it/s]",
            "_view_count": null,
            "_view_module_version": "1.5.0",
            "description_tooltip": null,
            "_model_module": "@jupyter-widgets/controls",
            "layout": "IPY_MODEL_27b763219af344dd97ca299f8661532b"
          }
        },
        "b694076dbb3049a098adf001d2ad054b": {
          "model_module": "@jupyter-widgets/controls",
          "model_name": "DescriptionStyleModel",
          "model_module_version": "1.5.0",
          "state": {
            "_view_name": "StyleView",
            "_model_name": "DescriptionStyleModel",
            "description_width": "",
            "_view_module": "@jupyter-widgets/base",
            "_model_module_version": "1.5.0",
            "_view_count": null,
            "_view_module_version": "1.2.0",
            "_model_module": "@jupyter-widgets/controls"
          }
        },
        "84936afc095f432ca5e92b2a81fea4df": {
          "model_module": "@jupyter-widgets/base",
          "model_name": "LayoutModel",
          "model_module_version": "1.2.0",
          "state": {
            "_view_name": "LayoutView",
            "grid_template_rows": null,
            "right": null,
            "justify_content": null,
            "_view_module": "@jupyter-widgets/base",
            "overflow": null,
            "_model_module_version": "1.2.0",
            "_view_count": null,
            "flex_flow": null,
            "width": null,
            "min_width": null,
            "border": null,
            "align_items": null,
            "bottom": null,
            "_model_module": "@jupyter-widgets/base",
            "top": null,
            "grid_column": null,
            "overflow_y": null,
            "overflow_x": null,
            "grid_auto_flow": null,
            "grid_area": null,
            "grid_template_columns": null,
            "flex": null,
            "_model_name": "LayoutModel",
            "justify_items": null,
            "grid_row": null,
            "max_height": null,
            "align_content": null,
            "visibility": null,
            "align_self": null,
            "height": null,
            "min_height": null,
            "padding": null,
            "grid_auto_rows": null,
            "grid_gap": null,
            "max_width": null,
            "order": null,
            "_view_module_version": "1.2.0",
            "grid_template_areas": null,
            "object_position": null,
            "object_fit": null,
            "grid_auto_columns": null,
            "margin": null,
            "display": null,
            "left": null
          }
        },
        "1c507c32216441b1898d867a71a3c870": {
          "model_module": "@jupyter-widgets/controls",
          "model_name": "ProgressStyleModel",
          "model_module_version": "1.5.0",
          "state": {
            "_view_name": "StyleView",
            "_model_name": "ProgressStyleModel",
            "description_width": "",
            "_view_module": "@jupyter-widgets/base",
            "_model_module_version": "1.5.0",
            "_view_count": null,
            "_view_module_version": "1.2.0",
            "bar_color": null,
            "_model_module": "@jupyter-widgets/controls"
          }
        },
        "2811045af0984f14b80f909c94c88eb0": {
          "model_module": "@jupyter-widgets/base",
          "model_name": "LayoutModel",
          "model_module_version": "1.2.0",
          "state": {
            "_view_name": "LayoutView",
            "grid_template_rows": null,
            "right": null,
            "justify_content": null,
            "_view_module": "@jupyter-widgets/base",
            "overflow": null,
            "_model_module_version": "1.2.0",
            "_view_count": null,
            "flex_flow": null,
            "width": "20px",
            "min_width": null,
            "border": null,
            "align_items": null,
            "bottom": null,
            "_model_module": "@jupyter-widgets/base",
            "top": null,
            "grid_column": null,
            "overflow_y": null,
            "overflow_x": null,
            "grid_auto_flow": null,
            "grid_area": null,
            "grid_template_columns": null,
            "flex": null,
            "_model_name": "LayoutModel",
            "justify_items": null,
            "grid_row": null,
            "max_height": null,
            "align_content": null,
            "visibility": null,
            "align_self": null,
            "height": null,
            "min_height": null,
            "padding": null,
            "grid_auto_rows": null,
            "grid_gap": null,
            "max_width": null,
            "order": null,
            "_view_module_version": "1.2.0",
            "grid_template_areas": null,
            "object_position": null,
            "object_fit": null,
            "grid_auto_columns": null,
            "margin": null,
            "display": null,
            "left": null
          }
        },
        "d9ec4a1f40f04d9691293e289febb0ff": {
          "model_module": "@jupyter-widgets/controls",
          "model_name": "DescriptionStyleModel",
          "model_module_version": "1.5.0",
          "state": {
            "_view_name": "StyleView",
            "_model_name": "DescriptionStyleModel",
            "description_width": "",
            "_view_module": "@jupyter-widgets/base",
            "_model_module_version": "1.5.0",
            "_view_count": null,
            "_view_module_version": "1.2.0",
            "_model_module": "@jupyter-widgets/controls"
          }
        },
        "27b763219af344dd97ca299f8661532b": {
          "model_module": "@jupyter-widgets/base",
          "model_name": "LayoutModel",
          "model_module_version": "1.2.0",
          "state": {
            "_view_name": "LayoutView",
            "grid_template_rows": null,
            "right": null,
            "justify_content": null,
            "_view_module": "@jupyter-widgets/base",
            "overflow": null,
            "_model_module_version": "1.2.0",
            "_view_count": null,
            "flex_flow": null,
            "width": null,
            "min_width": null,
            "border": null,
            "align_items": null,
            "bottom": null,
            "_model_module": "@jupyter-widgets/base",
            "top": null,
            "grid_column": null,
            "overflow_y": null,
            "overflow_x": null,
            "grid_auto_flow": null,
            "grid_area": null,
            "grid_template_columns": null,
            "flex": null,
            "_model_name": "LayoutModel",
            "justify_items": null,
            "grid_row": null,
            "max_height": null,
            "align_content": null,
            "visibility": null,
            "align_self": null,
            "height": null,
            "min_height": null,
            "padding": null,
            "grid_auto_rows": null,
            "grid_gap": null,
            "max_width": null,
            "order": null,
            "_view_module_version": "1.2.0",
            "grid_template_areas": null,
            "object_position": null,
            "object_fit": null,
            "grid_auto_columns": null,
            "margin": null,
            "display": null,
            "left": null
          }
        },
        "f06ca631f7d44ee685cc4fe98079e280": {
          "model_module": "@jupyter-widgets/controls",
          "model_name": "HBoxModel",
          "model_module_version": "1.5.0",
          "state": {
            "_view_name": "HBoxView",
            "_dom_classes": [],
            "_model_name": "HBoxModel",
            "_view_module": "@jupyter-widgets/controls",
            "_model_module_version": "1.5.0",
            "_view_count": null,
            "_view_module_version": "1.5.0",
            "box_style": "",
            "layout": "IPY_MODEL_2aa724c120fc4052b4f48407b247ba8b",
            "_model_module": "@jupyter-widgets/controls",
            "children": [
              "IPY_MODEL_bdae37be5b8c4dcf83c2f7b68150b083",
              "IPY_MODEL_a96571571c164a71aba12d6f5ae86e94",
              "IPY_MODEL_5393c1c9d14f49b691beac0d6a929db4"
            ]
          }
        },
        "2aa724c120fc4052b4f48407b247ba8b": {
          "model_module": "@jupyter-widgets/base",
          "model_name": "LayoutModel",
          "model_module_version": "1.2.0",
          "state": {
            "_view_name": "LayoutView",
            "grid_template_rows": null,
            "right": null,
            "justify_content": null,
            "_view_module": "@jupyter-widgets/base",
            "overflow": null,
            "_model_module_version": "1.2.0",
            "_view_count": null,
            "flex_flow": null,
            "width": null,
            "min_width": null,
            "border": null,
            "align_items": null,
            "bottom": null,
            "_model_module": "@jupyter-widgets/base",
            "top": null,
            "grid_column": null,
            "overflow_y": null,
            "overflow_x": null,
            "grid_auto_flow": null,
            "grid_area": null,
            "grid_template_columns": null,
            "flex": null,
            "_model_name": "LayoutModel",
            "justify_items": null,
            "grid_row": null,
            "max_height": null,
            "align_content": null,
            "visibility": null,
            "align_self": null,
            "height": null,
            "min_height": null,
            "padding": null,
            "grid_auto_rows": null,
            "grid_gap": null,
            "max_width": null,
            "order": null,
            "_view_module_version": "1.2.0",
            "grid_template_areas": null,
            "object_position": null,
            "object_fit": null,
            "grid_auto_columns": null,
            "margin": null,
            "display": null,
            "left": null
          }
        },
        "bdae37be5b8c4dcf83c2f7b68150b083": {
          "model_module": "@jupyter-widgets/controls",
          "model_name": "HTMLModel",
          "model_module_version": "1.5.0",
          "state": {
            "_view_name": "HTMLView",
            "style": "IPY_MODEL_e3cbcc158ca945cea76800c367e5f044",
            "_dom_classes": [],
            "description": "",
            "_model_name": "HTMLModel",
            "placeholder": "​",
            "_view_module": "@jupyter-widgets/controls",
            "_model_module_version": "1.5.0",
            "value": "100%",
            "_view_count": null,
            "_view_module_version": "1.5.0",
            "description_tooltip": null,
            "_model_module": "@jupyter-widgets/controls",
            "layout": "IPY_MODEL_a753206894bc4e89aad4976662ae28c2"
          }
        },
        "a96571571c164a71aba12d6f5ae86e94": {
          "model_module": "@jupyter-widgets/controls",
          "model_name": "FloatProgressModel",
          "model_module_version": "1.5.0",
          "state": {
            "_view_name": "ProgressView",
            "style": "IPY_MODEL_989631b6cb044381821b2f32007756dd",
            "_dom_classes": [],
            "description": "",
            "_model_name": "FloatProgressModel",
            "bar_style": "success",
            "max": 23,
            "_view_module": "@jupyter-widgets/controls",
            "_model_module_version": "1.5.0",
            "value": 23,
            "_view_count": null,
            "_view_module_version": "1.5.0",
            "orientation": "horizontal",
            "min": 0,
            "description_tooltip": null,
            "_model_module": "@jupyter-widgets/controls",
            "layout": "IPY_MODEL_14d4345bee774526988be8a1ea6283cb"
          }
        },
        "5393c1c9d14f49b691beac0d6a929db4": {
          "model_module": "@jupyter-widgets/controls",
          "model_name": "HTMLModel",
          "model_module_version": "1.5.0",
          "state": {
            "_view_name": "HTMLView",
            "style": "IPY_MODEL_2ddc60cd631941ea80bfcc22aea509a4",
            "_dom_classes": [],
            "description": "",
            "_model_name": "HTMLModel",
            "placeholder": "​",
            "_view_module": "@jupyter-widgets/controls",
            "_model_module_version": "1.5.0",
            "value": " 23/23 [00:00&lt;00:00, 29.36it/s]",
            "_view_count": null,
            "_view_module_version": "1.5.0",
            "description_tooltip": null,
            "_model_module": "@jupyter-widgets/controls",
            "layout": "IPY_MODEL_fcb4e79c67154beb9fc8b2e11d28abbe"
          }
        },
        "e3cbcc158ca945cea76800c367e5f044": {
          "model_module": "@jupyter-widgets/controls",
          "model_name": "DescriptionStyleModel",
          "model_module_version": "1.5.0",
          "state": {
            "_view_name": "StyleView",
            "_model_name": "DescriptionStyleModel",
            "description_width": "",
            "_view_module": "@jupyter-widgets/base",
            "_model_module_version": "1.5.0",
            "_view_count": null,
            "_view_module_version": "1.2.0",
            "_model_module": "@jupyter-widgets/controls"
          }
        },
        "a753206894bc4e89aad4976662ae28c2": {
          "model_module": "@jupyter-widgets/base",
          "model_name": "LayoutModel",
          "model_module_version": "1.2.0",
          "state": {
            "_view_name": "LayoutView",
            "grid_template_rows": null,
            "right": null,
            "justify_content": null,
            "_view_module": "@jupyter-widgets/base",
            "overflow": null,
            "_model_module_version": "1.2.0",
            "_view_count": null,
            "flex_flow": null,
            "width": null,
            "min_width": null,
            "border": null,
            "align_items": null,
            "bottom": null,
            "_model_module": "@jupyter-widgets/base",
            "top": null,
            "grid_column": null,
            "overflow_y": null,
            "overflow_x": null,
            "grid_auto_flow": null,
            "grid_area": null,
            "grid_template_columns": null,
            "flex": null,
            "_model_name": "LayoutModel",
            "justify_items": null,
            "grid_row": null,
            "max_height": null,
            "align_content": null,
            "visibility": null,
            "align_self": null,
            "height": null,
            "min_height": null,
            "padding": null,
            "grid_auto_rows": null,
            "grid_gap": null,
            "max_width": null,
            "order": null,
            "_view_module_version": "1.2.0",
            "grid_template_areas": null,
            "object_position": null,
            "object_fit": null,
            "grid_auto_columns": null,
            "margin": null,
            "display": null,
            "left": null
          }
        },
        "989631b6cb044381821b2f32007756dd": {
          "model_module": "@jupyter-widgets/controls",
          "model_name": "ProgressStyleModel",
          "model_module_version": "1.5.0",
          "state": {
            "_view_name": "StyleView",
            "_model_name": "ProgressStyleModel",
            "description_width": "",
            "_view_module": "@jupyter-widgets/base",
            "_model_module_version": "1.5.0",
            "_view_count": null,
            "_view_module_version": "1.2.0",
            "bar_color": null,
            "_model_module": "@jupyter-widgets/controls"
          }
        },
        "14d4345bee774526988be8a1ea6283cb": {
          "model_module": "@jupyter-widgets/base",
          "model_name": "LayoutModel",
          "model_module_version": "1.2.0",
          "state": {
            "_view_name": "LayoutView",
            "grid_template_rows": null,
            "right": null,
            "justify_content": null,
            "_view_module": "@jupyter-widgets/base",
            "overflow": null,
            "_model_module_version": "1.2.0",
            "_view_count": null,
            "flex_flow": null,
            "width": null,
            "min_width": null,
            "border": null,
            "align_items": null,
            "bottom": null,
            "_model_module": "@jupyter-widgets/base",
            "top": null,
            "grid_column": null,
            "overflow_y": null,
            "overflow_x": null,
            "grid_auto_flow": null,
            "grid_area": null,
            "grid_template_columns": null,
            "flex": null,
            "_model_name": "LayoutModel",
            "justify_items": null,
            "grid_row": null,
            "max_height": null,
            "align_content": null,
            "visibility": null,
            "align_self": null,
            "height": null,
            "min_height": null,
            "padding": null,
            "grid_auto_rows": null,
            "grid_gap": null,
            "max_width": null,
            "order": null,
            "_view_module_version": "1.2.0",
            "grid_template_areas": null,
            "object_position": null,
            "object_fit": null,
            "grid_auto_columns": null,
            "margin": null,
            "display": null,
            "left": null
          }
        },
        "2ddc60cd631941ea80bfcc22aea509a4": {
          "model_module": "@jupyter-widgets/controls",
          "model_name": "DescriptionStyleModel",
          "model_module_version": "1.5.0",
          "state": {
            "_view_name": "StyleView",
            "_model_name": "DescriptionStyleModel",
            "description_width": "",
            "_view_module": "@jupyter-widgets/base",
            "_model_module_version": "1.5.0",
            "_view_count": null,
            "_view_module_version": "1.2.0",
            "_model_module": "@jupyter-widgets/controls"
          }
        },
        "fcb4e79c67154beb9fc8b2e11d28abbe": {
          "model_module": "@jupyter-widgets/base",
          "model_name": "LayoutModel",
          "model_module_version": "1.2.0",
          "state": {
            "_view_name": "LayoutView",
            "grid_template_rows": null,
            "right": null,
            "justify_content": null,
            "_view_module": "@jupyter-widgets/base",
            "overflow": null,
            "_model_module_version": "1.2.0",
            "_view_count": null,
            "flex_flow": null,
            "width": null,
            "min_width": null,
            "border": null,
            "align_items": null,
            "bottom": null,
            "_model_module": "@jupyter-widgets/base",
            "top": null,
            "grid_column": null,
            "overflow_y": null,
            "overflow_x": null,
            "grid_auto_flow": null,
            "grid_area": null,
            "grid_template_columns": null,
            "flex": null,
            "_model_name": "LayoutModel",
            "justify_items": null,
            "grid_row": null,
            "max_height": null,
            "align_content": null,
            "visibility": null,
            "align_self": null,
            "height": null,
            "min_height": null,
            "padding": null,
            "grid_auto_rows": null,
            "grid_gap": null,
            "max_width": null,
            "order": null,
            "_view_module_version": "1.2.0",
            "grid_template_areas": null,
            "object_position": null,
            "object_fit": null,
            "grid_auto_columns": null,
            "margin": null,
            "display": null,
            "left": null
          }
        },
        "73fa8356ade8470fa0b1612cf300fe77": {
          "model_module": "@jupyter-widgets/controls",
          "model_name": "HBoxModel",
          "model_module_version": "1.5.0",
          "state": {
            "_view_name": "HBoxView",
            "_dom_classes": [],
            "_model_name": "HBoxModel",
            "_view_module": "@jupyter-widgets/controls",
            "_model_module_version": "1.5.0",
            "_view_count": null,
            "_view_module_version": "1.5.0",
            "box_style": "",
            "layout": "IPY_MODEL_9a608b1695f243a1b3eb2c6e9666f268",
            "_model_module": "@jupyter-widgets/controls",
            "children": [
              "IPY_MODEL_bfc0114893144724a99d693c2e6f398a",
              "IPY_MODEL_9d56b1a8808545839e8b4ef22e47be10",
              "IPY_MODEL_7f5682a584e14434878f84758cc2d51c"
            ]
          }
        },
        "9a608b1695f243a1b3eb2c6e9666f268": {
          "model_module": "@jupyter-widgets/base",
          "model_name": "LayoutModel",
          "model_module_version": "1.2.0",
          "state": {
            "_view_name": "LayoutView",
            "grid_template_rows": null,
            "right": null,
            "justify_content": null,
            "_view_module": "@jupyter-widgets/base",
            "overflow": null,
            "_model_module_version": "1.2.0",
            "_view_count": null,
            "flex_flow": null,
            "width": null,
            "min_width": null,
            "border": null,
            "align_items": null,
            "bottom": null,
            "_model_module": "@jupyter-widgets/base",
            "top": null,
            "grid_column": null,
            "overflow_y": null,
            "overflow_x": null,
            "grid_auto_flow": null,
            "grid_area": null,
            "grid_template_columns": null,
            "flex": null,
            "_model_name": "LayoutModel",
            "justify_items": null,
            "grid_row": null,
            "max_height": null,
            "align_content": null,
            "visibility": null,
            "align_self": null,
            "height": null,
            "min_height": null,
            "padding": null,
            "grid_auto_rows": null,
            "grid_gap": null,
            "max_width": null,
            "order": null,
            "_view_module_version": "1.2.0",
            "grid_template_areas": null,
            "object_position": null,
            "object_fit": null,
            "grid_auto_columns": null,
            "margin": null,
            "display": null,
            "left": null
          }
        },
        "bfc0114893144724a99d693c2e6f398a": {
          "model_module": "@jupyter-widgets/controls",
          "model_name": "HTMLModel",
          "model_module_version": "1.5.0",
          "state": {
            "_view_name": "HTMLView",
            "style": "IPY_MODEL_02119a2d81804a7594a01f4fdd42fba6",
            "_dom_classes": [],
            "description": "",
            "_model_name": "HTMLModel",
            "placeholder": "​",
            "_view_module": "@jupyter-widgets/controls",
            "_model_module_version": "1.5.0",
            "value": "",
            "_view_count": null,
            "_view_module_version": "1.5.0",
            "description_tooltip": null,
            "_model_module": "@jupyter-widgets/controls",
            "layout": "IPY_MODEL_dcc1e04db4414d28abc3e6e4d1bfe8f0"
          }
        },
        "9d56b1a8808545839e8b4ef22e47be10": {
          "model_module": "@jupyter-widgets/controls",
          "model_name": "FloatProgressModel",
          "model_module_version": "1.5.0",
          "state": {
            "_view_name": "ProgressView",
            "style": "IPY_MODEL_f9b0fae9ab0547db88b5e7a0e9a145ed",
            "_dom_classes": [],
            "description": "",
            "_model_name": "FloatProgressModel",
            "bar_style": "success",
            "max": 1,
            "_view_module": "@jupyter-widgets/controls",
            "_model_module_version": "1.5.0",
            "value": 1,
            "_view_count": null,
            "_view_module_version": "1.5.0",
            "orientation": "horizontal",
            "min": 0,
            "description_tooltip": null,
            "_model_module": "@jupyter-widgets/controls",
            "layout": "IPY_MODEL_8a31852736de4988a1b9ae2276c5fddb"
          }
        },
        "7f5682a584e14434878f84758cc2d51c": {
          "model_module": "@jupyter-widgets/controls",
          "model_name": "HTMLModel",
          "model_module_version": "1.5.0",
          "state": {
            "_view_name": "HTMLView",
            "style": "IPY_MODEL_12dfa811e8f941cb9869e8433946c760",
            "_dom_classes": [],
            "description": "",
            "_model_name": "HTMLModel",
            "placeholder": "​",
            "_view_module": "@jupyter-widgets/controls",
            "_model_module_version": "1.5.0",
            "value": " 70000/? [00:05&lt;00:00, 14590.74it/s]",
            "_view_count": null,
            "_view_module_version": "1.5.0",
            "description_tooltip": null,
            "_model_module": "@jupyter-widgets/controls",
            "layout": "IPY_MODEL_aa403985781b4240b680525c149a1890"
          }
        },
        "02119a2d81804a7594a01f4fdd42fba6": {
          "model_module": "@jupyter-widgets/controls",
          "model_name": "DescriptionStyleModel",
          "model_module_version": "1.5.0",
          "state": {
            "_view_name": "StyleView",
            "_model_name": "DescriptionStyleModel",
            "description_width": "",
            "_view_module": "@jupyter-widgets/base",
            "_model_module_version": "1.5.0",
            "_view_count": null,
            "_view_module_version": "1.2.0",
            "_model_module": "@jupyter-widgets/controls"
          }
        },
        "dcc1e04db4414d28abc3e6e4d1bfe8f0": {
          "model_module": "@jupyter-widgets/base",
          "model_name": "LayoutModel",
          "model_module_version": "1.2.0",
          "state": {
            "_view_name": "LayoutView",
            "grid_template_rows": null,
            "right": null,
            "justify_content": null,
            "_view_module": "@jupyter-widgets/base",
            "overflow": null,
            "_model_module_version": "1.2.0",
            "_view_count": null,
            "flex_flow": null,
            "width": null,
            "min_width": null,
            "border": null,
            "align_items": null,
            "bottom": null,
            "_model_module": "@jupyter-widgets/base",
            "top": null,
            "grid_column": null,
            "overflow_y": null,
            "overflow_x": null,
            "grid_auto_flow": null,
            "grid_area": null,
            "grid_template_columns": null,
            "flex": null,
            "_model_name": "LayoutModel",
            "justify_items": null,
            "grid_row": null,
            "max_height": null,
            "align_content": null,
            "visibility": null,
            "align_self": null,
            "height": null,
            "min_height": null,
            "padding": null,
            "grid_auto_rows": null,
            "grid_gap": null,
            "max_width": null,
            "order": null,
            "_view_module_version": "1.2.0",
            "grid_template_areas": null,
            "object_position": null,
            "object_fit": null,
            "grid_auto_columns": null,
            "margin": null,
            "display": null,
            "left": null
          }
        },
        "f9b0fae9ab0547db88b5e7a0e9a145ed": {
          "model_module": "@jupyter-widgets/controls",
          "model_name": "ProgressStyleModel",
          "model_module_version": "1.5.0",
          "state": {
            "_view_name": "StyleView",
            "_model_name": "ProgressStyleModel",
            "description_width": "",
            "_view_module": "@jupyter-widgets/base",
            "_model_module_version": "1.5.0",
            "_view_count": null,
            "_view_module_version": "1.2.0",
            "bar_color": null,
            "_model_module": "@jupyter-widgets/controls"
          }
        },
        "8a31852736de4988a1b9ae2276c5fddb": {
          "model_module": "@jupyter-widgets/base",
          "model_name": "LayoutModel",
          "model_module_version": "1.2.0",
          "state": {
            "_view_name": "LayoutView",
            "grid_template_rows": null,
            "right": null,
            "justify_content": null,
            "_view_module": "@jupyter-widgets/base",
            "overflow": null,
            "_model_module_version": "1.2.0",
            "_view_count": null,
            "flex_flow": null,
            "width": "20px",
            "min_width": null,
            "border": null,
            "align_items": null,
            "bottom": null,
            "_model_module": "@jupyter-widgets/base",
            "top": null,
            "grid_column": null,
            "overflow_y": null,
            "overflow_x": null,
            "grid_auto_flow": null,
            "grid_area": null,
            "grid_template_columns": null,
            "flex": null,
            "_model_name": "LayoutModel",
            "justify_items": null,
            "grid_row": null,
            "max_height": null,
            "align_content": null,
            "visibility": null,
            "align_self": null,
            "height": null,
            "min_height": null,
            "padding": null,
            "grid_auto_rows": null,
            "grid_gap": null,
            "max_width": null,
            "order": null,
            "_view_module_version": "1.2.0",
            "grid_template_areas": null,
            "object_position": null,
            "object_fit": null,
            "grid_auto_columns": null,
            "margin": null,
            "display": null,
            "left": null
          }
        },
        "12dfa811e8f941cb9869e8433946c760": {
          "model_module": "@jupyter-widgets/controls",
          "model_name": "DescriptionStyleModel",
          "model_module_version": "1.5.0",
          "state": {
            "_view_name": "StyleView",
            "_model_name": "DescriptionStyleModel",
            "description_width": "",
            "_view_module": "@jupyter-widgets/base",
            "_model_module_version": "1.5.0",
            "_view_count": null,
            "_view_module_version": "1.2.0",
            "_model_module": "@jupyter-widgets/controls"
          }
        },
        "aa403985781b4240b680525c149a1890": {
          "model_module": "@jupyter-widgets/base",
          "model_name": "LayoutModel",
          "model_module_version": "1.2.0",
          "state": {
            "_view_name": "LayoutView",
            "grid_template_rows": null,
            "right": null,
            "justify_content": null,
            "_view_module": "@jupyter-widgets/base",
            "overflow": null,
            "_model_module_version": "1.2.0",
            "_view_count": null,
            "flex_flow": null,
            "width": null,
            "min_width": null,
            "border": null,
            "align_items": null,
            "bottom": null,
            "_model_module": "@jupyter-widgets/base",
            "top": null,
            "grid_column": null,
            "overflow_y": null,
            "overflow_x": null,
            "grid_auto_flow": null,
            "grid_area": null,
            "grid_template_columns": null,
            "flex": null,
            "_model_name": "LayoutModel",
            "justify_items": null,
            "grid_row": null,
            "max_height": null,
            "align_content": null,
            "visibility": null,
            "align_self": null,
            "height": null,
            "min_height": null,
            "padding": null,
            "grid_auto_rows": null,
            "grid_gap": null,
            "max_width": null,
            "order": null,
            "_view_module_version": "1.2.0",
            "grid_template_areas": null,
            "object_position": null,
            "object_fit": null,
            "grid_auto_columns": null,
            "margin": null,
            "display": null,
            "left": null
          }
        }
      }
    }
  },
  "cells": [
    {
      "cell_type": "markdown",
      "metadata": {
        "id": "view-in-github",
        "colab_type": "text"
      },
      "source": [
        "<a href=\"https://colab.research.google.com/github/art-glazunov/Non-standard-categorical-encodings/blob/main/group_counts_and_SVD.ipynb\" target=\"_parent\"><img src=\"https://colab.research.google.com/assets/colab-badge.svg\" alt=\"Open In Colab\"/></a>"
      ]
    },
    {
      "cell_type": "markdown",
      "metadata": {
        "id": "gMlqLp6EHQcC"
      },
      "source": [
        "# Non-standard categorical encodings\n",
        "by Artyom Glazunov\n",
        "#Part 2.1. Group counts + Truncated SVD"
      ]
    },
    {
      "cell_type": "markdown",
      "metadata": {
        "id": "h3LDzdMvnRKQ"
      },
      "source": [
        "### In this notebook, you can check out how group counts and truncated SVD can help with categorical encoding and getting object embeddings in an unsupervised manner. Such embeddings can be useful for solving many supervised and unsupervised learning tasks.\n",
        "Inspired by https://github.com/cerlymarco/MEDIUM_NoteBook/blob/master/Group2Vec/Group2Vec.ipynb\n"
      ]
    },
    {
      "cell_type": "code",
      "metadata": {
        "id": "Fc7l4Qk5rzQH"
      },
      "source": [
        "import pandas as pd\n",
        "import numpy as np\n",
        "\n",
        "import itertools\n",
        "import lightgbm as lgb\n",
        "from sklearn.linear_model import LogisticRegression\n",
        "from sklearn.model_selection import train_test_split\n",
        "\n",
        "from sklearn.feature_extraction.text import CountVectorizer\n",
        "from sklearn.decomposition import TruncatedSVD\n",
        "from sklearn.metrics import roc_auc_score\n",
        "from sklearn.manifold import TSNE, MDS\n",
        "from sklearn.preprocessing import StandardScaler\n",
        "from sklearn.pipeline import Pipeline\n",
        "\n",
        "from tqdm.notebook import tqdm\n",
        "import matplotlib.pyplot as plt\n",
        "\n",
        "import warnings\n",
        "warnings.filterwarnings(\"ignore\")\n",
        "from typing import List, NewType\n",
        "MixingCategoricalEmbedderObject = NewType('MixingCategoricalEmbedderObject', object) #creating new type to annotate in our class"
      ],
      "execution_count": null,
      "outputs": []
    },
    {
      "cell_type": "markdown",
      "metadata": {
        "id": "MOunfm9fnI_i"
      },
      "source": [
        "Download our train dataset from https://www.kaggle.com/c/cat-in-the-dat/data?select=train.csv into your directory, here I use a folder on my Google Drive to store the data. Of course, you can simply load the data into the folder on the left, without Google Drive. But if you want to mount your drive, you can do as instructed here https://towardsdatascience.com/downloading-datasets-into-google-drive-via-google-colab-bcb1b30b0166, *or just use a button on the left panel*). "
      ]
    },
    {
      "cell_type": "markdown",
      "metadata": {
        "id": "MkCXAB21nvE2"
      },
      "source": [
        "Change working dir"
      ]
    },
    {
      "cell_type": "code",
      "metadata": {
        "colab": {
          "base_uri": "https://localhost:8080/"
        },
        "id": "vVY9YtQ1sKQl",
        "outputId": "a8443d5c-3d6d-4805-c286-e46b02542b11"
      },
      "source": [
        "cd /content/drive/MyDrive/Colab_Notebooks/article"
      ],
      "execution_count": null,
      "outputs": [
        {
          "output_type": "stream",
          "name": "stdout",
          "text": [
            "/content/drive/MyDrive/Colab_Notebooks/article\n"
          ]
        }
      ]
    },
    {
      "cell_type": "markdown",
      "metadata": {
        "id": "AmPRt6AXnwTJ"
      },
      "source": [
        "Check the folder"
      ]
    },
    {
      "cell_type": "code",
      "metadata": {
        "colab": {
          "base_uri": "https://localhost:8080/"
        },
        "id": "_b2nO5jtsKaM",
        "outputId": "b5c8069f-639c-4d63-a337-cfa881de37e3"
      },
      "source": [
        "!ls"
      ],
      "execution_count": null,
      "outputs": [
        {
          "output_type": "stream",
          "name": "stdout",
          "text": [
            "group_counts_and_entropy.ipynb\tgroup_counts_and_SVD.ipynb  train.csv\n"
          ]
        }
      ]
    },
    {
      "cell_type": "markdown",
      "metadata": {
        "id": "aQKhGsgvn3mK"
      },
      "source": [
        "Our file is here, let's load the data and split it into train and test parts"
      ]
    },
    {
      "cell_type": "code",
      "metadata": {
        "colab": {
          "base_uri": "https://localhost:8080/",
          "height": 309
        },
        "id": "Ixi-xSs8sKgA",
        "outputId": "728877a4-cb6d-401d-a614-50a32cda03a1"
      },
      "source": [
        "data = pd.read_csv('train.csv', index_col = 'id')\n",
        "train = data.iloc[:-70000]\n",
        "print(train.shape)\n",
        "train.head()"
      ],
      "execution_count": null,
      "outputs": [
        {
          "output_type": "stream",
          "name": "stdout",
          "text": [
            "(230000, 24)\n"
          ]
        },
        {
          "output_type": "execute_result",
          "data": {
            "text/html": [
              "<div>\n",
              "<style scoped>\n",
              "    .dataframe tbody tr th:only-of-type {\n",
              "        vertical-align: middle;\n",
              "    }\n",
              "\n",
              "    .dataframe tbody tr th {\n",
              "        vertical-align: top;\n",
              "    }\n",
              "\n",
              "    .dataframe thead th {\n",
              "        text-align: right;\n",
              "    }\n",
              "</style>\n",
              "<table border=\"1\" class=\"dataframe\">\n",
              "  <thead>\n",
              "    <tr style=\"text-align: right;\">\n",
              "      <th></th>\n",
              "      <th>bin_0</th>\n",
              "      <th>bin_1</th>\n",
              "      <th>bin_2</th>\n",
              "      <th>bin_3</th>\n",
              "      <th>bin_4</th>\n",
              "      <th>nom_0</th>\n",
              "      <th>nom_1</th>\n",
              "      <th>nom_2</th>\n",
              "      <th>nom_3</th>\n",
              "      <th>nom_4</th>\n",
              "      <th>nom_5</th>\n",
              "      <th>nom_6</th>\n",
              "      <th>nom_7</th>\n",
              "      <th>nom_8</th>\n",
              "      <th>nom_9</th>\n",
              "      <th>ord_0</th>\n",
              "      <th>ord_1</th>\n",
              "      <th>ord_2</th>\n",
              "      <th>ord_3</th>\n",
              "      <th>ord_4</th>\n",
              "      <th>ord_5</th>\n",
              "      <th>day</th>\n",
              "      <th>month</th>\n",
              "      <th>target</th>\n",
              "    </tr>\n",
              "    <tr>\n",
              "      <th>id</th>\n",
              "      <th></th>\n",
              "      <th></th>\n",
              "      <th></th>\n",
              "      <th></th>\n",
              "      <th></th>\n",
              "      <th></th>\n",
              "      <th></th>\n",
              "      <th></th>\n",
              "      <th></th>\n",
              "      <th></th>\n",
              "      <th></th>\n",
              "      <th></th>\n",
              "      <th></th>\n",
              "      <th></th>\n",
              "      <th></th>\n",
              "      <th></th>\n",
              "      <th></th>\n",
              "      <th></th>\n",
              "      <th></th>\n",
              "      <th></th>\n",
              "      <th></th>\n",
              "      <th></th>\n",
              "      <th></th>\n",
              "      <th></th>\n",
              "    </tr>\n",
              "  </thead>\n",
              "  <tbody>\n",
              "    <tr>\n",
              "      <th>0</th>\n",
              "      <td>0</td>\n",
              "      <td>0</td>\n",
              "      <td>0</td>\n",
              "      <td>T</td>\n",
              "      <td>Y</td>\n",
              "      <td>Green</td>\n",
              "      <td>Triangle</td>\n",
              "      <td>Snake</td>\n",
              "      <td>Finland</td>\n",
              "      <td>Bassoon</td>\n",
              "      <td>50f116bcf</td>\n",
              "      <td>3ac1b8814</td>\n",
              "      <td>68f6ad3e9</td>\n",
              "      <td>c389000ab</td>\n",
              "      <td>2f4cb3d51</td>\n",
              "      <td>2</td>\n",
              "      <td>Grandmaster</td>\n",
              "      <td>Cold</td>\n",
              "      <td>h</td>\n",
              "      <td>D</td>\n",
              "      <td>kr</td>\n",
              "      <td>2</td>\n",
              "      <td>2</td>\n",
              "      <td>0</td>\n",
              "    </tr>\n",
              "    <tr>\n",
              "      <th>1</th>\n",
              "      <td>0</td>\n",
              "      <td>1</td>\n",
              "      <td>0</td>\n",
              "      <td>T</td>\n",
              "      <td>Y</td>\n",
              "      <td>Green</td>\n",
              "      <td>Trapezoid</td>\n",
              "      <td>Hamster</td>\n",
              "      <td>Russia</td>\n",
              "      <td>Piano</td>\n",
              "      <td>b3b4d25d0</td>\n",
              "      <td>fbcb50fc1</td>\n",
              "      <td>3b6dd5612</td>\n",
              "      <td>4cd920251</td>\n",
              "      <td>f83c56c21</td>\n",
              "      <td>1</td>\n",
              "      <td>Grandmaster</td>\n",
              "      <td>Hot</td>\n",
              "      <td>a</td>\n",
              "      <td>A</td>\n",
              "      <td>bF</td>\n",
              "      <td>7</td>\n",
              "      <td>8</td>\n",
              "      <td>0</td>\n",
              "    </tr>\n",
              "    <tr>\n",
              "      <th>2</th>\n",
              "      <td>0</td>\n",
              "      <td>0</td>\n",
              "      <td>0</td>\n",
              "      <td>F</td>\n",
              "      <td>Y</td>\n",
              "      <td>Blue</td>\n",
              "      <td>Trapezoid</td>\n",
              "      <td>Lion</td>\n",
              "      <td>Russia</td>\n",
              "      <td>Theremin</td>\n",
              "      <td>3263bdce5</td>\n",
              "      <td>0922e3cb8</td>\n",
              "      <td>a6a36f527</td>\n",
              "      <td>de9c9f684</td>\n",
              "      <td>ae6800dd0</td>\n",
              "      <td>1</td>\n",
              "      <td>Expert</td>\n",
              "      <td>Lava Hot</td>\n",
              "      <td>h</td>\n",
              "      <td>R</td>\n",
              "      <td>Jc</td>\n",
              "      <td>7</td>\n",
              "      <td>2</td>\n",
              "      <td>0</td>\n",
              "    </tr>\n",
              "    <tr>\n",
              "      <th>3</th>\n",
              "      <td>0</td>\n",
              "      <td>1</td>\n",
              "      <td>0</td>\n",
              "      <td>F</td>\n",
              "      <td>Y</td>\n",
              "      <td>Red</td>\n",
              "      <td>Trapezoid</td>\n",
              "      <td>Snake</td>\n",
              "      <td>Canada</td>\n",
              "      <td>Oboe</td>\n",
              "      <td>f12246592</td>\n",
              "      <td>50d7ad46a</td>\n",
              "      <td>ec69236eb</td>\n",
              "      <td>4ade6ab69</td>\n",
              "      <td>8270f0d71</td>\n",
              "      <td>1</td>\n",
              "      <td>Grandmaster</td>\n",
              "      <td>Boiling Hot</td>\n",
              "      <td>i</td>\n",
              "      <td>D</td>\n",
              "      <td>kW</td>\n",
              "      <td>2</td>\n",
              "      <td>1</td>\n",
              "      <td>1</td>\n",
              "    </tr>\n",
              "    <tr>\n",
              "      <th>4</th>\n",
              "      <td>0</td>\n",
              "      <td>0</td>\n",
              "      <td>0</td>\n",
              "      <td>F</td>\n",
              "      <td>N</td>\n",
              "      <td>Red</td>\n",
              "      <td>Trapezoid</td>\n",
              "      <td>Lion</td>\n",
              "      <td>Canada</td>\n",
              "      <td>Oboe</td>\n",
              "      <td>5b0f5acd5</td>\n",
              "      <td>1fe17a1fd</td>\n",
              "      <td>04ddac2be</td>\n",
              "      <td>cb43ab175</td>\n",
              "      <td>b164b72a7</td>\n",
              "      <td>1</td>\n",
              "      <td>Grandmaster</td>\n",
              "      <td>Freezing</td>\n",
              "      <td>a</td>\n",
              "      <td>R</td>\n",
              "      <td>qP</td>\n",
              "      <td>7</td>\n",
              "      <td>8</td>\n",
              "      <td>0</td>\n",
              "    </tr>\n",
              "  </tbody>\n",
              "</table>\n",
              "</div>"
            ],
            "text/plain": [
              "    bin_0  bin_1  bin_2 bin_3 bin_4  ... ord_4 ord_5 day month target\n",
              "id                                   ...                             \n",
              "0       0      0      0     T     Y  ...     D    kr   2     2      0\n",
              "1       0      1      0     T     Y  ...     A    bF   7     8      0\n",
              "2       0      0      0     F     Y  ...     R    Jc   7     2      0\n",
              "3       0      1      0     F     Y  ...     D    kW   2     1      1\n",
              "4       0      0      0     F     N  ...     R    qP   7     8      0\n",
              "\n",
              "[5 rows x 24 columns]"
            ]
          },
          "metadata": {},
          "execution_count": 4
        }
      ]
    },
    {
      "cell_type": "code",
      "metadata": {
        "colab": {
          "base_uri": "https://localhost:8080/",
          "height": 327
        },
        "id": "BvdtLysQsKk2",
        "outputId": "94ddbe3c-4d04-48b4-fb2e-983169b72aba"
      },
      "source": [
        "test = data.iloc[-70000:]\n",
        "print(test.shape)\n",
        "test.head()"
      ],
      "execution_count": null,
      "outputs": [
        {
          "output_type": "stream",
          "name": "stdout",
          "text": [
            "(70000, 24)\n"
          ]
        },
        {
          "output_type": "execute_result",
          "data": {
            "text/html": [
              "<div>\n",
              "<style scoped>\n",
              "    .dataframe tbody tr th:only-of-type {\n",
              "        vertical-align: middle;\n",
              "    }\n",
              "\n",
              "    .dataframe tbody tr th {\n",
              "        vertical-align: top;\n",
              "    }\n",
              "\n",
              "    .dataframe thead th {\n",
              "        text-align: right;\n",
              "    }\n",
              "</style>\n",
              "<table border=\"1\" class=\"dataframe\">\n",
              "  <thead>\n",
              "    <tr style=\"text-align: right;\">\n",
              "      <th></th>\n",
              "      <th>bin_0</th>\n",
              "      <th>bin_1</th>\n",
              "      <th>bin_2</th>\n",
              "      <th>bin_3</th>\n",
              "      <th>bin_4</th>\n",
              "      <th>nom_0</th>\n",
              "      <th>nom_1</th>\n",
              "      <th>nom_2</th>\n",
              "      <th>nom_3</th>\n",
              "      <th>nom_4</th>\n",
              "      <th>nom_5</th>\n",
              "      <th>nom_6</th>\n",
              "      <th>nom_7</th>\n",
              "      <th>nom_8</th>\n",
              "      <th>nom_9</th>\n",
              "      <th>ord_0</th>\n",
              "      <th>ord_1</th>\n",
              "      <th>ord_2</th>\n",
              "      <th>ord_3</th>\n",
              "      <th>ord_4</th>\n",
              "      <th>ord_5</th>\n",
              "      <th>day</th>\n",
              "      <th>month</th>\n",
              "      <th>target</th>\n",
              "    </tr>\n",
              "    <tr>\n",
              "      <th>id</th>\n",
              "      <th></th>\n",
              "      <th></th>\n",
              "      <th></th>\n",
              "      <th></th>\n",
              "      <th></th>\n",
              "      <th></th>\n",
              "      <th></th>\n",
              "      <th></th>\n",
              "      <th></th>\n",
              "      <th></th>\n",
              "      <th></th>\n",
              "      <th></th>\n",
              "      <th></th>\n",
              "      <th></th>\n",
              "      <th></th>\n",
              "      <th></th>\n",
              "      <th></th>\n",
              "      <th></th>\n",
              "      <th></th>\n",
              "      <th></th>\n",
              "      <th></th>\n",
              "      <th></th>\n",
              "      <th></th>\n",
              "      <th></th>\n",
              "    </tr>\n",
              "  </thead>\n",
              "  <tbody>\n",
              "    <tr>\n",
              "      <th>230000</th>\n",
              "      <td>1</td>\n",
              "      <td>1</td>\n",
              "      <td>0</td>\n",
              "      <td>F</td>\n",
              "      <td>Y</td>\n",
              "      <td>Green</td>\n",
              "      <td>Square</td>\n",
              "      <td>Dog</td>\n",
              "      <td>Russia</td>\n",
              "      <td>Piano</td>\n",
              "      <td>92190168b</td>\n",
              "      <td>fa498a5ae</td>\n",
              "      <td>d10553e7e</td>\n",
              "      <td>80be47228</td>\n",
              "      <td>47d38e9d3</td>\n",
              "      <td>1</td>\n",
              "      <td>Master</td>\n",
              "      <td>Lava Hot</td>\n",
              "      <td>e</td>\n",
              "      <td>U</td>\n",
              "      <td>MO</td>\n",
              "      <td>4</td>\n",
              "      <td>2</td>\n",
              "      <td>0</td>\n",
              "    </tr>\n",
              "    <tr>\n",
              "      <th>230001</th>\n",
              "      <td>0</td>\n",
              "      <td>0</td>\n",
              "      <td>0</td>\n",
              "      <td>T</td>\n",
              "      <td>Y</td>\n",
              "      <td>Red</td>\n",
              "      <td>Star</td>\n",
              "      <td>Lion</td>\n",
              "      <td>Canada</td>\n",
              "      <td>Piano</td>\n",
              "      <td>e7d9ca356</td>\n",
              "      <td>0b23e3352</td>\n",
              "      <td>40f84f6de</td>\n",
              "      <td>333f46907</td>\n",
              "      <td>e9e56a3f8</td>\n",
              "      <td>1</td>\n",
              "      <td>Expert</td>\n",
              "      <td>Boiling Hot</td>\n",
              "      <td>i</td>\n",
              "      <td>O</td>\n",
              "      <td>CM</td>\n",
              "      <td>1</td>\n",
              "      <td>1</td>\n",
              "      <td>0</td>\n",
              "    </tr>\n",
              "    <tr>\n",
              "      <th>230002</th>\n",
              "      <td>0</td>\n",
              "      <td>0</td>\n",
              "      <td>0</td>\n",
              "      <td>F</td>\n",
              "      <td>Y</td>\n",
              "      <td>Red</td>\n",
              "      <td>Circle</td>\n",
              "      <td>Cat</td>\n",
              "      <td>Canada</td>\n",
              "      <td>Bassoon</td>\n",
              "      <td>a3f640358</td>\n",
              "      <td>9b1c3c8b7</td>\n",
              "      <td>d1586e0e0</td>\n",
              "      <td>1b9339c49</td>\n",
              "      <td>973983691</td>\n",
              "      <td>3</td>\n",
              "      <td>Grandmaster</td>\n",
              "      <td>Freezing</td>\n",
              "      <td>b</td>\n",
              "      <td>T</td>\n",
              "      <td>RL</td>\n",
              "      <td>3</td>\n",
              "      <td>8</td>\n",
              "      <td>1</td>\n",
              "    </tr>\n",
              "    <tr>\n",
              "      <th>230003</th>\n",
              "      <td>1</td>\n",
              "      <td>0</td>\n",
              "      <td>0</td>\n",
              "      <td>T</td>\n",
              "      <td>N</td>\n",
              "      <td>Green</td>\n",
              "      <td>Trapezoid</td>\n",
              "      <td>Hamster</td>\n",
              "      <td>Costa Rica</td>\n",
              "      <td>Bassoon</td>\n",
              "      <td>0b3bec656</td>\n",
              "      <td>603232dea</td>\n",
              "      <td>5387ed7d2</td>\n",
              "      <td>da8be1022</td>\n",
              "      <td>508c9de37</td>\n",
              "      <td>1</td>\n",
              "      <td>Novice</td>\n",
              "      <td>Warm</td>\n",
              "      <td>e</td>\n",
              "      <td>U</td>\n",
              "      <td>Qo</td>\n",
              "      <td>2</td>\n",
              "      <td>11</td>\n",
              "      <td>0</td>\n",
              "    </tr>\n",
              "    <tr>\n",
              "      <th>230004</th>\n",
              "      <td>1</td>\n",
              "      <td>0</td>\n",
              "      <td>0</td>\n",
              "      <td>T</td>\n",
              "      <td>Y</td>\n",
              "      <td>Blue</td>\n",
              "      <td>Star</td>\n",
              "      <td>Axolotl</td>\n",
              "      <td>Canada</td>\n",
              "      <td>Piano</td>\n",
              "      <td>4173a0252</td>\n",
              "      <td>c135cdf77</td>\n",
              "      <td>91cd074b1</td>\n",
              "      <td>1a2fd4686</td>\n",
              "      <td>75193d88a</td>\n",
              "      <td>3</td>\n",
              "      <td>Novice</td>\n",
              "      <td>Hot</td>\n",
              "      <td>g</td>\n",
              "      <td>U</td>\n",
              "      <td>LE</td>\n",
              "      <td>4</td>\n",
              "      <td>12</td>\n",
              "      <td>1</td>\n",
              "    </tr>\n",
              "  </tbody>\n",
              "</table>\n",
              "</div>"
            ],
            "text/plain": [
              "        bin_0  bin_1  bin_2 bin_3 bin_4  ... ord_4 ord_5 day month target\n",
              "id                                       ...                             \n",
              "230000      1      1      0     F     Y  ...     U    MO   4     2      0\n",
              "230001      0      0      0     T     Y  ...     O    CM   1     1      0\n",
              "230002      0      0      0     F     Y  ...     T    RL   3     8      1\n",
              "230003      1      0      0     T     N  ...     U    Qo   2    11      0\n",
              "230004      1      0      0     T     Y  ...     U    LE   4    12      1\n",
              "\n",
              "[5 rows x 24 columns]"
            ]
          },
          "metadata": {},
          "execution_count": 5
        }
      ]
    },
    {
      "cell_type": "markdown",
      "metadata": {
        "id": "RFbnprnjn-cT"
      },
      "source": [
        "Select only features"
      ]
    },
    {
      "cell_type": "code",
      "metadata": {
        "colab": {
          "base_uri": "https://localhost:8080/"
        },
        "id": "agGVh7zBuu9d",
        "outputId": "e4ef0d0f-bf0b-4c1e-8792-cefb48fd4a5f"
      },
      "source": [
        "categorical_cols = [col for col in train.columns if col != 'target']\n",
        "print(categorical_cols)\n",
        "len(categorical_cols)"
      ],
      "execution_count": null,
      "outputs": [
        {
          "output_type": "stream",
          "name": "stdout",
          "text": [
            "['bin_0', 'bin_1', 'bin_2', 'bin_3', 'bin_4', 'nom_0', 'nom_1', 'nom_2', 'nom_3', 'nom_4', 'nom_5', 'nom_6', 'nom_7', 'nom_8', 'nom_9', 'ord_0', 'ord_1', 'ord_2', 'ord_3', 'ord_4', 'ord_5', 'day', 'month']\n"
          ]
        },
        {
          "output_type": "execute_result",
          "data": {
            "text/plain": [
              "23"
            ]
          },
          "metadata": {},
          "execution_count": 6
        }
      ]
    },
    {
      "cell_type": "markdown",
      "metadata": {
        "id": "52vsULycoBN0"
      },
      "source": [
        "So, get the data in a convenient format"
      ]
    },
    {
      "cell_type": "code",
      "metadata": {
        "id": "xt_kR2sksKpP"
      },
      "source": [
        "X_train = train[categorical_cols]\n",
        "y_train = train['target']\n",
        "X_test = test[categorical_cols]\n",
        "y_test = test['target']"
      ],
      "execution_count": null,
      "outputs": []
    },
    {
      "cell_type": "markdown",
      "metadata": {
        "id": "_Ml2WA8DDjGM"
      },
      "source": [
        "### Create a custom class for our embedder"
      ]
    },
    {
      "cell_type": "code",
      "metadata": {
        "id": "4Cud5Y22qTBN"
      },
      "source": [
        "class MixingCategoricalEmbedder:\n",
        "    \"\"\"Unsupervised categorical embedder based on group counts and TruncatedSVD\n",
        "\n",
        "    fit - get dictionary for the transformation of categorical objects into embeddings \n",
        "    transform - map the dictionary onto your categorical dataset to get the embeddings\n",
        "    \"\"\"\n",
        "\n",
        "    def __init__(self, n_components: int = 5, \n",
        "                n_svd_iter: int = 10,\n",
        "                random_state: int = 33):\n",
        "        self.n_components = n_components #n components for the pair group_key-passive_key\n",
        "        self.n_iter = n_svd_iter\n",
        "        self.random_state = random_state\n",
        "        self.substitute_dict = {} #resulting dictionary to transform the objects into embs\n",
        "\n",
        "    def __repr__(self):\n",
        "        return self.__class__.__name__ + f\"(n_components = {self.n_components}, \" +\\\n",
        "                                        f\"n_svd_iter = {self.n_iter}, \"  +\\\n",
        "                                        f\"random_state = {self.random_state})\"\n",
        "    \n",
        "    @staticmethod\n",
        "    def cat_prep(data: pd.DataFrame) -> pd.DataFrame:\n",
        "        \"\"\"change category names for simplification\n",
        "\n",
        "        format -> category-name_category-name\n",
        "        \"\"\"\n",
        "\n",
        "        data_new = data.copy()\n",
        "        for col in tqdm(data.columns):\n",
        "          data_new[col] = data[col].apply(lambda x: col + '_' + str(x))\n",
        "        return data_new\n",
        "    \n",
        "    def fit(self, df_train: pd.DataFrame, verbose: bool = True) -> MixingCategoricalEmbedderObject: # we created this custom type earlier\n",
        "        \"\"\"Create dictionary to map on the dataset\n",
        "\n",
        "        !!!Works only with categorical datasets!!!\n",
        "        dataset - pandas DataFrame with only categorical columns in str format (cat_prep) \n",
        "        (each row is our object to get an embedding for)\n",
        "        \"\"\"\n",
        "\n",
        "        df_train = df_train.copy()\n",
        "        feature_list = list(df_train.columns)\n",
        "        for group_key in tqdm(feature_list):    \n",
        "            passive_keys = feature_list[:]\n",
        "            passive_keys.remove(group_key)\n",
        "\n",
        "            category_embedding_mapping = {}\n",
        "            for passive_key in passive_keys:\n",
        "                if verbose:\n",
        "                    print('--- groupby: group_key - ', group_key, '### passive_key - ', passive_key, '---')\n",
        "                groups = df_train[[group_key, passive_key]].groupby(group_key)[passive_key]\n",
        "                groups = groups.apply(lambda x: ' '.join(list(x))) #for each group key category get a string\n",
        "                group_key_categories = groups.index\n",
        "                enc_count = CountVectorizer()\n",
        "                groups_counts = enc_count.fit_transform(groups) #get matrix\n",
        "                if len(enc_count.vocabulary_) <= self.n_components: #for low cardinality features and small vocabs\n",
        "                  LSA = TruncatedSVD(n_components = len(enc_count.vocabulary_) - 1, \n",
        "                                    random_state=self.random_state, \n",
        "                                    n_iter=self.n_iter)\n",
        "                else:\n",
        "                  LSA = TruncatedSVD(n_components=self.n_components, #ordinary case\n",
        "                                    random_state=self.random_state, \n",
        "                                    n_iter=self.n_iter)\n",
        "                category_embeddings = LSA.fit_transform(groups_counts) #truncation\n",
        "                \n",
        "                for i, category in enumerate(group_key_categories):\n",
        "                    if category in category_embedding_mapping:\n",
        "                        category_embedding_mapping[category].extend(list(category_embeddings[i]))\n",
        "                    else:\n",
        "                        category_embedding_mapping[category] = list(category_embeddings[i])\n",
        "            \n",
        "            self.substitute_dict[group_key] = category_embedding_mapping    \n",
        "        return self\n",
        "\n",
        "    def transform(self, dataset: pd.DataFrame, \n",
        "                  fill_unknown_cat_value: int = 0,\n",
        "                  verbose: bool = False) -> List[list]:\n",
        "        \"\"\"Get embedding for each categorical row of the dataset\n",
        "\n",
        "        !!!Works only with categorical datasets!!!\n",
        "        dataset - pandas DataFrame with only categorical columns in str format (cat_prep) \n",
        "        (each row is our object to get an embedding for)\n",
        "        fill_unknown_cat_value - the value to fill embedding vector for unknown categories\n",
        "        \"\"\"\n",
        "\n",
        "        dataset = dataset.copy()\n",
        "        feature_list = list(dataset.columns)\n",
        "        if verbose:\n",
        "          print(\"Mapping vectors to categories...\")\n",
        "        for f in tqdm(feature_list):\n",
        "            dataset[f] = dataset[f].map(self.substitute_dict[f])               \n",
        "            dataset[f] = dataset[f].fillna('empty')\n",
        "            emb_size = len(self.substitute_dict[f][list(self.substitute_dict[f].keys())[0]])\n",
        "            dataset[f] = dataset[f].apply(lambda x: [fill_unknown_cat_value] * emb_size if x == 'empty' else x)\n",
        "\n",
        "        embeddings_list = []\n",
        "        if verbose:\n",
        "          print(\"Creating an embedding for each row...\")\n",
        "        for row in tqdm(dataset[feature_list].itertuples()):\n",
        "            embeddings_list.append(list(itertools.chain(*row[1:])))\n",
        "\n",
        "        return embeddings_list\n"
      ],
      "execution_count": null,
      "outputs": []
    },
    {
      "cell_type": "markdown",
      "metadata": {
        "id": "GULozVsSD_7o"
      },
      "source": [
        "Let's use our preprocessing method to prepare the dataset for the embedder"
      ]
    },
    {
      "cell_type": "code",
      "metadata": {
        "colab": {
          "base_uri": "https://localhost:8080/",
          "height": 324,
          "referenced_widgets": [
            "0dcf8eac4a15484c916a462b5bdaad14",
            "58d2e9a905ed4661b461bd94dfea8aff",
            "115dd07e2b0b4818a2d8875f853171dc",
            "f0156ae260354291b9128307e752a64b",
            "8bbad158621d43109b297472dfb5c6ef",
            "ff6c2c14772f4f1ca6833de6767ee497",
            "7a49e44a39a44d81bf1a265edc556309",
            "fb9b38c22bbf4ad4bbfd5d2264e809c6",
            "c1481f03ff4a4eda986776e9e777fb08",
            "6861149ba9b542f4992e5e1e132df8d8",
            "67147fffa8db45239b72d2f241905549"
          ]
        },
        "id": "LiHjRcxUgfYT",
        "outputId": "07074139-a465-44e2-d8ee-031dcf819e7c"
      },
      "source": [
        "df_train = X_train.copy()\n",
        "df_train = MixingCategoricalEmbedder.cat_prep(df_train)\n",
        "df_train.head()"
      ],
      "execution_count": null,
      "outputs": [
        {
          "output_type": "display_data",
          "data": {
            "application/vnd.jupyter.widget-view+json": {
              "model_id": "0dcf8eac4a15484c916a462b5bdaad14",
              "version_minor": 0,
              "version_major": 2
            },
            "text/plain": [
              "  0%|          | 0/23 [00:00<?, ?it/s]"
            ]
          },
          "metadata": {}
        },
        {
          "output_type": "execute_result",
          "data": {
            "text/html": [
              "<div>\n",
              "<style scoped>\n",
              "    .dataframe tbody tr th:only-of-type {\n",
              "        vertical-align: middle;\n",
              "    }\n",
              "\n",
              "    .dataframe tbody tr th {\n",
              "        vertical-align: top;\n",
              "    }\n",
              "\n",
              "    .dataframe thead th {\n",
              "        text-align: right;\n",
              "    }\n",
              "</style>\n",
              "<table border=\"1\" class=\"dataframe\">\n",
              "  <thead>\n",
              "    <tr style=\"text-align: right;\">\n",
              "      <th></th>\n",
              "      <th>bin_0</th>\n",
              "      <th>bin_1</th>\n",
              "      <th>bin_2</th>\n",
              "      <th>bin_3</th>\n",
              "      <th>bin_4</th>\n",
              "      <th>nom_0</th>\n",
              "      <th>nom_1</th>\n",
              "      <th>nom_2</th>\n",
              "      <th>nom_3</th>\n",
              "      <th>nom_4</th>\n",
              "      <th>nom_5</th>\n",
              "      <th>nom_6</th>\n",
              "      <th>nom_7</th>\n",
              "      <th>nom_8</th>\n",
              "      <th>nom_9</th>\n",
              "      <th>ord_0</th>\n",
              "      <th>ord_1</th>\n",
              "      <th>ord_2</th>\n",
              "      <th>ord_3</th>\n",
              "      <th>ord_4</th>\n",
              "      <th>ord_5</th>\n",
              "      <th>day</th>\n",
              "      <th>month</th>\n",
              "    </tr>\n",
              "    <tr>\n",
              "      <th>id</th>\n",
              "      <th></th>\n",
              "      <th></th>\n",
              "      <th></th>\n",
              "      <th></th>\n",
              "      <th></th>\n",
              "      <th></th>\n",
              "      <th></th>\n",
              "      <th></th>\n",
              "      <th></th>\n",
              "      <th></th>\n",
              "      <th></th>\n",
              "      <th></th>\n",
              "      <th></th>\n",
              "      <th></th>\n",
              "      <th></th>\n",
              "      <th></th>\n",
              "      <th></th>\n",
              "      <th></th>\n",
              "      <th></th>\n",
              "      <th></th>\n",
              "      <th></th>\n",
              "      <th></th>\n",
              "      <th></th>\n",
              "    </tr>\n",
              "  </thead>\n",
              "  <tbody>\n",
              "    <tr>\n",
              "      <th>0</th>\n",
              "      <td>bin_0_0</td>\n",
              "      <td>bin_1_0</td>\n",
              "      <td>bin_2_0</td>\n",
              "      <td>bin_3_T</td>\n",
              "      <td>bin_4_Y</td>\n",
              "      <td>nom_0_Green</td>\n",
              "      <td>nom_1_Triangle</td>\n",
              "      <td>nom_2_Snake</td>\n",
              "      <td>nom_3_Finland</td>\n",
              "      <td>nom_4_Bassoon</td>\n",
              "      <td>nom_5_50f116bcf</td>\n",
              "      <td>nom_6_3ac1b8814</td>\n",
              "      <td>nom_7_68f6ad3e9</td>\n",
              "      <td>nom_8_c389000ab</td>\n",
              "      <td>nom_9_2f4cb3d51</td>\n",
              "      <td>ord_0_2</td>\n",
              "      <td>ord_1_Grandmaster</td>\n",
              "      <td>ord_2_Cold</td>\n",
              "      <td>ord_3_h</td>\n",
              "      <td>ord_4_D</td>\n",
              "      <td>ord_5_kr</td>\n",
              "      <td>day_2</td>\n",
              "      <td>month_2</td>\n",
              "    </tr>\n",
              "    <tr>\n",
              "      <th>1</th>\n",
              "      <td>bin_0_0</td>\n",
              "      <td>bin_1_1</td>\n",
              "      <td>bin_2_0</td>\n",
              "      <td>bin_3_T</td>\n",
              "      <td>bin_4_Y</td>\n",
              "      <td>nom_0_Green</td>\n",
              "      <td>nom_1_Trapezoid</td>\n",
              "      <td>nom_2_Hamster</td>\n",
              "      <td>nom_3_Russia</td>\n",
              "      <td>nom_4_Piano</td>\n",
              "      <td>nom_5_b3b4d25d0</td>\n",
              "      <td>nom_6_fbcb50fc1</td>\n",
              "      <td>nom_7_3b6dd5612</td>\n",
              "      <td>nom_8_4cd920251</td>\n",
              "      <td>nom_9_f83c56c21</td>\n",
              "      <td>ord_0_1</td>\n",
              "      <td>ord_1_Grandmaster</td>\n",
              "      <td>ord_2_Hot</td>\n",
              "      <td>ord_3_a</td>\n",
              "      <td>ord_4_A</td>\n",
              "      <td>ord_5_bF</td>\n",
              "      <td>day_7</td>\n",
              "      <td>month_8</td>\n",
              "    </tr>\n",
              "    <tr>\n",
              "      <th>2</th>\n",
              "      <td>bin_0_0</td>\n",
              "      <td>bin_1_0</td>\n",
              "      <td>bin_2_0</td>\n",
              "      <td>bin_3_F</td>\n",
              "      <td>bin_4_Y</td>\n",
              "      <td>nom_0_Blue</td>\n",
              "      <td>nom_1_Trapezoid</td>\n",
              "      <td>nom_2_Lion</td>\n",
              "      <td>nom_3_Russia</td>\n",
              "      <td>nom_4_Theremin</td>\n",
              "      <td>nom_5_3263bdce5</td>\n",
              "      <td>nom_6_0922e3cb8</td>\n",
              "      <td>nom_7_a6a36f527</td>\n",
              "      <td>nom_8_de9c9f684</td>\n",
              "      <td>nom_9_ae6800dd0</td>\n",
              "      <td>ord_0_1</td>\n",
              "      <td>ord_1_Expert</td>\n",
              "      <td>ord_2_Lava Hot</td>\n",
              "      <td>ord_3_h</td>\n",
              "      <td>ord_4_R</td>\n",
              "      <td>ord_5_Jc</td>\n",
              "      <td>day_7</td>\n",
              "      <td>month_2</td>\n",
              "    </tr>\n",
              "    <tr>\n",
              "      <th>3</th>\n",
              "      <td>bin_0_0</td>\n",
              "      <td>bin_1_1</td>\n",
              "      <td>bin_2_0</td>\n",
              "      <td>bin_3_F</td>\n",
              "      <td>bin_4_Y</td>\n",
              "      <td>nom_0_Red</td>\n",
              "      <td>nom_1_Trapezoid</td>\n",
              "      <td>nom_2_Snake</td>\n",
              "      <td>nom_3_Canada</td>\n",
              "      <td>nom_4_Oboe</td>\n",
              "      <td>nom_5_f12246592</td>\n",
              "      <td>nom_6_50d7ad46a</td>\n",
              "      <td>nom_7_ec69236eb</td>\n",
              "      <td>nom_8_4ade6ab69</td>\n",
              "      <td>nom_9_8270f0d71</td>\n",
              "      <td>ord_0_1</td>\n",
              "      <td>ord_1_Grandmaster</td>\n",
              "      <td>ord_2_Boiling Hot</td>\n",
              "      <td>ord_3_i</td>\n",
              "      <td>ord_4_D</td>\n",
              "      <td>ord_5_kW</td>\n",
              "      <td>day_2</td>\n",
              "      <td>month_1</td>\n",
              "    </tr>\n",
              "    <tr>\n",
              "      <th>4</th>\n",
              "      <td>bin_0_0</td>\n",
              "      <td>bin_1_0</td>\n",
              "      <td>bin_2_0</td>\n",
              "      <td>bin_3_F</td>\n",
              "      <td>bin_4_N</td>\n",
              "      <td>nom_0_Red</td>\n",
              "      <td>nom_1_Trapezoid</td>\n",
              "      <td>nom_2_Lion</td>\n",
              "      <td>nom_3_Canada</td>\n",
              "      <td>nom_4_Oboe</td>\n",
              "      <td>nom_5_5b0f5acd5</td>\n",
              "      <td>nom_6_1fe17a1fd</td>\n",
              "      <td>nom_7_04ddac2be</td>\n",
              "      <td>nom_8_cb43ab175</td>\n",
              "      <td>nom_9_b164b72a7</td>\n",
              "      <td>ord_0_1</td>\n",
              "      <td>ord_1_Grandmaster</td>\n",
              "      <td>ord_2_Freezing</td>\n",
              "      <td>ord_3_a</td>\n",
              "      <td>ord_4_R</td>\n",
              "      <td>ord_5_qP</td>\n",
              "      <td>day_7</td>\n",
              "      <td>month_8</td>\n",
              "    </tr>\n",
              "  </tbody>\n",
              "</table>\n",
              "</div>"
            ],
            "text/plain": [
              "      bin_0    bin_1    bin_2    bin_3  ...    ord_4     ord_5    day    month\n",
              "id                                      ...                                   \n",
              "0   bin_0_0  bin_1_0  bin_2_0  bin_3_T  ...  ord_4_D  ord_5_kr  day_2  month_2\n",
              "1   bin_0_0  bin_1_1  bin_2_0  bin_3_T  ...  ord_4_A  ord_5_bF  day_7  month_8\n",
              "2   bin_0_0  bin_1_0  bin_2_0  bin_3_F  ...  ord_4_R  ord_5_Jc  day_7  month_2\n",
              "3   bin_0_0  bin_1_1  bin_2_0  bin_3_F  ...  ord_4_D  ord_5_kW  day_2  month_1\n",
              "4   bin_0_0  bin_1_0  bin_2_0  bin_3_F  ...  ord_4_R  ord_5_qP  day_7  month_8\n",
              "\n",
              "[5 rows x 23 columns]"
            ]
          },
          "metadata": {},
          "execution_count": 9
        }
      ]
    },
    {
      "cell_type": "code",
      "metadata": {
        "colab": {
          "base_uri": "https://localhost:8080/",
          "height": 341,
          "referenced_widgets": [
            "ad0368bf57654e47a25e25fcbdaf62e4",
            "b40e7629b5b147cc84e3b0fa9fcb08b4",
            "2ac8eb7dd82b492a801dab6dae76842a",
            "fb2899530a35455c880ac98f91dc60e8",
            "dbaa7828ebd94be1992558bec657aa04",
            "c48eaac585fc411bbee900af76b98a65",
            "043b6cf4c9d54546b778c014e305a532",
            "e8fa028ed53348e6a9734f6b6427f9d0",
            "b37291310618457d92aa95f021a16593",
            "bc8133a4dfac43a1952c1cf93a55e139",
            "18d3f3eb9e09465aabb4e11fea417c94"
          ]
        },
        "id": "VZXXrBhGg_c_",
        "outputId": "daedecd7-db40-45f8-f1b3-31846d8e0850"
      },
      "source": [
        "df_test = X_test.copy()\n",
        "df_test = MixingCategoricalEmbedder.cat_prep(df_test)\n",
        "df_test.head()"
      ],
      "execution_count": null,
      "outputs": [
        {
          "output_type": "display_data",
          "data": {
            "application/vnd.jupyter.widget-view+json": {
              "model_id": "ad0368bf57654e47a25e25fcbdaf62e4",
              "version_minor": 0,
              "version_major": 2
            },
            "text/plain": [
              "  0%|          | 0/23 [00:00<?, ?it/s]"
            ]
          },
          "metadata": {}
        },
        {
          "output_type": "execute_result",
          "data": {
            "text/html": [
              "<div>\n",
              "<style scoped>\n",
              "    .dataframe tbody tr th:only-of-type {\n",
              "        vertical-align: middle;\n",
              "    }\n",
              "\n",
              "    .dataframe tbody tr th {\n",
              "        vertical-align: top;\n",
              "    }\n",
              "\n",
              "    .dataframe thead th {\n",
              "        text-align: right;\n",
              "    }\n",
              "</style>\n",
              "<table border=\"1\" class=\"dataframe\">\n",
              "  <thead>\n",
              "    <tr style=\"text-align: right;\">\n",
              "      <th></th>\n",
              "      <th>bin_0</th>\n",
              "      <th>bin_1</th>\n",
              "      <th>bin_2</th>\n",
              "      <th>bin_3</th>\n",
              "      <th>bin_4</th>\n",
              "      <th>nom_0</th>\n",
              "      <th>nom_1</th>\n",
              "      <th>nom_2</th>\n",
              "      <th>nom_3</th>\n",
              "      <th>nom_4</th>\n",
              "      <th>nom_5</th>\n",
              "      <th>nom_6</th>\n",
              "      <th>nom_7</th>\n",
              "      <th>nom_8</th>\n",
              "      <th>nom_9</th>\n",
              "      <th>ord_0</th>\n",
              "      <th>ord_1</th>\n",
              "      <th>ord_2</th>\n",
              "      <th>ord_3</th>\n",
              "      <th>ord_4</th>\n",
              "      <th>ord_5</th>\n",
              "      <th>day</th>\n",
              "      <th>month</th>\n",
              "    </tr>\n",
              "    <tr>\n",
              "      <th>id</th>\n",
              "      <th></th>\n",
              "      <th></th>\n",
              "      <th></th>\n",
              "      <th></th>\n",
              "      <th></th>\n",
              "      <th></th>\n",
              "      <th></th>\n",
              "      <th></th>\n",
              "      <th></th>\n",
              "      <th></th>\n",
              "      <th></th>\n",
              "      <th></th>\n",
              "      <th></th>\n",
              "      <th></th>\n",
              "      <th></th>\n",
              "      <th></th>\n",
              "      <th></th>\n",
              "      <th></th>\n",
              "      <th></th>\n",
              "      <th></th>\n",
              "      <th></th>\n",
              "      <th></th>\n",
              "      <th></th>\n",
              "    </tr>\n",
              "  </thead>\n",
              "  <tbody>\n",
              "    <tr>\n",
              "      <th>230000</th>\n",
              "      <td>bin_0_1</td>\n",
              "      <td>bin_1_1</td>\n",
              "      <td>bin_2_0</td>\n",
              "      <td>bin_3_F</td>\n",
              "      <td>bin_4_Y</td>\n",
              "      <td>nom_0_Green</td>\n",
              "      <td>nom_1_Square</td>\n",
              "      <td>nom_2_Dog</td>\n",
              "      <td>nom_3_Russia</td>\n",
              "      <td>nom_4_Piano</td>\n",
              "      <td>nom_5_92190168b</td>\n",
              "      <td>nom_6_fa498a5ae</td>\n",
              "      <td>nom_7_d10553e7e</td>\n",
              "      <td>nom_8_80be47228</td>\n",
              "      <td>nom_9_47d38e9d3</td>\n",
              "      <td>ord_0_1</td>\n",
              "      <td>ord_1_Master</td>\n",
              "      <td>ord_2_Lava Hot</td>\n",
              "      <td>ord_3_e</td>\n",
              "      <td>ord_4_U</td>\n",
              "      <td>ord_5_MO</td>\n",
              "      <td>day_4</td>\n",
              "      <td>month_2</td>\n",
              "    </tr>\n",
              "    <tr>\n",
              "      <th>230001</th>\n",
              "      <td>bin_0_0</td>\n",
              "      <td>bin_1_0</td>\n",
              "      <td>bin_2_0</td>\n",
              "      <td>bin_3_T</td>\n",
              "      <td>bin_4_Y</td>\n",
              "      <td>nom_0_Red</td>\n",
              "      <td>nom_1_Star</td>\n",
              "      <td>nom_2_Lion</td>\n",
              "      <td>nom_3_Canada</td>\n",
              "      <td>nom_4_Piano</td>\n",
              "      <td>nom_5_e7d9ca356</td>\n",
              "      <td>nom_6_0b23e3352</td>\n",
              "      <td>nom_7_40f84f6de</td>\n",
              "      <td>nom_8_333f46907</td>\n",
              "      <td>nom_9_e9e56a3f8</td>\n",
              "      <td>ord_0_1</td>\n",
              "      <td>ord_1_Expert</td>\n",
              "      <td>ord_2_Boiling Hot</td>\n",
              "      <td>ord_3_i</td>\n",
              "      <td>ord_4_O</td>\n",
              "      <td>ord_5_CM</td>\n",
              "      <td>day_1</td>\n",
              "      <td>month_1</td>\n",
              "    </tr>\n",
              "    <tr>\n",
              "      <th>230002</th>\n",
              "      <td>bin_0_0</td>\n",
              "      <td>bin_1_0</td>\n",
              "      <td>bin_2_0</td>\n",
              "      <td>bin_3_F</td>\n",
              "      <td>bin_4_Y</td>\n",
              "      <td>nom_0_Red</td>\n",
              "      <td>nom_1_Circle</td>\n",
              "      <td>nom_2_Cat</td>\n",
              "      <td>nom_3_Canada</td>\n",
              "      <td>nom_4_Bassoon</td>\n",
              "      <td>nom_5_a3f640358</td>\n",
              "      <td>nom_6_9b1c3c8b7</td>\n",
              "      <td>nom_7_d1586e0e0</td>\n",
              "      <td>nom_8_1b9339c49</td>\n",
              "      <td>nom_9_973983691</td>\n",
              "      <td>ord_0_3</td>\n",
              "      <td>ord_1_Grandmaster</td>\n",
              "      <td>ord_2_Freezing</td>\n",
              "      <td>ord_3_b</td>\n",
              "      <td>ord_4_T</td>\n",
              "      <td>ord_5_RL</td>\n",
              "      <td>day_3</td>\n",
              "      <td>month_8</td>\n",
              "    </tr>\n",
              "    <tr>\n",
              "      <th>230003</th>\n",
              "      <td>bin_0_1</td>\n",
              "      <td>bin_1_0</td>\n",
              "      <td>bin_2_0</td>\n",
              "      <td>bin_3_T</td>\n",
              "      <td>bin_4_N</td>\n",
              "      <td>nom_0_Green</td>\n",
              "      <td>nom_1_Trapezoid</td>\n",
              "      <td>nom_2_Hamster</td>\n",
              "      <td>nom_3_Costa Rica</td>\n",
              "      <td>nom_4_Bassoon</td>\n",
              "      <td>nom_5_0b3bec656</td>\n",
              "      <td>nom_6_603232dea</td>\n",
              "      <td>nom_7_5387ed7d2</td>\n",
              "      <td>nom_8_da8be1022</td>\n",
              "      <td>nom_9_508c9de37</td>\n",
              "      <td>ord_0_1</td>\n",
              "      <td>ord_1_Novice</td>\n",
              "      <td>ord_2_Warm</td>\n",
              "      <td>ord_3_e</td>\n",
              "      <td>ord_4_U</td>\n",
              "      <td>ord_5_Qo</td>\n",
              "      <td>day_2</td>\n",
              "      <td>month_11</td>\n",
              "    </tr>\n",
              "    <tr>\n",
              "      <th>230004</th>\n",
              "      <td>bin_0_1</td>\n",
              "      <td>bin_1_0</td>\n",
              "      <td>bin_2_0</td>\n",
              "      <td>bin_3_T</td>\n",
              "      <td>bin_4_Y</td>\n",
              "      <td>nom_0_Blue</td>\n",
              "      <td>nom_1_Star</td>\n",
              "      <td>nom_2_Axolotl</td>\n",
              "      <td>nom_3_Canada</td>\n",
              "      <td>nom_4_Piano</td>\n",
              "      <td>nom_5_4173a0252</td>\n",
              "      <td>nom_6_c135cdf77</td>\n",
              "      <td>nom_7_91cd074b1</td>\n",
              "      <td>nom_8_1a2fd4686</td>\n",
              "      <td>nom_9_75193d88a</td>\n",
              "      <td>ord_0_3</td>\n",
              "      <td>ord_1_Novice</td>\n",
              "      <td>ord_2_Hot</td>\n",
              "      <td>ord_3_g</td>\n",
              "      <td>ord_4_U</td>\n",
              "      <td>ord_5_LE</td>\n",
              "      <td>day_4</td>\n",
              "      <td>month_12</td>\n",
              "    </tr>\n",
              "  </tbody>\n",
              "</table>\n",
              "</div>"
            ],
            "text/plain": [
              "          bin_0    bin_1    bin_2    bin_3  ...    ord_4     ord_5    day     month\n",
              "id                                          ...                                    \n",
              "230000  bin_0_1  bin_1_1  bin_2_0  bin_3_F  ...  ord_4_U  ord_5_MO  day_4   month_2\n",
              "230001  bin_0_0  bin_1_0  bin_2_0  bin_3_T  ...  ord_4_O  ord_5_CM  day_1   month_1\n",
              "230002  bin_0_0  bin_1_0  bin_2_0  bin_3_F  ...  ord_4_T  ord_5_RL  day_3   month_8\n",
              "230003  bin_0_1  bin_1_0  bin_2_0  bin_3_T  ...  ord_4_U  ord_5_Qo  day_2  month_11\n",
              "230004  bin_0_1  bin_1_0  bin_2_0  bin_3_T  ...  ord_4_U  ord_5_LE  day_4  month_12\n",
              "\n",
              "[5 rows x 23 columns]"
            ]
          },
          "metadata": {},
          "execution_count": 10
        }
      ]
    },
    {
      "cell_type": "markdown",
      "metadata": {
        "id": "rHgj27jiEd5q"
      },
      "source": [
        "Initialize an embedder"
      ]
    },
    {
      "cell_type": "code",
      "metadata": {
        "colab": {
          "base_uri": "https://localhost:8080/"
        },
        "id": "QoQc6D5GhFVW",
        "outputId": "1ea8ee80-fa65-4de9-fc69-0ce9e4a010b9"
      },
      "source": [
        "embedder = MixingCategoricalEmbedder()\n",
        "embedder"
      ],
      "execution_count": null,
      "outputs": [
        {
          "output_type": "execute_result",
          "data": {
            "text/plain": [
              "MixingCategoricalEmbedder(n_components = 5, n_svd_iter = 10, random_state = 33)"
            ]
          },
          "metadata": {},
          "execution_count": 11
        }
      ]
    },
    {
      "cell_type": "markdown",
      "metadata": {
        "id": "0KTAiJQoEtvP"
      },
      "source": [
        "Let's train it and get results"
      ]
    },
    {
      "cell_type": "code",
      "metadata": {
        "colab": {
          "base_uri": "https://localhost:8080/",
          "height": 67,
          "referenced_widgets": [
            "cba63020be464fd69751fbe783d63f86",
            "b7938d844d13491a991ddf84b9916a2a",
            "995d5be2bcf64759875ac4c8b539060d",
            "04f9cb06c5544ca0ae1a53d1351745c9",
            "23c6eae1dd64451f95738d400bf09cfa",
            "dc2c454e3a1b409a9005ef99a1d02959",
            "6872a71d44e14d5d84a72ee8046bc224",
            "16da640507a3458c83b895585f4923d3",
            "b49c7559f97d4dee8f83b50cd71586c9",
            "30bfe72d02b947d291fdd2fe5eae7778",
            "c2a26d491cfb48ab806e6806ba545c06"
          ]
        },
        "id": "JjBkiCQWiWmB",
        "outputId": "1b115d8d-5d91-49db-c4cd-efae535946df"
      },
      "source": [
        "embedder.fit(df_train, verbose=False)"
      ],
      "execution_count": null,
      "outputs": [
        {
          "output_type": "display_data",
          "data": {
            "application/vnd.jupyter.widget-view+json": {
              "model_id": "cba63020be464fd69751fbe783d63f86",
              "version_minor": 0,
              "version_major": 2
            },
            "text/plain": [
              "  0%|          | 0/23 [00:00<?, ?it/s]"
            ]
          },
          "metadata": {}
        },
        {
          "output_type": "execute_result",
          "data": {
            "text/plain": [
              "MixingCategoricalEmbedder(n_components = 5, n_svd_iter = 10, random_state = 33)"
            ]
          },
          "metadata": {},
          "execution_count": 12
        }
      ]
    },
    {
      "cell_type": "code",
      "metadata": {
        "colab": {
          "base_uri": "https://localhost:8080/",
          "height": 116,
          "referenced_widgets": [
            "c58cd25b14bc47f2af36dc81201a2dcb",
            "6623c691ad6e4d2abc6c015307e0d9e2",
            "fdf714164f524b4c9ee9714fb814d124",
            "8092d92b1f6a4e48a455d285273d0589",
            "a7c488757f934501bf26d59ebe3f764f",
            "95da860c89db47288a2d8b919cf7dc1d",
            "590c01e301dc43bb8ef73822d1ebe57f",
            "f4d609bf2fe247388b18ce114ba66901",
            "43c5008aeaa44d42ab5cc15c173998e7",
            "2b501e5c92704731ab50306661a7b15f",
            "80e730bd76e245f2a827198c33c3c601",
            "ab499aa082884273bd97bec414cda050",
            "970733973df840fe829be885fde2ecd2",
            "42de6e6c7ca9457e916a157aafd0c256",
            "d4dba49172bc4b45a35241b9d07e293e",
            "32b8c45129a2488fbabc780d84a6dbc9",
            "b694076dbb3049a098adf001d2ad054b",
            "84936afc095f432ca5e92b2a81fea4df",
            "1c507c32216441b1898d867a71a3c870",
            "2811045af0984f14b80f909c94c88eb0",
            "d9ec4a1f40f04d9691293e289febb0ff",
            "27b763219af344dd97ca299f8661532b"
          ]
        },
        "id": "NB0gezOTjqKS",
        "outputId": "06e93bb5-5d6c-402f-a91b-544d5772edf1"
      },
      "source": [
        "%%time\n",
        "train_feat = embedder.transform(df_train)"
      ],
      "execution_count": null,
      "outputs": [
        {
          "output_type": "display_data",
          "data": {
            "application/vnd.jupyter.widget-view+json": {
              "model_id": "c58cd25b14bc47f2af36dc81201a2dcb",
              "version_minor": 0,
              "version_major": 2
            },
            "text/plain": [
              "  0%|          | 0/23 [00:00<?, ?it/s]"
            ]
          },
          "metadata": {}
        },
        {
          "output_type": "display_data",
          "data": {
            "application/vnd.jupyter.widget-view+json": {
              "model_id": "ab499aa082884273bd97bec414cda050",
              "version_minor": 0,
              "version_major": 2
            },
            "text/plain": [
              "0it [00:00, ?it/s]"
            ]
          },
          "metadata": {}
        },
        {
          "output_type": "stream",
          "name": "stdout",
          "text": [
            "CPU times: user 26.7 s, sys: 3.42 s, total: 30.1 s\n",
            "Wall time: 29.8 s\n"
          ]
        }
      ]
    },
    {
      "cell_type": "code",
      "metadata": {
        "colab": {
          "base_uri": "https://localhost:8080/",
          "height": 116,
          "referenced_widgets": [
            "f06ca631f7d44ee685cc4fe98079e280",
            "2aa724c120fc4052b4f48407b247ba8b",
            "bdae37be5b8c4dcf83c2f7b68150b083",
            "a96571571c164a71aba12d6f5ae86e94",
            "5393c1c9d14f49b691beac0d6a929db4",
            "e3cbcc158ca945cea76800c367e5f044",
            "a753206894bc4e89aad4976662ae28c2",
            "989631b6cb044381821b2f32007756dd",
            "14d4345bee774526988be8a1ea6283cb",
            "2ddc60cd631941ea80bfcc22aea509a4",
            "fcb4e79c67154beb9fc8b2e11d28abbe",
            "73fa8356ade8470fa0b1612cf300fe77",
            "9a608b1695f243a1b3eb2c6e9666f268",
            "bfc0114893144724a99d693c2e6f398a",
            "9d56b1a8808545839e8b4ef22e47be10",
            "7f5682a584e14434878f84758cc2d51c",
            "02119a2d81804a7594a01f4fdd42fba6",
            "dcc1e04db4414d28abc3e6e4d1bfe8f0",
            "f9b0fae9ab0547db88b5e7a0e9a145ed",
            "8a31852736de4988a1b9ae2276c5fddb",
            "12dfa811e8f941cb9869e8433946c760",
            "aa403985781b4240b680525c149a1890"
          ]
        },
        "id": "mU_UqwZ9j9sN",
        "outputId": "5da203da-56b9-42d8-9181-97c37171e305"
      },
      "source": [
        "%%time\n",
        "test_feat = embedder.transform(df_test)"
      ],
      "execution_count": null,
      "outputs": [
        {
          "output_type": "display_data",
          "data": {
            "application/vnd.jupyter.widget-view+json": {
              "model_id": "f06ca631f7d44ee685cc4fe98079e280",
              "version_minor": 0,
              "version_major": 2
            },
            "text/plain": [
              "  0%|          | 0/23 [00:00<?, ?it/s]"
            ]
          },
          "metadata": {}
        },
        {
          "output_type": "display_data",
          "data": {
            "application/vnd.jupyter.widget-view+json": {
              "model_id": "73fa8356ade8470fa0b1612cf300fe77",
              "version_minor": 0,
              "version_major": 2
            },
            "text/plain": [
              "0it [00:00, ?it/s]"
            ]
          },
          "metadata": {}
        },
        {
          "output_type": "stream",
          "name": "stdout",
          "text": [
            "CPU times: user 6.88 s, sys: 798 ms, total: 7.67 s\n",
            "Wall time: 7.63 s\n"
          ]
        }
      ]
    },
    {
      "cell_type": "markdown",
      "metadata": {
        "id": "Escwy-RGMxkB"
      },
      "source": [
        "Let's look at our embeddings"
      ]
    },
    {
      "cell_type": "code",
      "metadata": {
        "id": "r0PW6LWaDwcg",
        "colab": {
          "base_uri": "https://localhost:8080/"
        },
        "outputId": "a0214a65-e45a-4d76-e60e-ab30e25a9df1"
      },
      "source": [
        "np.array(test_feat)"
      ],
      "execution_count": null,
      "outputs": [
        {
          "output_type": "execute_result",
          "data": {
            "text/plain": [
              "array([[ 2.32931749e+04,  2.14247962e+04,  2.08765171e+04, ...,\n",
              "         7.18948292e+01, -7.15049291e+01,  4.99281724e+01],\n",
              "       [ 1.57633066e+05,  1.45627870e+05,  1.41802857e+05, ...,\n",
              "        -5.48186116e+01, -4.46609466e+00,  1.44024179e+01],\n",
              "       [ 1.57633066e+05,  1.45627870e+05,  1.41802857e+05, ...,\n",
              "        -7.80796864e+01, -3.68163541e+01,  7.70808345e+00],\n",
              "       ...,\n",
              "       [ 1.57633066e+05,  1.45627870e+05,  1.41802857e+05, ...,\n",
              "         1.71691077e+01,  8.33400489e+01,  9.02535782e+01],\n",
              "       [ 1.57633066e+05,  1.45627870e+05,  1.41802857e+05, ...,\n",
              "        -7.80796864e+01, -3.68163541e+01,  7.70808345e+00],\n",
              "       [ 1.57633066e+05,  1.45627870e+05,  1.41802857e+05, ...,\n",
              "        -1.34530036e+01, -6.47085424e+01, -3.07012781e+01]])"
            ]
          },
          "metadata": {},
          "execution_count": 19
        }
      ]
    },
    {
      "cell_type": "markdown",
      "metadata": {
        "id": "6cHi6hUyulqw"
      },
      "source": [
        "You can see that we have some problems with scale of the components\n"
      ]
    },
    {
      "cell_type": "code",
      "metadata": {
        "id": "X9x19GN7FRI-",
        "colab": {
          "base_uri": "https://localhost:8080/"
        },
        "outputId": "48cef38b-2a35-4c86-b1f2-0dca3c90854f"
      },
      "source": [
        "np.array(test_feat).shape"
      ],
      "execution_count": null,
      "outputs": [
        {
          "output_type": "execute_result",
          "data": {
            "text/plain": [
              "(70000, 1595)"
            ]
          },
          "metadata": {},
          "execution_count": 20
        }
      ]
    },
    {
      "cell_type": "markdown",
      "metadata": {
        "id": "WPGMCcRxs5Nn"
      },
      "source": [
        "Estimate of OHE dimensionality"
      ]
    },
    {
      "cell_type": "code",
      "metadata": {
        "colab": {
          "base_uri": "https://localhost:8080/"
        },
        "id": "cft30fUdFRV5",
        "outputId": "ae45ab3f-131d-4213-dadf-e1dc0a22c99e"
      },
      "source": [
        "number_of_cat = 0\n",
        "for col in df_train.columns:\n",
        "  number_of_cat += df_train[col].unique().shape[0]\n",
        "number_of_cat"
      ],
      "execution_count": null,
      "outputs": [
        {
          "output_type": "execute_result",
          "data": {
            "text/plain": [
              "16380"
            ]
          },
          "metadata": {},
          "execution_count": 23
        }
      ]
    },
    {
      "cell_type": "markdown",
      "metadata": {
        "id": "Dv6W7SO_FWto"
      },
      "source": [
        "You can see that the dimensionality of the embedding is an order of magnitude less than in the case of OHE"
      ]
    },
    {
      "cell_type": "markdown",
      "metadata": {
        "id": "ULWqhjAtE5Sn"
      },
      "source": [
        "### Here we'll test it via our classification task. How much information we've preserved?"
      ]
    },
    {
      "cell_type": "markdown",
      "metadata": {
        "id": "XD905BrnGd4i"
      },
      "source": [
        "LightGBM.\n"
      ]
    },
    {
      "cell_type": "code",
      "metadata": {
        "colab": {
          "base_uri": "https://localhost:8080/"
        },
        "id": "hRHX4DnMHNjb",
        "outputId": "f0854514-51d5-4b1b-87c2-094f6786e4ff"
      },
      "source": [
        "%%time\n",
        "lgmb_clf = lgb.LGBMClassifier(random_state=33).fit(train_feat, y_train)"
      ],
      "execution_count": null,
      "outputs": [
        {
          "output_type": "stream",
          "name": "stdout",
          "text": [
            "CPU times: user 10min 19s, sys: 15.6 s, total: 10min 35s\n",
            "Wall time: 3min 33s\n"
          ]
        }
      ]
    },
    {
      "cell_type": "code",
      "metadata": {
        "colab": {
          "base_uri": "https://localhost:8080/"
        },
        "id": "Ai6Oe8gYHYxJ",
        "outputId": "01bc8352-91a0-4be3-8f12-685c1aef2b28"
      },
      "source": [
        "probs = lgmb_clf.predict_proba(test_feat)\n",
        "score_lgbm = roc_auc_score(y_test, probs[:,1])\n",
        "print(score_lgbm)"
      ],
      "execution_count": null,
      "outputs": [
        {
          "output_type": "stream",
          "name": "stdout",
          "text": [
            "0.7698978517465562\n"
          ]
        }
      ]
    },
    {
      "cell_type": "markdown",
      "metadata": {
        "id": "JgYDpsOpFi9L"
      },
      "source": [
        "Let's look at feature importances"
      ]
    },
    {
      "cell_type": "code",
      "metadata": {
        "colab": {
          "base_uri": "https://localhost:8080/",
          "height": 849
        },
        "id": "PRtuinxtNFSd",
        "outputId": "c891de6f-57e3-4c83-cfb4-960153f91fe3"
      },
      "source": [
        "lgb.plot_importance(lgmb_clf, importance_type='split', figsize=(20,15));"
      ],
      "execution_count": null,
      "outputs": [
        {
          "output_type": "display_data",
          "data": {
            "image/png": "[encoded data removed]",
            "text/plain": [
              "<Figure size 1440x1080 with 1 Axes>"
            ]
          },
          "metadata": {
            "needs_background": "light"
          }
        }
      ]
    },
    {
      "cell_type": "markdown",
      "metadata": {
        "id": "lqLcFKI2Fo6t"
      },
      "source": [
        "You can see that in this case we have a less imbalanced distribution of the feature importances than in the case of using topic modeling (LSA), but the problem still exists."
      ]
    },
    {
      "cell_type": "markdown",
      "metadata": {
        "id": "ysfybfRrGbw0"
      },
      "source": [
        "Logistic Regression"
      ]
    },
    {
      "cell_type": "code",
      "metadata": {
        "colab": {
          "base_uri": "https://localhost:8080/"
        },
        "id": "RQe9eTFvYPga",
        "outputId": "3a0834f1-f207-4146-cc0c-0c9801e80a7f"
      },
      "source": [
        "lr_pipe = Pipeline([('scaler', StandardScaler()),\n",
        "                    ('classifier', LogisticRegression())])\n",
        "lr_pipe.fit(train_feat, y_train)\n",
        "probs = lr_pipe.predict_proba(test_feat)\n",
        "score_lr_scaled = roc_auc_score(y_test, probs[:,1])\n",
        "print(score_lr_scaled)"
      ],
      "execution_count": null,
      "outputs": [
        {
          "output_type": "stream",
          "name": "stdout",
          "text": [
            "0.7585998965255265\n"
          ]
        }
      ]
    },
    {
      "cell_type": "markdown",
      "metadata": {
        "id": "TTMbudiGGn2T"
      },
      "source": [
        "Conclusions:\n",
        "\n",
        "Pros:\n",
        "- Fast\n",
        "- Many options for tuning\n",
        "- Flexibility,  we can choose dimensionality!\n",
        "- High quality embeddings\n",
        "- Good fit for medium-sized data with many high cardinality variables\n",
        "\n",
        "Cons:\n",
        "-\tWhat to do if we have lots of low cardinality variables?\n",
        "-\tScaling?\n",
        "-\tCorrelation?\n"
      ]
    },
    {
      "cell_type": "markdown",
      "metadata": {
        "id": "62_Iz1AHpbQV"
      },
      "source": [
        "# Visualization"
      ]
    },
    {
      "cell_type": "markdown",
      "metadata": {
        "id": "oZepX3Z-prY6"
      },
      "source": [
        "Generate a subsample to visualize."
      ]
    },
    {
      "cell_type": "code",
      "metadata": {
        "id": "1rE2TUsHpbQW"
      },
      "source": [
        "_, emb_sample, _, _ = train_test_split(test_feat, y_test, test_size=0.03, random_state=85)"
      ],
      "execution_count": null,
      "outputs": []
    },
    {
      "cell_type": "markdown",
      "metadata": {
        "id": "uU_miunLqIcG"
      },
      "source": [
        "Scale the data\n"
      ]
    },
    {
      "cell_type": "code",
      "metadata": {
        "colab": {
          "base_uri": "https://localhost:8080/"
        },
        "id": "y2cnOt-LpbQW",
        "outputId": "7ac34d94-04ed-4a73-b71b-e64f0ffc5999"
      },
      "source": [
        "%%time\n",
        "scaler = StandardScaler()\n",
        "scaler.fit(train_feat)\n",
        "\n",
        "scaled_emb = scaler.transform(emb_sample)"
      ],
      "execution_count": null,
      "outputs": [
        {
          "output_type": "stream",
          "name": "stdout",
          "text": [
            "CPU times: user 45.9 s, sys: 442 ms, total: 46.4 s\n",
            "Wall time: 45.8 s\n"
          ]
        }
      ]
    },
    {
      "cell_type": "markdown",
      "metadata": {
        "id": "txa2Q3zUqNkN"
      },
      "source": [
        "t-SNE"
      ]
    },
    {
      "cell_type": "code",
      "metadata": {
        "colab": {
          "base_uri": "https://localhost:8080/"
        },
        "id": "XQg4V9kYpbQX",
        "outputId": "e869496d-9a65-4940-b3ec-212d51dad87b"
      },
      "source": [
        "%%time\n",
        "tsne = TSNE(n_components=2, random_state=33)\n",
        "T = tsne.fit_transform(scaled_emb)"
      ],
      "execution_count": null,
      "outputs": [
        {
          "output_type": "stream",
          "name": "stdout",
          "text": [
            "CPU times: user 1min 6s, sys: 197 ms, total: 1min 7s\n",
            "Wall time: 33.4 s\n"
          ]
        }
      ]
    },
    {
      "cell_type": "code",
      "metadata": {
        "colab": {
          "base_uri": "https://localhost:8080/",
          "height": 483
        },
        "id": "atBWQh9mIEfL",
        "outputId": "730f0a7a-51f3-4ffc-83c6-97273a3a52f5"
      },
      "source": [
        "plt.figure(figsize=(12, 8))\n",
        "plt.scatter(T[:, 0], T[:, 1], alpha=0.7)\n",
        "plt.grid()"
      ],
      "execution_count": null,
      "outputs": [
        {
          "output_type": "display_data",
          "data": {
            "image/png": "[encoded data removed]",
            "text/plain": [
              "<Figure size 864x576 with 1 Axes>"
            ]
          },
          "metadata": {
            "needs_background": "light"
          }
        }
      ]
    },
    {
      "cell_type": "markdown",
      "metadata": {
        "id": "_mrjecC5IETj"
      },
      "source": [
        "### We can see some clusters here! Not bad:)"
      ]
    },
    {
      "cell_type": "markdown",
      "metadata": {
        "id": "IQR3EEbYqRhw"
      },
      "source": [
        "MDS"
      ]
    },
    {
      "cell_type": "code",
      "metadata": {
        "colab": {
          "base_uri": "https://localhost:8080/"
        },
        "id": "g8dA0lkepbQY",
        "outputId": "8f082e8a-4b03-4990-fb59-6eb9d9e5c24a"
      },
      "source": [
        "%%time\n",
        "mds_trans = MDS(n_components=2, random_state=33)\n",
        "M = mds_trans.fit_transform(scaled_emb)"
      ],
      "execution_count": null,
      "outputs": [
        {
          "output_type": "stream",
          "name": "stdout",
          "text": [
            "CPU times: user 4min 4s, sys: 6min 35s, total: 10min 40s\n",
            "Wall time: 2min 54s\n"
          ]
        }
      ]
    },
    {
      "cell_type": "code",
      "metadata": {
        "colab": {
          "base_uri": "https://localhost:8080/",
          "height": 483
        },
        "id": "BP0kHJdBNixX",
        "outputId": "b231ab38-8269-4a6c-d904-12deacd33638"
      },
      "source": [
        "plt.figure(figsize=(12,8))\n",
        "plt.scatter(M[:,0], M[:,1], alpha=0.7)\n",
        "plt.grid()"
      ],
      "execution_count": null,
      "outputs": [
        {
          "output_type": "display_data",
          "data": {
            "image/png": "[encoded data removed]",
            "text/plain": [
              "<Figure size 864x576 with 1 Axes>"
            ]
          },
          "metadata": {
            "needs_background": "light"
          }
        }
      ]
    },
    {
      "cell_type": "markdown",
      "metadata": {
        "id": "OUJjYKUqIMgw"
      },
      "source": [
        "### There are no clusters on the MDS picture, but maybe next time we will be able to notice some after testing our last embedder. Stay tuned :) "
      ]
    },
    {
      "cell_type": "code",
      "metadata": {
        "id": "v3VaxztnJIb0"
      },
      "source": [
        ""
      ],
      "execution_count": null,
      "outputs": []
    }
  ]
}