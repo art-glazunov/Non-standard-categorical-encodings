{
  "nbformat": 4,
  "nbformat_minor": 0,
  "metadata": {
    "colab": {
      "name": "group_counts_and_entropy.ipynb",
      "provenance": [],
      "collapsed_sections": [],
      "machine_shape": "hm",
      "mount_file_id": "1kFFkTHrDCVcRCewLDEc43kP8ElkI4QJT",
      "authorship_tag": "ABX9TyOXeoVyNNnfokRlrIAmupPG",
      "include_colab_link": true
    },
    "kernelspec": {
      "display_name": "Python 3",
      "name": "python3"
    },
    "language_info": {
      "name": "python"
    },
    "widgets": {
      "application/vnd.jupyter.widget-state+json": {
        "f19c297ae91d4f71bb9bb1e2a8ac6fee": {
          "model_module": "@jupyter-widgets/controls",
          "model_name": "HBoxModel",
          "model_module_version": "1.5.0",
          "state": {
            "_view_name": "HBoxView",
            "_dom_classes": [],
            "_model_name": "HBoxModel",
            "_view_module": "@jupyter-widgets/controls",
            "_model_module_version": "1.5.0",
            "_view_count": null,
            "_view_module_version": "1.5.0",
            "box_style": "",
            "layout": "IPY_MODEL_4de9d47df75542bc98d24f65127ca4cd",
            "_model_module": "@jupyter-widgets/controls",
            "children": [
              "IPY_MODEL_a55384362c0144749e4ffb787acf8b7a",
              "IPY_MODEL_77c0eb77d4d34efe97bc17fe6ff1ecd9",
              "IPY_MODEL_59434da8424045c481046713546fdd68"
            ]
          }
        },
        "4de9d47df75542bc98d24f65127ca4cd": {
          "model_module": "@jupyter-widgets/base",
          "model_name": "LayoutModel",
          "model_module_version": "1.2.0",
          "state": {
            "_view_name": "LayoutView",
            "grid_template_rows": null,
            "right": null,
            "justify_content": null,
            "_view_module": "@jupyter-widgets/base",
            "overflow": null,
            "_model_module_version": "1.2.0",
            "_view_count": null,
            "flex_flow": null,
            "width": null,
            "min_width": null,
            "border": null,
            "align_items": null,
            "bottom": null,
            "_model_module": "@jupyter-widgets/base",
            "top": null,
            "grid_column": null,
            "overflow_y": null,
            "overflow_x": null,
            "grid_auto_flow": null,
            "grid_area": null,
            "grid_template_columns": null,
            "flex": null,
            "_model_name": "LayoutModel",
            "justify_items": null,
            "grid_row": null,
            "max_height": null,
            "align_content": null,
            "visibility": null,
            "align_self": null,
            "height": null,
            "min_height": null,
            "padding": null,
            "grid_auto_rows": null,
            "grid_gap": null,
            "max_width": null,
            "order": null,
            "_view_module_version": "1.2.0",
            "grid_template_areas": null,
            "object_position": null,
            "object_fit": null,
            "grid_auto_columns": null,
            "margin": null,
            "display": null,
            "left": null
          }
        },
        "a55384362c0144749e4ffb787acf8b7a": {
          "model_module": "@jupyter-widgets/controls",
          "model_name": "HTMLModel",
          "model_module_version": "1.5.0",
          "state": {
            "_view_name": "HTMLView",
            "style": "IPY_MODEL_ed566bd982474657979ba41bb2b492ec",
            "_dom_classes": [],
            "description": "",
            "_model_name": "HTMLModel",
            "placeholder": "​",
            "_view_module": "@jupyter-widgets/controls",
            "_model_module_version": "1.5.0",
            "value": "100%",
            "_view_count": null,
            "_view_module_version": "1.5.0",
            "description_tooltip": null,
            "_model_module": "@jupyter-widgets/controls",
            "layout": "IPY_MODEL_45cf7942dfae45c88f4143604fb640ce"
          }
        },
        "77c0eb77d4d34efe97bc17fe6ff1ecd9": {
          "model_module": "@jupyter-widgets/controls",
          "model_name": "FloatProgressModel",
          "model_module_version": "1.5.0",
          "state": {
            "_view_name": "ProgressView",
            "style": "IPY_MODEL_3d5452e5163d43b385b598ec64c1a68c",
            "_dom_classes": [],
            "description": "",
            "_model_name": "FloatProgressModel",
            "bar_style": "success",
            "max": 23,
            "_view_module": "@jupyter-widgets/controls",
            "_model_module_version": "1.5.0",
            "value": 23,
            "_view_count": null,
            "_view_module_version": "1.5.0",
            "orientation": "horizontal",
            "min": 0,
            "description_tooltip": null,
            "_model_module": "@jupyter-widgets/controls",
            "layout": "IPY_MODEL_1cf41ec9c9b54ee6aec08352600be6b6"
          }
        },
        "59434da8424045c481046713546fdd68": {
          "model_module": "@jupyter-widgets/controls",
          "model_name": "HTMLModel",
          "model_module_version": "1.5.0",
          "state": {
            "_view_name": "HTMLView",
            "style": "IPY_MODEL_88a1dd733947447c973c17ea63c5884d",
            "_dom_classes": [],
            "description": "",
            "_model_name": "HTMLModel",
            "placeholder": "​",
            "_view_module": "@jupyter-widgets/controls",
            "_model_module_version": "1.5.0",
            "value": " 23/23 [00:02&lt;00:00, 10.19it/s]",
            "_view_count": null,
            "_view_module_version": "1.5.0",
            "description_tooltip": null,
            "_model_module": "@jupyter-widgets/controls",
            "layout": "IPY_MODEL_1d1af3fb032a45fa90d20811a9020e00"
          }
        },
        "ed566bd982474657979ba41bb2b492ec": {
          "model_module": "@jupyter-widgets/controls",
          "model_name": "DescriptionStyleModel",
          "model_module_version": "1.5.0",
          "state": {
            "_view_name": "StyleView",
            "_model_name": "DescriptionStyleModel",
            "description_width": "",
            "_view_module": "@jupyter-widgets/base",
            "_model_module_version": "1.5.0",
            "_view_count": null,
            "_view_module_version": "1.2.0",
            "_model_module": "@jupyter-widgets/controls"
          }
        },
        "45cf7942dfae45c88f4143604fb640ce": {
          "model_module": "@jupyter-widgets/base",
          "model_name": "LayoutModel",
          "model_module_version": "1.2.0",
          "state": {
            "_view_name": "LayoutView",
            "grid_template_rows": null,
            "right": null,
            "justify_content": null,
            "_view_module": "@jupyter-widgets/base",
            "overflow": null,
            "_model_module_version": "1.2.0",
            "_view_count": null,
            "flex_flow": null,
            "width": null,
            "min_width": null,
            "border": null,
            "align_items": null,
            "bottom": null,
            "_model_module": "@jupyter-widgets/base",
            "top": null,
            "grid_column": null,
            "overflow_y": null,
            "overflow_x": null,
            "grid_auto_flow": null,
            "grid_area": null,
            "grid_template_columns": null,
            "flex": null,
            "_model_name": "LayoutModel",
            "justify_items": null,
            "grid_row": null,
            "max_height": null,
            "align_content": null,
            "visibility": null,
            "align_self": null,
            "height": null,
            "min_height": null,
            "padding": null,
            "grid_auto_rows": null,
            "grid_gap": null,
            "max_width": null,
            "order": null,
            "_view_module_version": "1.2.0",
            "grid_template_areas": null,
            "object_position": null,
            "object_fit": null,
            "grid_auto_columns": null,
            "margin": null,
            "display": null,
            "left": null
          }
        },
        "3d5452e5163d43b385b598ec64c1a68c": {
          "model_module": "@jupyter-widgets/controls",
          "model_name": "ProgressStyleModel",
          "model_module_version": "1.5.0",
          "state": {
            "_view_name": "StyleView",
            "_model_name": "ProgressStyleModel",
            "description_width": "",
            "_view_module": "@jupyter-widgets/base",
            "_model_module_version": "1.5.0",
            "_view_count": null,
            "_view_module_version": "1.2.0",
            "bar_color": null,
            "_model_module": "@jupyter-widgets/controls"
          }
        },
        "1cf41ec9c9b54ee6aec08352600be6b6": {
          "model_module": "@jupyter-widgets/base",
          "model_name": "LayoutModel",
          "model_module_version": "1.2.0",
          "state": {
            "_view_name": "LayoutView",
            "grid_template_rows": null,
            "right": null,
            "justify_content": null,
            "_view_module": "@jupyter-widgets/base",
            "overflow": null,
            "_model_module_version": "1.2.0",
            "_view_count": null,
            "flex_flow": null,
            "width": null,
            "min_width": null,
            "border": null,
            "align_items": null,
            "bottom": null,
            "_model_module": "@jupyter-widgets/base",
            "top": null,
            "grid_column": null,
            "overflow_y": null,
            "overflow_x": null,
            "grid_auto_flow": null,
            "grid_area": null,
            "grid_template_columns": null,
            "flex": null,
            "_model_name": "LayoutModel",
            "justify_items": null,
            "grid_row": null,
            "max_height": null,
            "align_content": null,
            "visibility": null,
            "align_self": null,
            "height": null,
            "min_height": null,
            "padding": null,
            "grid_auto_rows": null,
            "grid_gap": null,
            "max_width": null,
            "order": null,
            "_view_module_version": "1.2.0",
            "grid_template_areas": null,
            "object_position": null,
            "object_fit": null,
            "grid_auto_columns": null,
            "margin": null,
            "display": null,
            "left": null
          }
        },
        "88a1dd733947447c973c17ea63c5884d": {
          "model_module": "@jupyter-widgets/controls",
          "model_name": "DescriptionStyleModel",
          "model_module_version": "1.5.0",
          "state": {
            "_view_name": "StyleView",
            "_model_name": "DescriptionStyleModel",
            "description_width": "",
            "_view_module": "@jupyter-widgets/base",
            "_model_module_version": "1.5.0",
            "_view_count": null,
            "_view_module_version": "1.2.0",
            "_model_module": "@jupyter-widgets/controls"
          }
        },
        "1d1af3fb032a45fa90d20811a9020e00": {
          "model_module": "@jupyter-widgets/base",
          "model_name": "LayoutModel",
          "model_module_version": "1.2.0",
          "state": {
            "_view_name": "LayoutView",
            "grid_template_rows": null,
            "right": null,
            "justify_content": null,
            "_view_module": "@jupyter-widgets/base",
            "overflow": null,
            "_model_module_version": "1.2.0",
            "_view_count": null,
            "flex_flow": null,
            "width": null,
            "min_width": null,
            "border": null,
            "align_items": null,
            "bottom": null,
            "_model_module": "@jupyter-widgets/base",
            "top": null,
            "grid_column": null,
            "overflow_y": null,
            "overflow_x": null,
            "grid_auto_flow": null,
            "grid_area": null,
            "grid_template_columns": null,
            "flex": null,
            "_model_name": "LayoutModel",
            "justify_items": null,
            "grid_row": null,
            "max_height": null,
            "align_content": null,
            "visibility": null,
            "align_self": null,
            "height": null,
            "min_height": null,
            "padding": null,
            "grid_auto_rows": null,
            "grid_gap": null,
            "max_width": null,
            "order": null,
            "_view_module_version": "1.2.0",
            "grid_template_areas": null,
            "object_position": null,
            "object_fit": null,
            "grid_auto_columns": null,
            "margin": null,
            "display": null,
            "left": null
          }
        },
        "5eec0066af914a4bb4e8dee72b1725b7": {
          "model_module": "@jupyter-widgets/controls",
          "model_name": "HBoxModel",
          "model_module_version": "1.5.0",
          "state": {
            "_view_name": "HBoxView",
            "_dom_classes": [],
            "_model_name": "HBoxModel",
            "_view_module": "@jupyter-widgets/controls",
            "_model_module_version": "1.5.0",
            "_view_count": null,
            "_view_module_version": "1.5.0",
            "box_style": "",
            "layout": "IPY_MODEL_90781da2c082463496cd35cfcca0b8d7",
            "_model_module": "@jupyter-widgets/controls",
            "children": [
              "IPY_MODEL_4bfc619e38154fde866fa8eac2dd182b",
              "IPY_MODEL_4a1a9d1cd37b4116983ce20d8feafd29",
              "IPY_MODEL_e4e4e31cb4f1480cb54ce62739cf94e0"
            ]
          }
        },
        "90781da2c082463496cd35cfcca0b8d7": {
          "model_module": "@jupyter-widgets/base",
          "model_name": "LayoutModel",
          "model_module_version": "1.2.0",
          "state": {
            "_view_name": "LayoutView",
            "grid_template_rows": null,
            "right": null,
            "justify_content": null,
            "_view_module": "@jupyter-widgets/base",
            "overflow": null,
            "_model_module_version": "1.2.0",
            "_view_count": null,
            "flex_flow": null,
            "width": null,
            "min_width": null,
            "border": null,
            "align_items": null,
            "bottom": null,
            "_model_module": "@jupyter-widgets/base",
            "top": null,
            "grid_column": null,
            "overflow_y": null,
            "overflow_x": null,
            "grid_auto_flow": null,
            "grid_area": null,
            "grid_template_columns": null,
            "flex": null,
            "_model_name": "LayoutModel",
            "justify_items": null,
            "grid_row": null,
            "max_height": null,
            "align_content": null,
            "visibility": null,
            "align_self": null,
            "height": null,
            "min_height": null,
            "padding": null,
            "grid_auto_rows": null,
            "grid_gap": null,
            "max_width": null,
            "order": null,
            "_view_module_version": "1.2.0",
            "grid_template_areas": null,
            "object_position": null,
            "object_fit": null,
            "grid_auto_columns": null,
            "margin": null,
            "display": null,
            "left": null
          }
        },
        "4bfc619e38154fde866fa8eac2dd182b": {
          "model_module": "@jupyter-widgets/controls",
          "model_name": "HTMLModel",
          "model_module_version": "1.5.0",
          "state": {
            "_view_name": "HTMLView",
            "style": "IPY_MODEL_28de27b691484542a9c4301f188c0650",
            "_dom_classes": [],
            "description": "",
            "_model_name": "HTMLModel",
            "placeholder": "​",
            "_view_module": "@jupyter-widgets/controls",
            "_model_module_version": "1.5.0",
            "value": "100%",
            "_view_count": null,
            "_view_module_version": "1.5.0",
            "description_tooltip": null,
            "_model_module": "@jupyter-widgets/controls",
            "layout": "IPY_MODEL_4f392dd18cce4ff698a08f337aedd4e6"
          }
        },
        "4a1a9d1cd37b4116983ce20d8feafd29": {
          "model_module": "@jupyter-widgets/controls",
          "model_name": "FloatProgressModel",
          "model_module_version": "1.5.0",
          "state": {
            "_view_name": "ProgressView",
            "style": "IPY_MODEL_684005cbd5c74b53976dc07aa08dc135",
            "_dom_classes": [],
            "description": "",
            "_model_name": "FloatProgressModel",
            "bar_style": "success",
            "max": 23,
            "_view_module": "@jupyter-widgets/controls",
            "_model_module_version": "1.5.0",
            "value": 23,
            "_view_count": null,
            "_view_module_version": "1.5.0",
            "orientation": "horizontal",
            "min": 0,
            "description_tooltip": null,
            "_model_module": "@jupyter-widgets/controls",
            "layout": "IPY_MODEL_c98e72987b564489ae1a9e4d6c033218"
          }
        },
        "e4e4e31cb4f1480cb54ce62739cf94e0": {
          "model_module": "@jupyter-widgets/controls",
          "model_name": "HTMLModel",
          "model_module_version": "1.5.0",
          "state": {
            "_view_name": "HTMLView",
            "style": "IPY_MODEL_0280341ed97546a08401107f406804c6",
            "_dom_classes": [],
            "description": "",
            "_model_name": "HTMLModel",
            "placeholder": "​",
            "_view_module": "@jupyter-widgets/controls",
            "_model_module_version": "1.5.0",
            "value": " 23/23 [00:00&lt;00:00, 32.07it/s]",
            "_view_count": null,
            "_view_module_version": "1.5.0",
            "description_tooltip": null,
            "_model_module": "@jupyter-widgets/controls",
            "layout": "IPY_MODEL_1c7def831b2a4cb2b4944fce5588d9e5"
          }
        },
        "28de27b691484542a9c4301f188c0650": {
          "model_module": "@jupyter-widgets/controls",
          "model_name": "DescriptionStyleModel",
          "model_module_version": "1.5.0",
          "state": {
            "_view_name": "StyleView",
            "_model_name": "DescriptionStyleModel",
            "description_width": "",
            "_view_module": "@jupyter-widgets/base",
            "_model_module_version": "1.5.0",
            "_view_count": null,
            "_view_module_version": "1.2.0",
            "_model_module": "@jupyter-widgets/controls"
          }
        },
        "4f392dd18cce4ff698a08f337aedd4e6": {
          "model_module": "@jupyter-widgets/base",
          "model_name": "LayoutModel",
          "model_module_version": "1.2.0",
          "state": {
            "_view_name": "LayoutView",
            "grid_template_rows": null,
            "right": null,
            "justify_content": null,
            "_view_module": "@jupyter-widgets/base",
            "overflow": null,
            "_model_module_version": "1.2.0",
            "_view_count": null,
            "flex_flow": null,
            "width": null,
            "min_width": null,
            "border": null,
            "align_items": null,
            "bottom": null,
            "_model_module": "@jupyter-widgets/base",
            "top": null,
            "grid_column": null,
            "overflow_y": null,
            "overflow_x": null,
            "grid_auto_flow": null,
            "grid_area": null,
            "grid_template_columns": null,
            "flex": null,
            "_model_name": "LayoutModel",
            "justify_items": null,
            "grid_row": null,
            "max_height": null,
            "align_content": null,
            "visibility": null,
            "align_self": null,
            "height": null,
            "min_height": null,
            "padding": null,
            "grid_auto_rows": null,
            "grid_gap": null,
            "max_width": null,
            "order": null,
            "_view_module_version": "1.2.0",
            "grid_template_areas": null,
            "object_position": null,
            "object_fit": null,
            "grid_auto_columns": null,
            "margin": null,
            "display": null,
            "left": null
          }
        },
        "684005cbd5c74b53976dc07aa08dc135": {
          "model_module": "@jupyter-widgets/controls",
          "model_name": "ProgressStyleModel",
          "model_module_version": "1.5.0",
          "state": {
            "_view_name": "StyleView",
            "_model_name": "ProgressStyleModel",
            "description_width": "",
            "_view_module": "@jupyter-widgets/base",
            "_model_module_version": "1.5.0",
            "_view_count": null,
            "_view_module_version": "1.2.0",
            "bar_color": null,
            "_model_module": "@jupyter-widgets/controls"
          }
        },
        "c98e72987b564489ae1a9e4d6c033218": {
          "model_module": "@jupyter-widgets/base",
          "model_name": "LayoutModel",
          "model_module_version": "1.2.0",
          "state": {
            "_view_name": "LayoutView",
            "grid_template_rows": null,
            "right": null,
            "justify_content": null,
            "_view_module": "@jupyter-widgets/base",
            "overflow": null,
            "_model_module_version": "1.2.0",
            "_view_count": null,
            "flex_flow": null,
            "width": null,
            "min_width": null,
            "border": null,
            "align_items": null,
            "bottom": null,
            "_model_module": "@jupyter-widgets/base",
            "top": null,
            "grid_column": null,
            "overflow_y": null,
            "overflow_x": null,
            "grid_auto_flow": null,
            "grid_area": null,
            "grid_template_columns": null,
            "flex": null,
            "_model_name": "LayoutModel",
            "justify_items": null,
            "grid_row": null,
            "max_height": null,
            "align_content": null,
            "visibility": null,
            "align_self": null,
            "height": null,
            "min_height": null,
            "padding": null,
            "grid_auto_rows": null,
            "grid_gap": null,
            "max_width": null,
            "order": null,
            "_view_module_version": "1.2.0",
            "grid_template_areas": null,
            "object_position": null,
            "object_fit": null,
            "grid_auto_columns": null,
            "margin": null,
            "display": null,
            "left": null
          }
        },
        "0280341ed97546a08401107f406804c6": {
          "model_module": "@jupyter-widgets/controls",
          "model_name": "DescriptionStyleModel",
          "model_module_version": "1.5.0",
          "state": {
            "_view_name": "StyleView",
            "_model_name": "DescriptionStyleModel",
            "description_width": "",
            "_view_module": "@jupyter-widgets/base",
            "_model_module_version": "1.5.0",
            "_view_count": null,
            "_view_module_version": "1.2.0",
            "_model_module": "@jupyter-widgets/controls"
          }
        },
        "1c7def831b2a4cb2b4944fce5588d9e5": {
          "model_module": "@jupyter-widgets/base",
          "model_name": "LayoutModel",
          "model_module_version": "1.2.0",
          "state": {
            "_view_name": "LayoutView",
            "grid_template_rows": null,
            "right": null,
            "justify_content": null,
            "_view_module": "@jupyter-widgets/base",
            "overflow": null,
            "_model_module_version": "1.2.0",
            "_view_count": null,
            "flex_flow": null,
            "width": null,
            "min_width": null,
            "border": null,
            "align_items": null,
            "bottom": null,
            "_model_module": "@jupyter-widgets/base",
            "top": null,
            "grid_column": null,
            "overflow_y": null,
            "overflow_x": null,
            "grid_auto_flow": null,
            "grid_area": null,
            "grid_template_columns": null,
            "flex": null,
            "_model_name": "LayoutModel",
            "justify_items": null,
            "grid_row": null,
            "max_height": null,
            "align_content": null,
            "visibility": null,
            "align_self": null,
            "height": null,
            "min_height": null,
            "padding": null,
            "grid_auto_rows": null,
            "grid_gap": null,
            "max_width": null,
            "order": null,
            "_view_module_version": "1.2.0",
            "grid_template_areas": null,
            "object_position": null,
            "object_fit": null,
            "grid_auto_columns": null,
            "margin": null,
            "display": null,
            "left": null
          }
        },
        "b6320734849e4ff9b0b42445e77ce40b": {
          "model_module": "@jupyter-widgets/controls",
          "model_name": "HBoxModel",
          "model_module_version": "1.5.0",
          "state": {
            "_view_name": "HBoxView",
            "_dom_classes": [],
            "_model_name": "HBoxModel",
            "_view_module": "@jupyter-widgets/controls",
            "_model_module_version": "1.5.0",
            "_view_count": null,
            "_view_module_version": "1.5.0",
            "box_style": "",
            "layout": "IPY_MODEL_d5532c0ec5044ed0bfe9934671d199ee",
            "_model_module": "@jupyter-widgets/controls",
            "children": [
              "IPY_MODEL_0394544949374752ac895d180daa1b98",
              "IPY_MODEL_4a46d2b5156d4c6b9449e1746f9cd824",
              "IPY_MODEL_b23401c6b5824fa8872eca17cc2c25f1"
            ]
          }
        },
        "d5532c0ec5044ed0bfe9934671d199ee": {
          "model_module": "@jupyter-widgets/base",
          "model_name": "LayoutModel",
          "model_module_version": "1.2.0",
          "state": {
            "_view_name": "LayoutView",
            "grid_template_rows": null,
            "right": null,
            "justify_content": null,
            "_view_module": "@jupyter-widgets/base",
            "overflow": null,
            "_model_module_version": "1.2.0",
            "_view_count": null,
            "flex_flow": null,
            "width": null,
            "min_width": null,
            "border": null,
            "align_items": null,
            "bottom": null,
            "_model_module": "@jupyter-widgets/base",
            "top": null,
            "grid_column": null,
            "overflow_y": null,
            "overflow_x": null,
            "grid_auto_flow": null,
            "grid_area": null,
            "grid_template_columns": null,
            "flex": null,
            "_model_name": "LayoutModel",
            "justify_items": null,
            "grid_row": null,
            "max_height": null,
            "align_content": null,
            "visibility": null,
            "align_self": null,
            "height": null,
            "min_height": null,
            "padding": null,
            "grid_auto_rows": null,
            "grid_gap": null,
            "max_width": null,
            "order": null,
            "_view_module_version": "1.2.0",
            "grid_template_areas": null,
            "object_position": null,
            "object_fit": null,
            "grid_auto_columns": null,
            "margin": null,
            "display": null,
            "left": null
          }
        },
        "0394544949374752ac895d180daa1b98": {
          "model_module": "@jupyter-widgets/controls",
          "model_name": "HTMLModel",
          "model_module_version": "1.5.0",
          "state": {
            "_view_name": "HTMLView",
            "style": "IPY_MODEL_6034886cbd144f2e91ccd587a87fc32b",
            "_dom_classes": [],
            "description": "",
            "_model_name": "HTMLModel",
            "placeholder": "​",
            "_view_module": "@jupyter-widgets/controls",
            "_model_module_version": "1.5.0",
            "value": "100%",
            "_view_count": null,
            "_view_module_version": "1.5.0",
            "description_tooltip": null,
            "_model_module": "@jupyter-widgets/controls",
            "layout": "IPY_MODEL_0e21197601b44fc885e3f4df8339dd61"
          }
        },
        "4a46d2b5156d4c6b9449e1746f9cd824": {
          "model_module": "@jupyter-widgets/controls",
          "model_name": "FloatProgressModel",
          "model_module_version": "1.5.0",
          "state": {
            "_view_name": "ProgressView",
            "style": "IPY_MODEL_3ff89413a8e54368a942b7d8afcff6ef",
            "_dom_classes": [],
            "description": "",
            "_model_name": "FloatProgressModel",
            "bar_style": "success",
            "max": 23,
            "_view_module": "@jupyter-widgets/controls",
            "_model_module_version": "1.5.0",
            "value": 23,
            "_view_count": null,
            "_view_module_version": "1.5.0",
            "orientation": "horizontal",
            "min": 0,
            "description_tooltip": null,
            "_model_module": "@jupyter-widgets/controls",
            "layout": "IPY_MODEL_96e3a7c960bf46a28bfba182d41b46c3"
          }
        },
        "b23401c6b5824fa8872eca17cc2c25f1": {
          "model_module": "@jupyter-widgets/controls",
          "model_name": "HTMLModel",
          "model_module_version": "1.5.0",
          "state": {
            "_view_name": "HTMLView",
            "style": "IPY_MODEL_79f16cd54b1d47acb6e867c017a75048",
            "_dom_classes": [],
            "description": "",
            "_model_name": "HTMLModel",
            "placeholder": "​",
            "_view_module": "@jupyter-widgets/controls",
            "_model_module_version": "1.5.0",
            "value": " 23/23 [00:36&lt;00:00,  1.15s/it]",
            "_view_count": null,
            "_view_module_version": "1.5.0",
            "description_tooltip": null,
            "_model_module": "@jupyter-widgets/controls",
            "layout": "IPY_MODEL_dee51a2d75a1458ab6f050f682f15b1d"
          }
        },
        "6034886cbd144f2e91ccd587a87fc32b": {
          "model_module": "@jupyter-widgets/controls",
          "model_name": "DescriptionStyleModel",
          "model_module_version": "1.5.0",
          "state": {
            "_view_name": "StyleView",
            "_model_name": "DescriptionStyleModel",
            "description_width": "",
            "_view_module": "@jupyter-widgets/base",
            "_model_module_version": "1.5.0",
            "_view_count": null,
            "_view_module_version": "1.2.0",
            "_model_module": "@jupyter-widgets/controls"
          }
        },
        "0e21197601b44fc885e3f4df8339dd61": {
          "model_module": "@jupyter-widgets/base",
          "model_name": "LayoutModel",
          "model_module_version": "1.2.0",
          "state": {
            "_view_name": "LayoutView",
            "grid_template_rows": null,
            "right": null,
            "justify_content": null,
            "_view_module": "@jupyter-widgets/base",
            "overflow": null,
            "_model_module_version": "1.2.0",
            "_view_count": null,
            "flex_flow": null,
            "width": null,
            "min_width": null,
            "border": null,
            "align_items": null,
            "bottom": null,
            "_model_module": "@jupyter-widgets/base",
            "top": null,
            "grid_column": null,
            "overflow_y": null,
            "overflow_x": null,
            "grid_auto_flow": null,
            "grid_area": null,
            "grid_template_columns": null,
            "flex": null,
            "_model_name": "LayoutModel",
            "justify_items": null,
            "grid_row": null,
            "max_height": null,
            "align_content": null,
            "visibility": null,
            "align_self": null,
            "height": null,
            "min_height": null,
            "padding": null,
            "grid_auto_rows": null,
            "grid_gap": null,
            "max_width": null,
            "order": null,
            "_view_module_version": "1.2.0",
            "grid_template_areas": null,
            "object_position": null,
            "object_fit": null,
            "grid_auto_columns": null,
            "margin": null,
            "display": null,
            "left": null
          }
        },
        "3ff89413a8e54368a942b7d8afcff6ef": {
          "model_module": "@jupyter-widgets/controls",
          "model_name": "ProgressStyleModel",
          "model_module_version": "1.5.0",
          "state": {
            "_view_name": "StyleView",
            "_model_name": "ProgressStyleModel",
            "description_width": "",
            "_view_module": "@jupyter-widgets/base",
            "_model_module_version": "1.5.0",
            "_view_count": null,
            "_view_module_version": "1.2.0",
            "bar_color": null,
            "_model_module": "@jupyter-widgets/controls"
          }
        },
        "96e3a7c960bf46a28bfba182d41b46c3": {
          "model_module": "@jupyter-widgets/base",
          "model_name": "LayoutModel",
          "model_module_version": "1.2.0",
          "state": {
            "_view_name": "LayoutView",
            "grid_template_rows": null,
            "right": null,
            "justify_content": null,
            "_view_module": "@jupyter-widgets/base",
            "overflow": null,
            "_model_module_version": "1.2.0",
            "_view_count": null,
            "flex_flow": null,
            "width": null,
            "min_width": null,
            "border": null,
            "align_items": null,
            "bottom": null,
            "_model_module": "@jupyter-widgets/base",
            "top": null,
            "grid_column": null,
            "overflow_y": null,
            "overflow_x": null,
            "grid_auto_flow": null,
            "grid_area": null,
            "grid_template_columns": null,
            "flex": null,
            "_model_name": "LayoutModel",
            "justify_items": null,
            "grid_row": null,
            "max_height": null,
            "align_content": null,
            "visibility": null,
            "align_self": null,
            "height": null,
            "min_height": null,
            "padding": null,
            "grid_auto_rows": null,
            "grid_gap": null,
            "max_width": null,
            "order": null,
            "_view_module_version": "1.2.0",
            "grid_template_areas": null,
            "object_position": null,
            "object_fit": null,
            "grid_auto_columns": null,
            "margin": null,
            "display": null,
            "left": null
          }
        },
        "79f16cd54b1d47acb6e867c017a75048": {
          "model_module": "@jupyter-widgets/controls",
          "model_name": "DescriptionStyleModel",
          "model_module_version": "1.5.0",
          "state": {
            "_view_name": "StyleView",
            "_model_name": "DescriptionStyleModel",
            "description_width": "",
            "_view_module": "@jupyter-widgets/base",
            "_model_module_version": "1.5.0",
            "_view_count": null,
            "_view_module_version": "1.2.0",
            "_model_module": "@jupyter-widgets/controls"
          }
        },
        "dee51a2d75a1458ab6f050f682f15b1d": {
          "model_module": "@jupyter-widgets/base",
          "model_name": "LayoutModel",
          "model_module_version": "1.2.0",
          "state": {
            "_view_name": "LayoutView",
            "grid_template_rows": null,
            "right": null,
            "justify_content": null,
            "_view_module": "@jupyter-widgets/base",
            "overflow": null,
            "_model_module_version": "1.2.0",
            "_view_count": null,
            "flex_flow": null,
            "width": null,
            "min_width": null,
            "border": null,
            "align_items": null,
            "bottom": null,
            "_model_module": "@jupyter-widgets/base",
            "top": null,
            "grid_column": null,
            "overflow_y": null,
            "overflow_x": null,
            "grid_auto_flow": null,
            "grid_area": null,
            "grid_template_columns": null,
            "flex": null,
            "_model_name": "LayoutModel",
            "justify_items": null,
            "grid_row": null,
            "max_height": null,
            "align_content": null,
            "visibility": null,
            "align_self": null,
            "height": null,
            "min_height": null,
            "padding": null,
            "grid_auto_rows": null,
            "grid_gap": null,
            "max_width": null,
            "order": null,
            "_view_module_version": "1.2.0",
            "grid_template_areas": null,
            "object_position": null,
            "object_fit": null,
            "grid_auto_columns": null,
            "margin": null,
            "display": null,
            "left": null
          }
        },
        "03e27a04374e4d0fbe38d5c8e1c35ceb": {
          "model_module": "@jupyter-widgets/controls",
          "model_name": "HBoxModel",
          "model_module_version": "1.5.0",
          "state": {
            "_view_name": "HBoxView",
            "_dom_classes": [],
            "_model_name": "HBoxModel",
            "_view_module": "@jupyter-widgets/controls",
            "_model_module_version": "1.5.0",
            "_view_count": null,
            "_view_module_version": "1.5.0",
            "box_style": "",
            "layout": "IPY_MODEL_08d9d38b5f6049889c70cb2b04fc5807",
            "_model_module": "@jupyter-widgets/controls",
            "children": [
              "IPY_MODEL_56787fc0d6614bf49587423b9cac1ff1",
              "IPY_MODEL_40303d446ece48f6856145fa25bdd372",
              "IPY_MODEL_11554d72faa044338916ed4dc4cbe38c"
            ]
          }
        },
        "08d9d38b5f6049889c70cb2b04fc5807": {
          "model_module": "@jupyter-widgets/base",
          "model_name": "LayoutModel",
          "model_module_version": "1.2.0",
          "state": {
            "_view_name": "LayoutView",
            "grid_template_rows": null,
            "right": null,
            "justify_content": null,
            "_view_module": "@jupyter-widgets/base",
            "overflow": null,
            "_model_module_version": "1.2.0",
            "_view_count": null,
            "flex_flow": null,
            "width": null,
            "min_width": null,
            "border": null,
            "align_items": null,
            "bottom": null,
            "_model_module": "@jupyter-widgets/base",
            "top": null,
            "grid_column": null,
            "overflow_y": null,
            "overflow_x": null,
            "grid_auto_flow": null,
            "grid_area": null,
            "grid_template_columns": null,
            "flex": null,
            "_model_name": "LayoutModel",
            "justify_items": null,
            "grid_row": null,
            "max_height": null,
            "align_content": null,
            "visibility": null,
            "align_self": null,
            "height": null,
            "min_height": null,
            "padding": null,
            "grid_auto_rows": null,
            "grid_gap": null,
            "max_width": null,
            "order": null,
            "_view_module_version": "1.2.0",
            "grid_template_areas": null,
            "object_position": null,
            "object_fit": null,
            "grid_auto_columns": null,
            "margin": null,
            "display": null,
            "left": null
          }
        },
        "56787fc0d6614bf49587423b9cac1ff1": {
          "model_module": "@jupyter-widgets/controls",
          "model_name": "HTMLModel",
          "model_module_version": "1.5.0",
          "state": {
            "_view_name": "HTMLView",
            "style": "IPY_MODEL_d0fe7277f1e142f982a2707f34aeb138",
            "_dom_classes": [],
            "description": "",
            "_model_name": "HTMLModel",
            "placeholder": "​",
            "_view_module": "@jupyter-widgets/controls",
            "_model_module_version": "1.5.0",
            "value": "100%",
            "_view_count": null,
            "_view_module_version": "1.5.0",
            "description_tooltip": null,
            "_model_module": "@jupyter-widgets/controls",
            "layout": "IPY_MODEL_5335e6719f34466090cfda372ccc4350"
          }
        },
        "40303d446ece48f6856145fa25bdd372": {
          "model_module": "@jupyter-widgets/controls",
          "model_name": "FloatProgressModel",
          "model_module_version": "1.5.0",
          "state": {
            "_view_name": "ProgressView",
            "style": "IPY_MODEL_27277e3dfce1480db2cfc7d97817daef",
            "_dom_classes": [],
            "description": "",
            "_model_name": "FloatProgressModel",
            "bar_style": "success",
            "max": 23,
            "_view_module": "@jupyter-widgets/controls",
            "_model_module_version": "1.5.0",
            "value": 23,
            "_view_count": null,
            "_view_module_version": "1.5.0",
            "orientation": "horizontal",
            "min": 0,
            "description_tooltip": null,
            "_model_module": "@jupyter-widgets/controls",
            "layout": "IPY_MODEL_d70b3912deeb4e7fb65fe52f68d0d153"
          }
        },
        "11554d72faa044338916ed4dc4cbe38c": {
          "model_module": "@jupyter-widgets/controls",
          "model_name": "HTMLModel",
          "model_module_version": "1.5.0",
          "state": {
            "_view_name": "HTMLView",
            "style": "IPY_MODEL_b2059870f86f4e848cefadac673d3c91",
            "_dom_classes": [],
            "description": "",
            "_model_name": "HTMLModel",
            "placeholder": "​",
            "_view_module": "@jupyter-widgets/controls",
            "_model_module_version": "1.5.0",
            "value": " 23/23 [00:01&lt;00:00, 12.03it/s]",
            "_view_count": null,
            "_view_module_version": "1.5.0",
            "description_tooltip": null,
            "_model_module": "@jupyter-widgets/controls",
            "layout": "IPY_MODEL_1515f2ba2909491597e85da46dfbff22"
          }
        },
        "d0fe7277f1e142f982a2707f34aeb138": {
          "model_module": "@jupyter-widgets/controls",
          "model_name": "DescriptionStyleModel",
          "model_module_version": "1.5.0",
          "state": {
            "_view_name": "StyleView",
            "_model_name": "DescriptionStyleModel",
            "description_width": "",
            "_view_module": "@jupyter-widgets/base",
            "_model_module_version": "1.5.0",
            "_view_count": null,
            "_view_module_version": "1.2.0",
            "_model_module": "@jupyter-widgets/controls"
          }
        },
        "5335e6719f34466090cfda372ccc4350": {
          "model_module": "@jupyter-widgets/base",
          "model_name": "LayoutModel",
          "model_module_version": "1.2.0",
          "state": {
            "_view_name": "LayoutView",
            "grid_template_rows": null,
            "right": null,
            "justify_content": null,
            "_view_module": "@jupyter-widgets/base",
            "overflow": null,
            "_model_module_version": "1.2.0",
            "_view_count": null,
            "flex_flow": null,
            "width": null,
            "min_width": null,
            "border": null,
            "align_items": null,
            "bottom": null,
            "_model_module": "@jupyter-widgets/base",
            "top": null,
            "grid_column": null,
            "overflow_y": null,
            "overflow_x": null,
            "grid_auto_flow": null,
            "grid_area": null,
            "grid_template_columns": null,
            "flex": null,
            "_model_name": "LayoutModel",
            "justify_items": null,
            "grid_row": null,
            "max_height": null,
            "align_content": null,
            "visibility": null,
            "align_self": null,
            "height": null,
            "min_height": null,
            "padding": null,
            "grid_auto_rows": null,
            "grid_gap": null,
            "max_width": null,
            "order": null,
            "_view_module_version": "1.2.0",
            "grid_template_areas": null,
            "object_position": null,
            "object_fit": null,
            "grid_auto_columns": null,
            "margin": null,
            "display": null,
            "left": null
          }
        },
        "27277e3dfce1480db2cfc7d97817daef": {
          "model_module": "@jupyter-widgets/controls",
          "model_name": "ProgressStyleModel",
          "model_module_version": "1.5.0",
          "state": {
            "_view_name": "StyleView",
            "_model_name": "ProgressStyleModel",
            "description_width": "",
            "_view_module": "@jupyter-widgets/base",
            "_model_module_version": "1.5.0",
            "_view_count": null,
            "_view_module_version": "1.2.0",
            "bar_color": null,
            "_model_module": "@jupyter-widgets/controls"
          }
        },
        "d70b3912deeb4e7fb65fe52f68d0d153": {
          "model_module": "@jupyter-widgets/base",
          "model_name": "LayoutModel",
          "model_module_version": "1.2.0",
          "state": {
            "_view_name": "LayoutView",
            "grid_template_rows": null,
            "right": null,
            "justify_content": null,
            "_view_module": "@jupyter-widgets/base",
            "overflow": null,
            "_model_module_version": "1.2.0",
            "_view_count": null,
            "flex_flow": null,
            "width": null,
            "min_width": null,
            "border": null,
            "align_items": null,
            "bottom": null,
            "_model_module": "@jupyter-widgets/base",
            "top": null,
            "grid_column": null,
            "overflow_y": null,
            "overflow_x": null,
            "grid_auto_flow": null,
            "grid_area": null,
            "grid_template_columns": null,
            "flex": null,
            "_model_name": "LayoutModel",
            "justify_items": null,
            "grid_row": null,
            "max_height": null,
            "align_content": null,
            "visibility": null,
            "align_self": null,
            "height": null,
            "min_height": null,
            "padding": null,
            "grid_auto_rows": null,
            "grid_gap": null,
            "max_width": null,
            "order": null,
            "_view_module_version": "1.2.0",
            "grid_template_areas": null,
            "object_position": null,
            "object_fit": null,
            "grid_auto_columns": null,
            "margin": null,
            "display": null,
            "left": null
          }
        },
        "b2059870f86f4e848cefadac673d3c91": {
          "model_module": "@jupyter-widgets/controls",
          "model_name": "DescriptionStyleModel",
          "model_module_version": "1.5.0",
          "state": {
            "_view_name": "StyleView",
            "_model_name": "DescriptionStyleModel",
            "description_width": "",
            "_view_module": "@jupyter-widgets/base",
            "_model_module_version": "1.5.0",
            "_view_count": null,
            "_view_module_version": "1.2.0",
            "_model_module": "@jupyter-widgets/controls"
          }
        },
        "1515f2ba2909491597e85da46dfbff22": {
          "model_module": "@jupyter-widgets/base",
          "model_name": "LayoutModel",
          "model_module_version": "1.2.0",
          "state": {
            "_view_name": "LayoutView",
            "grid_template_rows": null,
            "right": null,
            "justify_content": null,
            "_view_module": "@jupyter-widgets/base",
            "overflow": null,
            "_model_module_version": "1.2.0",
            "_view_count": null,
            "flex_flow": null,
            "width": null,
            "min_width": null,
            "border": null,
            "align_items": null,
            "bottom": null,
            "_model_module": "@jupyter-widgets/base",
            "top": null,
            "grid_column": null,
            "overflow_y": null,
            "overflow_x": null,
            "grid_auto_flow": null,
            "grid_area": null,
            "grid_template_columns": null,
            "flex": null,
            "_model_name": "LayoutModel",
            "justify_items": null,
            "grid_row": null,
            "max_height": null,
            "align_content": null,
            "visibility": null,
            "align_self": null,
            "height": null,
            "min_height": null,
            "padding": null,
            "grid_auto_rows": null,
            "grid_gap": null,
            "max_width": null,
            "order": null,
            "_view_module_version": "1.2.0",
            "grid_template_areas": null,
            "object_position": null,
            "object_fit": null,
            "grid_auto_columns": null,
            "margin": null,
            "display": null,
            "left": null
          }
        },
        "4dd7bf03c5894855b8ecae7291700f39": {
          "model_module": "@jupyter-widgets/controls",
          "model_name": "HBoxModel",
          "model_module_version": "1.5.0",
          "state": {
            "_view_name": "HBoxView",
            "_dom_classes": [],
            "_model_name": "HBoxModel",
            "_view_module": "@jupyter-widgets/controls",
            "_model_module_version": "1.5.0",
            "_view_count": null,
            "_view_module_version": "1.5.0",
            "box_style": "",
            "layout": "IPY_MODEL_e8dcdcfcb8ef41ff851a266b6106c64d",
            "_model_module": "@jupyter-widgets/controls",
            "children": [
              "IPY_MODEL_908fdb1df5bc4827bf6e5fa9f5d4acac",
              "IPY_MODEL_3e23018daf724562a781225fda6f6f7c",
              "IPY_MODEL_5a7a0ec78b0f4aecbd41c4144c83dd70"
            ]
          }
        },
        "e8dcdcfcb8ef41ff851a266b6106c64d": {
          "model_module": "@jupyter-widgets/base",
          "model_name": "LayoutModel",
          "model_module_version": "1.2.0",
          "state": {
            "_view_name": "LayoutView",
            "grid_template_rows": null,
            "right": null,
            "justify_content": null,
            "_view_module": "@jupyter-widgets/base",
            "overflow": null,
            "_model_module_version": "1.2.0",
            "_view_count": null,
            "flex_flow": null,
            "width": null,
            "min_width": null,
            "border": null,
            "align_items": null,
            "bottom": null,
            "_model_module": "@jupyter-widgets/base",
            "top": null,
            "grid_column": null,
            "overflow_y": null,
            "overflow_x": null,
            "grid_auto_flow": null,
            "grid_area": null,
            "grid_template_columns": null,
            "flex": null,
            "_model_name": "LayoutModel",
            "justify_items": null,
            "grid_row": null,
            "max_height": null,
            "align_content": null,
            "visibility": null,
            "align_self": null,
            "height": null,
            "min_height": null,
            "padding": null,
            "grid_auto_rows": null,
            "grid_gap": null,
            "max_width": null,
            "order": null,
            "_view_module_version": "1.2.0",
            "grid_template_areas": null,
            "object_position": null,
            "object_fit": null,
            "grid_auto_columns": null,
            "margin": null,
            "display": null,
            "left": null
          }
        },
        "908fdb1df5bc4827bf6e5fa9f5d4acac": {
          "model_module": "@jupyter-widgets/controls",
          "model_name": "HTMLModel",
          "model_module_version": "1.5.0",
          "state": {
            "_view_name": "HTMLView",
            "style": "IPY_MODEL_e1072c6b78d247948f9eaceb40197784",
            "_dom_classes": [],
            "description": "",
            "_model_name": "HTMLModel",
            "placeholder": "​",
            "_view_module": "@jupyter-widgets/controls",
            "_model_module_version": "1.5.0",
            "value": "",
            "_view_count": null,
            "_view_module_version": "1.5.0",
            "description_tooltip": null,
            "_model_module": "@jupyter-widgets/controls",
            "layout": "IPY_MODEL_1fd8eb4ef43e4fe7968139d8e94fe8c1"
          }
        },
        "3e23018daf724562a781225fda6f6f7c": {
          "model_module": "@jupyter-widgets/controls",
          "model_name": "FloatProgressModel",
          "model_module_version": "1.5.0",
          "state": {
            "_view_name": "ProgressView",
            "style": "IPY_MODEL_ed7f4e4c58724f4d916010e43f1c0b9e",
            "_dom_classes": [],
            "description": "",
            "_model_name": "FloatProgressModel",
            "bar_style": "success",
            "max": 1,
            "_view_module": "@jupyter-widgets/controls",
            "_model_module_version": "1.5.0",
            "value": 1,
            "_view_count": null,
            "_view_module_version": "1.5.0",
            "orientation": "horizontal",
            "min": 0,
            "description_tooltip": null,
            "_model_module": "@jupyter-widgets/controls",
            "layout": "IPY_MODEL_748f54ed33ea4de9a38bb472370267f8"
          }
        },
        "5a7a0ec78b0f4aecbd41c4144c83dd70": {
          "model_module": "@jupyter-widgets/controls",
          "model_name": "HTMLModel",
          "model_module_version": "1.5.0",
          "state": {
            "_view_name": "HTMLView",
            "style": "IPY_MODEL_f7960e3c25e24d1982efa94457736008",
            "_dom_classes": [],
            "description": "",
            "_model_name": "HTMLModel",
            "placeholder": "​",
            "_view_module": "@jupyter-widgets/controls",
            "_model_module_version": "1.5.0",
            "value": " 230000/? [00:06&lt;00:00, 42523.06it/s]",
            "_view_count": null,
            "_view_module_version": "1.5.0",
            "description_tooltip": null,
            "_model_module": "@jupyter-widgets/controls",
            "layout": "IPY_MODEL_d0a5afcba6b94f2d86a09e16c057b39e"
          }
        },
        "e1072c6b78d247948f9eaceb40197784": {
          "model_module": "@jupyter-widgets/controls",
          "model_name": "DescriptionStyleModel",
          "model_module_version": "1.5.0",
          "state": {
            "_view_name": "StyleView",
            "_model_name": "DescriptionStyleModel",
            "description_width": "",
            "_view_module": "@jupyter-widgets/base",
            "_model_module_version": "1.5.0",
            "_view_count": null,
            "_view_module_version": "1.2.0",
            "_model_module": "@jupyter-widgets/controls"
          }
        },
        "1fd8eb4ef43e4fe7968139d8e94fe8c1": {
          "model_module": "@jupyter-widgets/base",
          "model_name": "LayoutModel",
          "model_module_version": "1.2.0",
          "state": {
            "_view_name": "LayoutView",
            "grid_template_rows": null,
            "right": null,
            "justify_content": null,
            "_view_module": "@jupyter-widgets/base",
            "overflow": null,
            "_model_module_version": "1.2.0",
            "_view_count": null,
            "flex_flow": null,
            "width": null,
            "min_width": null,
            "border": null,
            "align_items": null,
            "bottom": null,
            "_model_module": "@jupyter-widgets/base",
            "top": null,
            "grid_column": null,
            "overflow_y": null,
            "overflow_x": null,
            "grid_auto_flow": null,
            "grid_area": null,
            "grid_template_columns": null,
            "flex": null,
            "_model_name": "LayoutModel",
            "justify_items": null,
            "grid_row": null,
            "max_height": null,
            "align_content": null,
            "visibility": null,
            "align_self": null,
            "height": null,
            "min_height": null,
            "padding": null,
            "grid_auto_rows": null,
            "grid_gap": null,
            "max_width": null,
            "order": null,
            "_view_module_version": "1.2.0",
            "grid_template_areas": null,
            "object_position": null,
            "object_fit": null,
            "grid_auto_columns": null,
            "margin": null,
            "display": null,
            "left": null
          }
        },
        "ed7f4e4c58724f4d916010e43f1c0b9e": {
          "model_module": "@jupyter-widgets/controls",
          "model_name": "ProgressStyleModel",
          "model_module_version": "1.5.0",
          "state": {
            "_view_name": "StyleView",
            "_model_name": "ProgressStyleModel",
            "description_width": "",
            "_view_module": "@jupyter-widgets/base",
            "_model_module_version": "1.5.0",
            "_view_count": null,
            "_view_module_version": "1.2.0",
            "bar_color": null,
            "_model_module": "@jupyter-widgets/controls"
          }
        },
        "748f54ed33ea4de9a38bb472370267f8": {
          "model_module": "@jupyter-widgets/base",
          "model_name": "LayoutModel",
          "model_module_version": "1.2.0",
          "state": {
            "_view_name": "LayoutView",
            "grid_template_rows": null,
            "right": null,
            "justify_content": null,
            "_view_module": "@jupyter-widgets/base",
            "overflow": null,
            "_model_module_version": "1.2.0",
            "_view_count": null,
            "flex_flow": null,
            "width": "20px",
            "min_width": null,
            "border": null,
            "align_items": null,
            "bottom": null,
            "_model_module": "@jupyter-widgets/base",
            "top": null,
            "grid_column": null,
            "overflow_y": null,
            "overflow_x": null,
            "grid_auto_flow": null,
            "grid_area": null,
            "grid_template_columns": null,
            "flex": null,
            "_model_name": "LayoutModel",
            "justify_items": null,
            "grid_row": null,
            "max_height": null,
            "align_content": null,
            "visibility": null,
            "align_self": null,
            "height": null,
            "min_height": null,
            "padding": null,
            "grid_auto_rows": null,
            "grid_gap": null,
            "max_width": null,
            "order": null,
            "_view_module_version": "1.2.0",
            "grid_template_areas": null,
            "object_position": null,
            "object_fit": null,
            "grid_auto_columns": null,
            "margin": null,
            "display": null,
            "left": null
          }
        },
        "f7960e3c25e24d1982efa94457736008": {
          "model_module": "@jupyter-widgets/controls",
          "model_name": "DescriptionStyleModel",
          "model_module_version": "1.5.0",
          "state": {
            "_view_name": "StyleView",
            "_model_name": "DescriptionStyleModel",
            "description_width": "",
            "_view_module": "@jupyter-widgets/base",
            "_model_module_version": "1.5.0",
            "_view_count": null,
            "_view_module_version": "1.2.0",
            "_model_module": "@jupyter-widgets/controls"
          }
        },
        "d0a5afcba6b94f2d86a09e16c057b39e": {
          "model_module": "@jupyter-widgets/base",
          "model_name": "LayoutModel",
          "model_module_version": "1.2.0",
          "state": {
            "_view_name": "LayoutView",
            "grid_template_rows": null,
            "right": null,
            "justify_content": null,
            "_view_module": "@jupyter-widgets/base",
            "overflow": null,
            "_model_module_version": "1.2.0",
            "_view_count": null,
            "flex_flow": null,
            "width": null,
            "min_width": null,
            "border": null,
            "align_items": null,
            "bottom": null,
            "_model_module": "@jupyter-widgets/base",
            "top": null,
            "grid_column": null,
            "overflow_y": null,
            "overflow_x": null,
            "grid_auto_flow": null,
            "grid_area": null,
            "grid_template_columns": null,
            "flex": null,
            "_model_name": "LayoutModel",
            "justify_items": null,
            "grid_row": null,
            "max_height": null,
            "align_content": null,
            "visibility": null,
            "align_self": null,
            "height": null,
            "min_height": null,
            "padding": null,
            "grid_auto_rows": null,
            "grid_gap": null,
            "max_width": null,
            "order": null,
            "_view_module_version": "1.2.0",
            "grid_template_areas": null,
            "object_position": null,
            "object_fit": null,
            "grid_auto_columns": null,
            "margin": null,
            "display": null,
            "left": null
          }
        },
        "461ba72b165f45b890e8b33166178ebb": {
          "model_module": "@jupyter-widgets/controls",
          "model_name": "HBoxModel",
          "model_module_version": "1.5.0",
          "state": {
            "_view_name": "HBoxView",
            "_dom_classes": [],
            "_model_name": "HBoxModel",
            "_view_module": "@jupyter-widgets/controls",
            "_model_module_version": "1.5.0",
            "_view_count": null,
            "_view_module_version": "1.5.0",
            "box_style": "",
            "layout": "IPY_MODEL_627195cf5c744e76a2d7a846fe9379b4",
            "_model_module": "@jupyter-widgets/controls",
            "children": [
              "IPY_MODEL_c707454c4d1e4f82bf649bd8af0bddb8",
              "IPY_MODEL_d07ab15749da41e58d58c2bcf4bdb252",
              "IPY_MODEL_fb36d35b73d348fb8964bb65a3d20599"
            ]
          }
        },
        "627195cf5c744e76a2d7a846fe9379b4": {
          "model_module": "@jupyter-widgets/base",
          "model_name": "LayoutModel",
          "model_module_version": "1.2.0",
          "state": {
            "_view_name": "LayoutView",
            "grid_template_rows": null,
            "right": null,
            "justify_content": null,
            "_view_module": "@jupyter-widgets/base",
            "overflow": null,
            "_model_module_version": "1.2.0",
            "_view_count": null,
            "flex_flow": null,
            "width": null,
            "min_width": null,
            "border": null,
            "align_items": null,
            "bottom": null,
            "_model_module": "@jupyter-widgets/base",
            "top": null,
            "grid_column": null,
            "overflow_y": null,
            "overflow_x": null,
            "grid_auto_flow": null,
            "grid_area": null,
            "grid_template_columns": null,
            "flex": null,
            "_model_name": "LayoutModel",
            "justify_items": null,
            "grid_row": null,
            "max_height": null,
            "align_content": null,
            "visibility": null,
            "align_self": null,
            "height": null,
            "min_height": null,
            "padding": null,
            "grid_auto_rows": null,
            "grid_gap": null,
            "max_width": null,
            "order": null,
            "_view_module_version": "1.2.0",
            "grid_template_areas": null,
            "object_position": null,
            "object_fit": null,
            "grid_auto_columns": null,
            "margin": null,
            "display": null,
            "left": null
          }
        },
        "c707454c4d1e4f82bf649bd8af0bddb8": {
          "model_module": "@jupyter-widgets/controls",
          "model_name": "HTMLModel",
          "model_module_version": "1.5.0",
          "state": {
            "_view_name": "HTMLView",
            "style": "IPY_MODEL_a697bbc9ef884ba98df580da60b307d3",
            "_dom_classes": [],
            "description": "",
            "_model_name": "HTMLModel",
            "placeholder": "​",
            "_view_module": "@jupyter-widgets/controls",
            "_model_module_version": "1.5.0",
            "value": "100%",
            "_view_count": null,
            "_view_module_version": "1.5.0",
            "description_tooltip": null,
            "_model_module": "@jupyter-widgets/controls",
            "layout": "IPY_MODEL_9ce7c836f4ba4c20a686fd2b3e7d88fb"
          }
        },
        "d07ab15749da41e58d58c2bcf4bdb252": {
          "model_module": "@jupyter-widgets/controls",
          "model_name": "FloatProgressModel",
          "model_module_version": "1.5.0",
          "state": {
            "_view_name": "ProgressView",
            "style": "IPY_MODEL_302643c6b4d74863b46d1954962e9a5e",
            "_dom_classes": [],
            "description": "",
            "_model_name": "FloatProgressModel",
            "bar_style": "success",
            "max": 23,
            "_view_module": "@jupyter-widgets/controls",
            "_model_module_version": "1.5.0",
            "value": 23,
            "_view_count": null,
            "_view_module_version": "1.5.0",
            "orientation": "horizontal",
            "min": 0,
            "description_tooltip": null,
            "_model_module": "@jupyter-widgets/controls",
            "layout": "IPY_MODEL_c305c818381641b5a6bb31e6da5f0b97"
          }
        },
        "fb36d35b73d348fb8964bb65a3d20599": {
          "model_module": "@jupyter-widgets/controls",
          "model_name": "HTMLModel",
          "model_module_version": "1.5.0",
          "state": {
            "_view_name": "HTMLView",
            "style": "IPY_MODEL_e051ef9256d44b4da008d45e3d9e5d76",
            "_dom_classes": [],
            "description": "",
            "_model_name": "HTMLModel",
            "placeholder": "​",
            "_view_module": "@jupyter-widgets/controls",
            "_model_module_version": "1.5.0",
            "value": " 23/23 [00:00&lt;00:00, 35.88it/s]",
            "_view_count": null,
            "_view_module_version": "1.5.0",
            "description_tooltip": null,
            "_model_module": "@jupyter-widgets/controls",
            "layout": "IPY_MODEL_2434bcc242a042039ec27c0e04d09fd3"
          }
        },
        "a697bbc9ef884ba98df580da60b307d3": {
          "model_module": "@jupyter-widgets/controls",
          "model_name": "DescriptionStyleModel",
          "model_module_version": "1.5.0",
          "state": {
            "_view_name": "StyleView",
            "_model_name": "DescriptionStyleModel",
            "description_width": "",
            "_view_module": "@jupyter-widgets/base",
            "_model_module_version": "1.5.0",
            "_view_count": null,
            "_view_module_version": "1.2.0",
            "_model_module": "@jupyter-widgets/controls"
          }
        },
        "9ce7c836f4ba4c20a686fd2b3e7d88fb": {
          "model_module": "@jupyter-widgets/base",
          "model_name": "LayoutModel",
          "model_module_version": "1.2.0",
          "state": {
            "_view_name": "LayoutView",
            "grid_template_rows": null,
            "right": null,
            "justify_content": null,
            "_view_module": "@jupyter-widgets/base",
            "overflow": null,
            "_model_module_version": "1.2.0",
            "_view_count": null,
            "flex_flow": null,
            "width": null,
            "min_width": null,
            "border": null,
            "align_items": null,
            "bottom": null,
            "_model_module": "@jupyter-widgets/base",
            "top": null,
            "grid_column": null,
            "overflow_y": null,
            "overflow_x": null,
            "grid_auto_flow": null,
            "grid_area": null,
            "grid_template_columns": null,
            "flex": null,
            "_model_name": "LayoutModel",
            "justify_items": null,
            "grid_row": null,
            "max_height": null,
            "align_content": null,
            "visibility": null,
            "align_self": null,
            "height": null,
            "min_height": null,
            "padding": null,
            "grid_auto_rows": null,
            "grid_gap": null,
            "max_width": null,
            "order": null,
            "_view_module_version": "1.2.0",
            "grid_template_areas": null,
            "object_position": null,
            "object_fit": null,
            "grid_auto_columns": null,
            "margin": null,
            "display": null,
            "left": null
          }
        },
        "302643c6b4d74863b46d1954962e9a5e": {
          "model_module": "@jupyter-widgets/controls",
          "model_name": "ProgressStyleModel",
          "model_module_version": "1.5.0",
          "state": {
            "_view_name": "StyleView",
            "_model_name": "ProgressStyleModel",
            "description_width": "",
            "_view_module": "@jupyter-widgets/base",
            "_model_module_version": "1.5.0",
            "_view_count": null,
            "_view_module_version": "1.2.0",
            "bar_color": null,
            "_model_module": "@jupyter-widgets/controls"
          }
        },
        "c305c818381641b5a6bb31e6da5f0b97": {
          "model_module": "@jupyter-widgets/base",
          "model_name": "LayoutModel",
          "model_module_version": "1.2.0",
          "state": {
            "_view_name": "LayoutView",
            "grid_template_rows": null,
            "right": null,
            "justify_content": null,
            "_view_module": "@jupyter-widgets/base",
            "overflow": null,
            "_model_module_version": "1.2.0",
            "_view_count": null,
            "flex_flow": null,
            "width": null,
            "min_width": null,
            "border": null,
            "align_items": null,
            "bottom": null,
            "_model_module": "@jupyter-widgets/base",
            "top": null,
            "grid_column": null,
            "overflow_y": null,
            "overflow_x": null,
            "grid_auto_flow": null,
            "grid_area": null,
            "grid_template_columns": null,
            "flex": null,
            "_model_name": "LayoutModel",
            "justify_items": null,
            "grid_row": null,
            "max_height": null,
            "align_content": null,
            "visibility": null,
            "align_self": null,
            "height": null,
            "min_height": null,
            "padding": null,
            "grid_auto_rows": null,
            "grid_gap": null,
            "max_width": null,
            "order": null,
            "_view_module_version": "1.2.0",
            "grid_template_areas": null,
            "object_position": null,
            "object_fit": null,
            "grid_auto_columns": null,
            "margin": null,
            "display": null,
            "left": null
          }
        },
        "e051ef9256d44b4da008d45e3d9e5d76": {
          "model_module": "@jupyter-widgets/controls",
          "model_name": "DescriptionStyleModel",
          "model_module_version": "1.5.0",
          "state": {
            "_view_name": "StyleView",
            "_model_name": "DescriptionStyleModel",
            "description_width": "",
            "_view_module": "@jupyter-widgets/base",
            "_model_module_version": "1.5.0",
            "_view_count": null,
            "_view_module_version": "1.2.0",
            "_model_module": "@jupyter-widgets/controls"
          }
        },
        "2434bcc242a042039ec27c0e04d09fd3": {
          "model_module": "@jupyter-widgets/base",
          "model_name": "LayoutModel",
          "model_module_version": "1.2.0",
          "state": {
            "_view_name": "LayoutView",
            "grid_template_rows": null,
            "right": null,
            "justify_content": null,
            "_view_module": "@jupyter-widgets/base",
            "overflow": null,
            "_model_module_version": "1.2.0",
            "_view_count": null,
            "flex_flow": null,
            "width": null,
            "min_width": null,
            "border": null,
            "align_items": null,
            "bottom": null,
            "_model_module": "@jupyter-widgets/base",
            "top": null,
            "grid_column": null,
            "overflow_y": null,
            "overflow_x": null,
            "grid_auto_flow": null,
            "grid_area": null,
            "grid_template_columns": null,
            "flex": null,
            "_model_name": "LayoutModel",
            "justify_items": null,
            "grid_row": null,
            "max_height": null,
            "align_content": null,
            "visibility": null,
            "align_self": null,
            "height": null,
            "min_height": null,
            "padding": null,
            "grid_auto_rows": null,
            "grid_gap": null,
            "max_width": null,
            "order": null,
            "_view_module_version": "1.2.0",
            "grid_template_areas": null,
            "object_position": null,
            "object_fit": null,
            "grid_auto_columns": null,
            "margin": null,
            "display": null,
            "left": null
          }
        },
        "8bfcdecc59fa41f09b623aa3aed86dea": {
          "model_module": "@jupyter-widgets/controls",
          "model_name": "HBoxModel",
          "model_module_version": "1.5.0",
          "state": {
            "_view_name": "HBoxView",
            "_dom_classes": [],
            "_model_name": "HBoxModel",
            "_view_module": "@jupyter-widgets/controls",
            "_model_module_version": "1.5.0",
            "_view_count": null,
            "_view_module_version": "1.5.0",
            "box_style": "",
            "layout": "IPY_MODEL_d295ab8663e24e93bd7d269f23455ae5",
            "_model_module": "@jupyter-widgets/controls",
            "children": [
              "IPY_MODEL_1b90922d95af4437b464b321a98c212b",
              "IPY_MODEL_679fc1aff7054d08b5cd29512392b737",
              "IPY_MODEL_cabe8c6041e141f5ae598a334853aac3"
            ]
          }
        },
        "d295ab8663e24e93bd7d269f23455ae5": {
          "model_module": "@jupyter-widgets/base",
          "model_name": "LayoutModel",
          "model_module_version": "1.2.0",
          "state": {
            "_view_name": "LayoutView",
            "grid_template_rows": null,
            "right": null,
            "justify_content": null,
            "_view_module": "@jupyter-widgets/base",
            "overflow": null,
            "_model_module_version": "1.2.0",
            "_view_count": null,
            "flex_flow": null,
            "width": null,
            "min_width": null,
            "border": null,
            "align_items": null,
            "bottom": null,
            "_model_module": "@jupyter-widgets/base",
            "top": null,
            "grid_column": null,
            "overflow_y": null,
            "overflow_x": null,
            "grid_auto_flow": null,
            "grid_area": null,
            "grid_template_columns": null,
            "flex": null,
            "_model_name": "LayoutModel",
            "justify_items": null,
            "grid_row": null,
            "max_height": null,
            "align_content": null,
            "visibility": null,
            "align_self": null,
            "height": null,
            "min_height": null,
            "padding": null,
            "grid_auto_rows": null,
            "grid_gap": null,
            "max_width": null,
            "order": null,
            "_view_module_version": "1.2.0",
            "grid_template_areas": null,
            "object_position": null,
            "object_fit": null,
            "grid_auto_columns": null,
            "margin": null,
            "display": null,
            "left": null
          }
        },
        "1b90922d95af4437b464b321a98c212b": {
          "model_module": "@jupyter-widgets/controls",
          "model_name": "HTMLModel",
          "model_module_version": "1.5.0",
          "state": {
            "_view_name": "HTMLView",
            "style": "IPY_MODEL_b840e8b5d6e04073a027b672c471681a",
            "_dom_classes": [],
            "description": "",
            "_model_name": "HTMLModel",
            "placeholder": "​",
            "_view_module": "@jupyter-widgets/controls",
            "_model_module_version": "1.5.0",
            "value": "",
            "_view_count": null,
            "_view_module_version": "1.5.0",
            "description_tooltip": null,
            "_model_module": "@jupyter-widgets/controls",
            "layout": "IPY_MODEL_8967e8ce8f1c4fd7975e347e1672c1bf"
          }
        },
        "679fc1aff7054d08b5cd29512392b737": {
          "model_module": "@jupyter-widgets/controls",
          "model_name": "FloatProgressModel",
          "model_module_version": "1.5.0",
          "state": {
            "_view_name": "ProgressView",
            "style": "IPY_MODEL_9efbf7d615c9460bb5ca0cef704c84a3",
            "_dom_classes": [],
            "description": "",
            "_model_name": "FloatProgressModel",
            "bar_style": "success",
            "max": 1,
            "_view_module": "@jupyter-widgets/controls",
            "_model_module_version": "1.5.0",
            "value": 1,
            "_view_count": null,
            "_view_module_version": "1.5.0",
            "orientation": "horizontal",
            "min": 0,
            "description_tooltip": null,
            "_model_module": "@jupyter-widgets/controls",
            "layout": "IPY_MODEL_762f2e60f8fa4488b52817bcfc835297"
          }
        },
        "cabe8c6041e141f5ae598a334853aac3": {
          "model_module": "@jupyter-widgets/controls",
          "model_name": "HTMLModel",
          "model_module_version": "1.5.0",
          "state": {
            "_view_name": "HTMLView",
            "style": "IPY_MODEL_d4c95179647046d9ac599bba6faefe2d",
            "_dom_classes": [],
            "description": "",
            "_model_name": "HTMLModel",
            "placeholder": "​",
            "_view_module": "@jupyter-widgets/controls",
            "_model_module_version": "1.5.0",
            "value": " 70000/? [00:02&lt;00:00, 40829.53it/s]",
            "_view_count": null,
            "_view_module_version": "1.5.0",
            "description_tooltip": null,
            "_model_module": "@jupyter-widgets/controls",
            "layout": "IPY_MODEL_86a341c47b154d0e8375e63289d42a65"
          }
        },
        "b840e8b5d6e04073a027b672c471681a": {
          "model_module": "@jupyter-widgets/controls",
          "model_name": "DescriptionStyleModel",
          "model_module_version": "1.5.0",
          "state": {
            "_view_name": "StyleView",
            "_model_name": "DescriptionStyleModel",
            "description_width": "",
            "_view_module": "@jupyter-widgets/base",
            "_model_module_version": "1.5.0",
            "_view_count": null,
            "_view_module_version": "1.2.0",
            "_model_module": "@jupyter-widgets/controls"
          }
        },
        "8967e8ce8f1c4fd7975e347e1672c1bf": {
          "model_module": "@jupyter-widgets/base",
          "model_name": "LayoutModel",
          "model_module_version": "1.2.0",
          "state": {
            "_view_name": "LayoutView",
            "grid_template_rows": null,
            "right": null,
            "justify_content": null,
            "_view_module": "@jupyter-widgets/base",
            "overflow": null,
            "_model_module_version": "1.2.0",
            "_view_count": null,
            "flex_flow": null,
            "width": null,
            "min_width": null,
            "border": null,
            "align_items": null,
            "bottom": null,
            "_model_module": "@jupyter-widgets/base",
            "top": null,
            "grid_column": null,
            "overflow_y": null,
            "overflow_x": null,
            "grid_auto_flow": null,
            "grid_area": null,
            "grid_template_columns": null,
            "flex": null,
            "_model_name": "LayoutModel",
            "justify_items": null,
            "grid_row": null,
            "max_height": null,
            "align_content": null,
            "visibility": null,
            "align_self": null,
            "height": null,
            "min_height": null,
            "padding": null,
            "grid_auto_rows": null,
            "grid_gap": null,
            "max_width": null,
            "order": null,
            "_view_module_version": "1.2.0",
            "grid_template_areas": null,
            "object_position": null,
            "object_fit": null,
            "grid_auto_columns": null,
            "margin": null,
            "display": null,
            "left": null
          }
        },
        "9efbf7d615c9460bb5ca0cef704c84a3": {
          "model_module": "@jupyter-widgets/controls",
          "model_name": "ProgressStyleModel",
          "model_module_version": "1.5.0",
          "state": {
            "_view_name": "StyleView",
            "_model_name": "ProgressStyleModel",
            "description_width": "",
            "_view_module": "@jupyter-widgets/base",
            "_model_module_version": "1.5.0",
            "_view_count": null,
            "_view_module_version": "1.2.0",
            "bar_color": null,
            "_model_module": "@jupyter-widgets/controls"
          }
        },
        "762f2e60f8fa4488b52817bcfc835297": {
          "model_module": "@jupyter-widgets/base",
          "model_name": "LayoutModel",
          "model_module_version": "1.2.0",
          "state": {
            "_view_name": "LayoutView",
            "grid_template_rows": null,
            "right": null,
            "justify_content": null,
            "_view_module": "@jupyter-widgets/base",
            "overflow": null,
            "_model_module_version": "1.2.0",
            "_view_count": null,
            "flex_flow": null,
            "width": "20px",
            "min_width": null,
            "border": null,
            "align_items": null,
            "bottom": null,
            "_model_module": "@jupyter-widgets/base",
            "top": null,
            "grid_column": null,
            "overflow_y": null,
            "overflow_x": null,
            "grid_auto_flow": null,
            "grid_area": null,
            "grid_template_columns": null,
            "flex": null,
            "_model_name": "LayoutModel",
            "justify_items": null,
            "grid_row": null,
            "max_height": null,
            "align_content": null,
            "visibility": null,
            "align_self": null,
            "height": null,
            "min_height": null,
            "padding": null,
            "grid_auto_rows": null,
            "grid_gap": null,
            "max_width": null,
            "order": null,
            "_view_module_version": "1.2.0",
            "grid_template_areas": null,
            "object_position": null,
            "object_fit": null,
            "grid_auto_columns": null,
            "margin": null,
            "display": null,
            "left": null
          }
        },
        "d4c95179647046d9ac599bba6faefe2d": {
          "model_module": "@jupyter-widgets/controls",
          "model_name": "DescriptionStyleModel",
          "model_module_version": "1.5.0",
          "state": {
            "_view_name": "StyleView",
            "_model_name": "DescriptionStyleModel",
            "description_width": "",
            "_view_module": "@jupyter-widgets/base",
            "_model_module_version": "1.5.0",
            "_view_count": null,
            "_view_module_version": "1.2.0",
            "_model_module": "@jupyter-widgets/controls"
          }
        },
        "86a341c47b154d0e8375e63289d42a65": {
          "model_module": "@jupyter-widgets/base",
          "model_name": "LayoutModel",
          "model_module_version": "1.2.0",
          "state": {
            "_view_name": "LayoutView",
            "grid_template_rows": null,
            "right": null,
            "justify_content": null,
            "_view_module": "@jupyter-widgets/base",
            "overflow": null,
            "_model_module_version": "1.2.0",
            "_view_count": null,
            "flex_flow": null,
            "width": null,
            "min_width": null,
            "border": null,
            "align_items": null,
            "bottom": null,
            "_model_module": "@jupyter-widgets/base",
            "top": null,
            "grid_column": null,
            "overflow_y": null,
            "overflow_x": null,
            "grid_auto_flow": null,
            "grid_area": null,
            "grid_template_columns": null,
            "flex": null,
            "_model_name": "LayoutModel",
            "justify_items": null,
            "grid_row": null,
            "max_height": null,
            "align_content": null,
            "visibility": null,
            "align_self": null,
            "height": null,
            "min_height": null,
            "padding": null,
            "grid_auto_rows": null,
            "grid_gap": null,
            "max_width": null,
            "order": null,
            "_view_module_version": "1.2.0",
            "grid_template_areas": null,
            "object_position": null,
            "object_fit": null,
            "grid_auto_columns": null,
            "margin": null,
            "display": null,
            "left": null
          }
        }
      }
    }
  },
  "cells": [
    {
      "cell_type": "markdown",
      "metadata": {
        "id": "view-in-github",
        "colab_type": "text"
      },
      "source": [
        "<a href=\"https://colab.research.google.com/github/art-glazunov/Non-standard-categorical-encodings/blob/main/group_counts_and_entropy.ipynb\" target=\"_parent\"><img src=\"https://colab.research.google.com/assets/colab-badge.svg\" alt=\"Open In Colab\"/></a>"
      ]
    },
    {
      "cell_type": "markdown",
      "metadata": {
        "id": "_iC-jvxVRBVz"
      },
      "source": [
        "# Non-standard categorical encodings\n",
        "by Artyom Glazunov\n",
        "#Part 2.2. Group counts + Entropy calculation"
      ]
    },
    {
      "cell_type": "markdown",
      "metadata": {
        "id": "kBsfdX46mpNQ"
      },
      "source": [
        "### In this notebook, you can check out how group counts and entropy calculation can help with categorical encoding and getting object embeddings in unsupervised manner. Such embeddings can be useful for solving many supervised and unsupervised learning tasks.\n",
        "Inspired by https://github.com/cerlymarco/MEDIUM_NoteBook/blob/master/Group2Vec/Group2Vec.ipynb\n",
        "\n"
      ]
    },
    {
      "cell_type": "code",
      "metadata": {
        "id": "Fc7l4Qk5rzQH"
      },
      "source": [
        "import pandas as pd\n",
        "import numpy as np\n",
        "\n",
        "import itertools\n",
        "import lightgbm as lgb\n",
        "from sklearn.linear_model import LogisticRegression\n",
        "from sklearn.model_selection import train_test_split\n",
        "\n",
        "from sklearn.feature_extraction.text import CountVectorizer\n",
        "from sklearn.metrics import roc_auc_score\n",
        "from sklearn.manifold import TSNE, MDS\n",
        "from scipy.stats import entropy\n",
        "\n",
        "\n",
        "from sklearn.preprocessing import StandardScaler\n",
        "from sklearn.pipeline import Pipeline\n",
        "\n",
        "from tqdm.notebook import tqdm\n",
        "import matplotlib.pyplot as plt\n",
        "\n",
        "import warnings\n",
        "warnings.filterwarnings(\"ignore\")\n",
        "from typing import List, NewType\n",
        "EntropyCategoricalEmbedderObject = NewType('EntropyCategoricalEmbedderObject', object) #creating new type to annotate in our class"
      ],
      "execution_count": null,
      "outputs": []
    },
    {
      "cell_type": "markdown",
      "metadata": {
        "id": "VabPYXuxnDQb"
      },
      "source": [
        "Download our train dataset from https://www.kaggle.com/c/cat-in-the-dat/data?select=train.csv into your directory, here I use a folder on my Google Drive to store the data. Of course, you can simply load the data into the folder on the left, without Google Drive. But if you want to mount your drive, you can do as instructed here https://towardsdatascience.com/downloading-datasets-into-google-drive-via-google-colab-bcb1b30b0166, *or just use a button on the left panel*). "
      ]
    },
    {
      "cell_type": "markdown",
      "metadata": {
        "id": "Sw10ZaginHJV"
      },
      "source": [
        "Change working dir"
      ]
    },
    {
      "cell_type": "code",
      "metadata": {
        "colab": {
          "base_uri": "https://localhost:8080/"
        },
        "id": "vVY9YtQ1sKQl",
        "outputId": "a8f07009-b37e-4715-94da-792c6e8e4727"
      },
      "source": [
        "cd /content/drive/MyDrive/Colab_Notebooks/article"
      ],
      "execution_count": null,
      "outputs": [
        {
          "output_type": "stream",
          "name": "stdout",
          "text": [
            "/content/drive/MyDrive/Colab_Notebooks/article\n"
          ]
        }
      ]
    },
    {
      "cell_type": "markdown",
      "metadata": {
        "id": "DJ4i9rQXnPGs"
      },
      "source": [
        "Check the folder "
      ]
    },
    {
      "cell_type": "code",
      "metadata": {
        "colab": {
          "base_uri": "https://localhost:8080/"
        },
        "id": "_b2nO5jtsKaM",
        "outputId": "8e30ecfe-4737-4cba-d93d-663fe51568f3"
      },
      "source": [
        "!ls"
      ],
      "execution_count": null,
      "outputs": [
        {
          "output_type": "stream",
          "name": "stdout",
          "text": [
            "group_counts_and_entropy.ipynb\tgroup_counts_and_SVD.ipynb  train.csv\n"
          ]
        }
      ]
    },
    {
      "cell_type": "markdown",
      "metadata": {
        "id": "KLabnYUTnUvY"
      },
      "source": [
        "Our file is here, let's load the data and split it into train and test parts"
      ]
    },
    {
      "cell_type": "code",
      "metadata": {
        "colab": {
          "base_uri": "https://localhost:8080/",
          "height": 309
        },
        "id": "Ixi-xSs8sKgA",
        "outputId": "d2b9a116-a9da-4bd0-d0c4-482773a08092"
      },
      "source": [
        "data = pd.read_csv('train.csv', index_col = 'id')\n",
        "train = data.iloc[:-70000]\n",
        "print(train.shape)\n",
        "train.head()"
      ],
      "execution_count": null,
      "outputs": [
        {
          "output_type": "stream",
          "name": "stdout",
          "text": [
            "(230000, 24)\n"
          ]
        },
        {
          "output_type": "execute_result",
          "data": {
            "text/html": [
              "<div>\n",
              "<style scoped>\n",
              "    .dataframe tbody tr th:only-of-type {\n",
              "        vertical-align: middle;\n",
              "    }\n",
              "\n",
              "    .dataframe tbody tr th {\n",
              "        vertical-align: top;\n",
              "    }\n",
              "\n",
              "    .dataframe thead th {\n",
              "        text-align: right;\n",
              "    }\n",
              "</style>\n",
              "<table border=\"1\" class=\"dataframe\">\n",
              "  <thead>\n",
              "    <tr style=\"text-align: right;\">\n",
              "      <th></th>\n",
              "      <th>bin_0</th>\n",
              "      <th>bin_1</th>\n",
              "      <th>bin_2</th>\n",
              "      <th>bin_3</th>\n",
              "      <th>bin_4</th>\n",
              "      <th>nom_0</th>\n",
              "      <th>nom_1</th>\n",
              "      <th>nom_2</th>\n",
              "      <th>nom_3</th>\n",
              "      <th>nom_4</th>\n",
              "      <th>nom_5</th>\n",
              "      <th>nom_6</th>\n",
              "      <th>nom_7</th>\n",
              "      <th>nom_8</th>\n",
              "      <th>nom_9</th>\n",
              "      <th>ord_0</th>\n",
              "      <th>ord_1</th>\n",
              "      <th>ord_2</th>\n",
              "      <th>ord_3</th>\n",
              "      <th>ord_4</th>\n",
              "      <th>ord_5</th>\n",
              "      <th>day</th>\n",
              "      <th>month</th>\n",
              "      <th>target</th>\n",
              "    </tr>\n",
              "    <tr>\n",
              "      <th>id</th>\n",
              "      <th></th>\n",
              "      <th></th>\n",
              "      <th></th>\n",
              "      <th></th>\n",
              "      <th></th>\n",
              "      <th></th>\n",
              "      <th></th>\n",
              "      <th></th>\n",
              "      <th></th>\n",
              "      <th></th>\n",
              "      <th></th>\n",
              "      <th></th>\n",
              "      <th></th>\n",
              "      <th></th>\n",
              "      <th></th>\n",
              "      <th></th>\n",
              "      <th></th>\n",
              "      <th></th>\n",
              "      <th></th>\n",
              "      <th></th>\n",
              "      <th></th>\n",
              "      <th></th>\n",
              "      <th></th>\n",
              "      <th></th>\n",
              "    </tr>\n",
              "  </thead>\n",
              "  <tbody>\n",
              "    <tr>\n",
              "      <th>0</th>\n",
              "      <td>0</td>\n",
              "      <td>0</td>\n",
              "      <td>0</td>\n",
              "      <td>T</td>\n",
              "      <td>Y</td>\n",
              "      <td>Green</td>\n",
              "      <td>Triangle</td>\n",
              "      <td>Snake</td>\n",
              "      <td>Finland</td>\n",
              "      <td>Bassoon</td>\n",
              "      <td>50f116bcf</td>\n",
              "      <td>3ac1b8814</td>\n",
              "      <td>68f6ad3e9</td>\n",
              "      <td>c389000ab</td>\n",
              "      <td>2f4cb3d51</td>\n",
              "      <td>2</td>\n",
              "      <td>Grandmaster</td>\n",
              "      <td>Cold</td>\n",
              "      <td>h</td>\n",
              "      <td>D</td>\n",
              "      <td>kr</td>\n",
              "      <td>2</td>\n",
              "      <td>2</td>\n",
              "      <td>0</td>\n",
              "    </tr>\n",
              "    <tr>\n",
              "      <th>1</th>\n",
              "      <td>0</td>\n",
              "      <td>1</td>\n",
              "      <td>0</td>\n",
              "      <td>T</td>\n",
              "      <td>Y</td>\n",
              "      <td>Green</td>\n",
              "      <td>Trapezoid</td>\n",
              "      <td>Hamster</td>\n",
              "      <td>Russia</td>\n",
              "      <td>Piano</td>\n",
              "      <td>b3b4d25d0</td>\n",
              "      <td>fbcb50fc1</td>\n",
              "      <td>3b6dd5612</td>\n",
              "      <td>4cd920251</td>\n",
              "      <td>f83c56c21</td>\n",
              "      <td>1</td>\n",
              "      <td>Grandmaster</td>\n",
              "      <td>Hot</td>\n",
              "      <td>a</td>\n",
              "      <td>A</td>\n",
              "      <td>bF</td>\n",
              "      <td>7</td>\n",
              "      <td>8</td>\n",
              "      <td>0</td>\n",
              "    </tr>\n",
              "    <tr>\n",
              "      <th>2</th>\n",
              "      <td>0</td>\n",
              "      <td>0</td>\n",
              "      <td>0</td>\n",
              "      <td>F</td>\n",
              "      <td>Y</td>\n",
              "      <td>Blue</td>\n",
              "      <td>Trapezoid</td>\n",
              "      <td>Lion</td>\n",
              "      <td>Russia</td>\n",
              "      <td>Theremin</td>\n",
              "      <td>3263bdce5</td>\n",
              "      <td>0922e3cb8</td>\n",
              "      <td>a6a36f527</td>\n",
              "      <td>de9c9f684</td>\n",
              "      <td>ae6800dd0</td>\n",
              "      <td>1</td>\n",
              "      <td>Expert</td>\n",
              "      <td>Lava Hot</td>\n",
              "      <td>h</td>\n",
              "      <td>R</td>\n",
              "      <td>Jc</td>\n",
              "      <td>7</td>\n",
              "      <td>2</td>\n",
              "      <td>0</td>\n",
              "    </tr>\n",
              "    <tr>\n",
              "      <th>3</th>\n",
              "      <td>0</td>\n",
              "      <td>1</td>\n",
              "      <td>0</td>\n",
              "      <td>F</td>\n",
              "      <td>Y</td>\n",
              "      <td>Red</td>\n",
              "      <td>Trapezoid</td>\n",
              "      <td>Snake</td>\n",
              "      <td>Canada</td>\n",
              "      <td>Oboe</td>\n",
              "      <td>f12246592</td>\n",
              "      <td>50d7ad46a</td>\n",
              "      <td>ec69236eb</td>\n",
              "      <td>4ade6ab69</td>\n",
              "      <td>8270f0d71</td>\n",
              "      <td>1</td>\n",
              "      <td>Grandmaster</td>\n",
              "      <td>Boiling Hot</td>\n",
              "      <td>i</td>\n",
              "      <td>D</td>\n",
              "      <td>kW</td>\n",
              "      <td>2</td>\n",
              "      <td>1</td>\n",
              "      <td>1</td>\n",
              "    </tr>\n",
              "    <tr>\n",
              "      <th>4</th>\n",
              "      <td>0</td>\n",
              "      <td>0</td>\n",
              "      <td>0</td>\n",
              "      <td>F</td>\n",
              "      <td>N</td>\n",
              "      <td>Red</td>\n",
              "      <td>Trapezoid</td>\n",
              "      <td>Lion</td>\n",
              "      <td>Canada</td>\n",
              "      <td>Oboe</td>\n",
              "      <td>5b0f5acd5</td>\n",
              "      <td>1fe17a1fd</td>\n",
              "      <td>04ddac2be</td>\n",
              "      <td>cb43ab175</td>\n",
              "      <td>b164b72a7</td>\n",
              "      <td>1</td>\n",
              "      <td>Grandmaster</td>\n",
              "      <td>Freezing</td>\n",
              "      <td>a</td>\n",
              "      <td>R</td>\n",
              "      <td>qP</td>\n",
              "      <td>7</td>\n",
              "      <td>8</td>\n",
              "      <td>0</td>\n",
              "    </tr>\n",
              "  </tbody>\n",
              "</table>\n",
              "</div>"
            ],
            "text/plain": [
              "    bin_0  bin_1  bin_2 bin_3 bin_4  ... ord_4 ord_5 day month target\n",
              "id                                   ...                             \n",
              "0       0      0      0     T     Y  ...     D    kr   2     2      0\n",
              "1       0      1      0     T     Y  ...     A    bF   7     8      0\n",
              "2       0      0      0     F     Y  ...     R    Jc   7     2      0\n",
              "3       0      1      0     F     Y  ...     D    kW   2     1      1\n",
              "4       0      0      0     F     N  ...     R    qP   7     8      0\n",
              "\n",
              "[5 rows x 24 columns]"
            ]
          },
          "metadata": {},
          "execution_count": 4
        }
      ]
    },
    {
      "cell_type": "code",
      "metadata": {
        "colab": {
          "base_uri": "https://localhost:8080/",
          "height": 327
        },
        "id": "BvdtLysQsKk2",
        "outputId": "f59568be-a26d-4740-9fad-08f2c0fc8d5e"
      },
      "source": [
        "test = data.iloc[-70000:]\n",
        "print(test.shape)\n",
        "test.head()"
      ],
      "execution_count": null,
      "outputs": [
        {
          "output_type": "stream",
          "name": "stdout",
          "text": [
            "(70000, 24)\n"
          ]
        },
        {
          "output_type": "execute_result",
          "data": {
            "text/html": [
              "<div>\n",
              "<style scoped>\n",
              "    .dataframe tbody tr th:only-of-type {\n",
              "        vertical-align: middle;\n",
              "    }\n",
              "\n",
              "    .dataframe tbody tr th {\n",
              "        vertical-align: top;\n",
              "    }\n",
              "\n",
              "    .dataframe thead th {\n",
              "        text-align: right;\n",
              "    }\n",
              "</style>\n",
              "<table border=\"1\" class=\"dataframe\">\n",
              "  <thead>\n",
              "    <tr style=\"text-align: right;\">\n",
              "      <th></th>\n",
              "      <th>bin_0</th>\n",
              "      <th>bin_1</th>\n",
              "      <th>bin_2</th>\n",
              "      <th>bin_3</th>\n",
              "      <th>bin_4</th>\n",
              "      <th>nom_0</th>\n",
              "      <th>nom_1</th>\n",
              "      <th>nom_2</th>\n",
              "      <th>nom_3</th>\n",
              "      <th>nom_4</th>\n",
              "      <th>nom_5</th>\n",
              "      <th>nom_6</th>\n",
              "      <th>nom_7</th>\n",
              "      <th>nom_8</th>\n",
              "      <th>nom_9</th>\n",
              "      <th>ord_0</th>\n",
              "      <th>ord_1</th>\n",
              "      <th>ord_2</th>\n",
              "      <th>ord_3</th>\n",
              "      <th>ord_4</th>\n",
              "      <th>ord_5</th>\n",
              "      <th>day</th>\n",
              "      <th>month</th>\n",
              "      <th>target</th>\n",
              "    </tr>\n",
              "    <tr>\n",
              "      <th>id</th>\n",
              "      <th></th>\n",
              "      <th></th>\n",
              "      <th></th>\n",
              "      <th></th>\n",
              "      <th></th>\n",
              "      <th></th>\n",
              "      <th></th>\n",
              "      <th></th>\n",
              "      <th></th>\n",
              "      <th></th>\n",
              "      <th></th>\n",
              "      <th></th>\n",
              "      <th></th>\n",
              "      <th></th>\n",
              "      <th></th>\n",
              "      <th></th>\n",
              "      <th></th>\n",
              "      <th></th>\n",
              "      <th></th>\n",
              "      <th></th>\n",
              "      <th></th>\n",
              "      <th></th>\n",
              "      <th></th>\n",
              "      <th></th>\n",
              "    </tr>\n",
              "  </thead>\n",
              "  <tbody>\n",
              "    <tr>\n",
              "      <th>230000</th>\n",
              "      <td>1</td>\n",
              "      <td>1</td>\n",
              "      <td>0</td>\n",
              "      <td>F</td>\n",
              "      <td>Y</td>\n",
              "      <td>Green</td>\n",
              "      <td>Square</td>\n",
              "      <td>Dog</td>\n",
              "      <td>Russia</td>\n",
              "      <td>Piano</td>\n",
              "      <td>92190168b</td>\n",
              "      <td>fa498a5ae</td>\n",
              "      <td>d10553e7e</td>\n",
              "      <td>80be47228</td>\n",
              "      <td>47d38e9d3</td>\n",
              "      <td>1</td>\n",
              "      <td>Master</td>\n",
              "      <td>Lava Hot</td>\n",
              "      <td>e</td>\n",
              "      <td>U</td>\n",
              "      <td>MO</td>\n",
              "      <td>4</td>\n",
              "      <td>2</td>\n",
              "      <td>0</td>\n",
              "    </tr>\n",
              "    <tr>\n",
              "      <th>230001</th>\n",
              "      <td>0</td>\n",
              "      <td>0</td>\n",
              "      <td>0</td>\n",
              "      <td>T</td>\n",
              "      <td>Y</td>\n",
              "      <td>Red</td>\n",
              "      <td>Star</td>\n",
              "      <td>Lion</td>\n",
              "      <td>Canada</td>\n",
              "      <td>Piano</td>\n",
              "      <td>e7d9ca356</td>\n",
              "      <td>0b23e3352</td>\n",
              "      <td>40f84f6de</td>\n",
              "      <td>333f46907</td>\n",
              "      <td>e9e56a3f8</td>\n",
              "      <td>1</td>\n",
              "      <td>Expert</td>\n",
              "      <td>Boiling Hot</td>\n",
              "      <td>i</td>\n",
              "      <td>O</td>\n",
              "      <td>CM</td>\n",
              "      <td>1</td>\n",
              "      <td>1</td>\n",
              "      <td>0</td>\n",
              "    </tr>\n",
              "    <tr>\n",
              "      <th>230002</th>\n",
              "      <td>0</td>\n",
              "      <td>0</td>\n",
              "      <td>0</td>\n",
              "      <td>F</td>\n",
              "      <td>Y</td>\n",
              "      <td>Red</td>\n",
              "      <td>Circle</td>\n",
              "      <td>Cat</td>\n",
              "      <td>Canada</td>\n",
              "      <td>Bassoon</td>\n",
              "      <td>a3f640358</td>\n",
              "      <td>9b1c3c8b7</td>\n",
              "      <td>d1586e0e0</td>\n",
              "      <td>1b9339c49</td>\n",
              "      <td>973983691</td>\n",
              "      <td>3</td>\n",
              "      <td>Grandmaster</td>\n",
              "      <td>Freezing</td>\n",
              "      <td>b</td>\n",
              "      <td>T</td>\n",
              "      <td>RL</td>\n",
              "      <td>3</td>\n",
              "      <td>8</td>\n",
              "      <td>1</td>\n",
              "    </tr>\n",
              "    <tr>\n",
              "      <th>230003</th>\n",
              "      <td>1</td>\n",
              "      <td>0</td>\n",
              "      <td>0</td>\n",
              "      <td>T</td>\n",
              "      <td>N</td>\n",
              "      <td>Green</td>\n",
              "      <td>Trapezoid</td>\n",
              "      <td>Hamster</td>\n",
              "      <td>Costa Rica</td>\n",
              "      <td>Bassoon</td>\n",
              "      <td>0b3bec656</td>\n",
              "      <td>603232dea</td>\n",
              "      <td>5387ed7d2</td>\n",
              "      <td>da8be1022</td>\n",
              "      <td>508c9de37</td>\n",
              "      <td>1</td>\n",
              "      <td>Novice</td>\n",
              "      <td>Warm</td>\n",
              "      <td>e</td>\n",
              "      <td>U</td>\n",
              "      <td>Qo</td>\n",
              "      <td>2</td>\n",
              "      <td>11</td>\n",
              "      <td>0</td>\n",
              "    </tr>\n",
              "    <tr>\n",
              "      <th>230004</th>\n",
              "      <td>1</td>\n",
              "      <td>0</td>\n",
              "      <td>0</td>\n",
              "      <td>T</td>\n",
              "      <td>Y</td>\n",
              "      <td>Blue</td>\n",
              "      <td>Star</td>\n",
              "      <td>Axolotl</td>\n",
              "      <td>Canada</td>\n",
              "      <td>Piano</td>\n",
              "      <td>4173a0252</td>\n",
              "      <td>c135cdf77</td>\n",
              "      <td>91cd074b1</td>\n",
              "      <td>1a2fd4686</td>\n",
              "      <td>75193d88a</td>\n",
              "      <td>3</td>\n",
              "      <td>Novice</td>\n",
              "      <td>Hot</td>\n",
              "      <td>g</td>\n",
              "      <td>U</td>\n",
              "      <td>LE</td>\n",
              "      <td>4</td>\n",
              "      <td>12</td>\n",
              "      <td>1</td>\n",
              "    </tr>\n",
              "  </tbody>\n",
              "</table>\n",
              "</div>"
            ],
            "text/plain": [
              "        bin_0  bin_1  bin_2 bin_3 bin_4  ... ord_4 ord_5 day month target\n",
              "id                                       ...                             \n",
              "230000      1      1      0     F     Y  ...     U    MO   4     2      0\n",
              "230001      0      0      0     T     Y  ...     O    CM   1     1      0\n",
              "230002      0      0      0     F     Y  ...     T    RL   3     8      1\n",
              "230003      1      0      0     T     N  ...     U    Qo   2    11      0\n",
              "230004      1      0      0     T     Y  ...     U    LE   4    12      1\n",
              "\n",
              "[5 rows x 24 columns]"
            ]
          },
          "metadata": {},
          "execution_count": 5
        }
      ]
    },
    {
      "cell_type": "markdown",
      "metadata": {
        "id": "sVPkB0hunYRb"
      },
      "source": [
        "Select only features"
      ]
    },
    {
      "cell_type": "code",
      "metadata": {
        "colab": {
          "base_uri": "https://localhost:8080/"
        },
        "id": "agGVh7zBuu9d",
        "outputId": "085d9289-a051-4779-d784-fa27b97a62c5"
      },
      "source": [
        "categorical_cols = [col for col in train.columns if col != 'target']\n",
        "print(categorical_cols)\n",
        "len(categorical_cols)"
      ],
      "execution_count": null,
      "outputs": [
        {
          "output_type": "stream",
          "name": "stdout",
          "text": [
            "['bin_0', 'bin_1', 'bin_2', 'bin_3', 'bin_4', 'nom_0', 'nom_1', 'nom_2', 'nom_3', 'nom_4', 'nom_5', 'nom_6', 'nom_7', 'nom_8', 'nom_9', 'ord_0', 'ord_1', 'ord_2', 'ord_3', 'ord_4', 'ord_5', 'day', 'month']\n"
          ]
        },
        {
          "output_type": "execute_result",
          "data": {
            "text/plain": [
              "23"
            ]
          },
          "metadata": {},
          "execution_count": 6
        }
      ]
    },
    {
      "cell_type": "markdown",
      "metadata": {
        "id": "ePvpEKTLna_6"
      },
      "source": [
        "So, get the data in a convenient format"
      ]
    },
    {
      "cell_type": "code",
      "metadata": {
        "id": "xt_kR2sksKpP"
      },
      "source": [
        "X_train = train[categorical_cols]\n",
        "y_train = train['target']\n",
        "X_test = test[categorical_cols]\n",
        "y_test = test['target']"
      ],
      "execution_count": null,
      "outputs": []
    },
    {
      "cell_type": "markdown",
      "metadata": {
        "id": "2mEbPL7yMW9g"
      },
      "source": [
        "### Create a custom class for our embedder"
      ]
    },
    {
      "cell_type": "code",
      "metadata": {
        "id": "tR8K6_SEneAp"
      },
      "source": [
        "class EntropyCategoricalEmbedder:\n",
        "    \"\"\"Unsupervised categorical embedder based on group counts and entropy calculation\n",
        "\n",
        "    fit - get dictionary for the transformation of categorical objects into embeddings \n",
        "    transform - map the dictionary onto your categorical dataset to get the embeddings\n",
        "    \"\"\"\n",
        "\n",
        "    def __init__(self):\n",
        "        self.substitute_dict = {} #resulting dictionary to transform the objects into embs\n",
        "\n",
        "    def __repr__(self):\n",
        "        return self.__class__.__name__ + \"()\"\n",
        "    \n",
        "    @staticmethod\n",
        "    def cat_prep(data: pd.DataFrame) -> pd.DataFrame:\n",
        "        \"\"\"change category names for simplification\n",
        "\n",
        "        format -> category-name_category-name\n",
        "        \"\"\"\n",
        "\n",
        "        data_new = data.copy()\n",
        "        for col in tqdm(data.columns):\n",
        "          data_new[col] = data[col].apply(lambda x: col + '_' + str(x))\n",
        "        return data_new\n",
        "    \n",
        "    def fit(self, df_train: pd.DataFrame, verbose: bool = True) -> EntropyCategoricalEmbedderObject: # we created this custom type earlier\n",
        "        \"\"\"Create dictionary to map on the dataset\n",
        "\n",
        "        !!!Works only with categorical datasets!!!\n",
        "        dataset - pandas DataFrame with only categorical columns in str format (after cat_prep) \n",
        "        (each row is our object to get an embedding for)\n",
        "        \"\"\"\n",
        "        \n",
        "        feature_list = list(df_train.columns)\n",
        "        df = df_train.copy()\n",
        "        df['id'] = df.index\n",
        "        for group_key in tqdm(feature_list):    \n",
        "            passive_keys = feature_list[:]\n",
        "            passive_keys.remove(group_key)\n",
        "\n",
        "            category_embedding_mapping = {}\n",
        "            for passive_key in passive_keys:\n",
        "                if verbose:\n",
        "                    print('--- groupby: group_key - ', group_key, '### passive_key - ', passive_key, '---')                \n",
        "                group = df.groupby([group_key, passive_key])['id'].count()\n",
        "                group = group.unstack().fillna(0)\n",
        "                entropy_values = group.apply(entropy, axis=1)\n",
        "                for cat, entropy_value in entropy_values.to_dict().items():\n",
        "                    if cat in category_embedding_mapping:\n",
        "                        category_embedding_mapping[cat].extend([entropy_value]) \n",
        "                    else:\n",
        "                        category_embedding_mapping[cat] = [entropy_value]\n",
        "                \n",
        "            self.substitute_dict[group_key] = category_embedding_mapping  \n",
        "        return self\n",
        "\n",
        "    def transform(self, dataset: pd.DataFrame, \n",
        "                  fill_unknown_cat_value: int = 0,\n",
        "                  verbose: bool = False) -> List[list]:\n",
        "        \"\"\"Get embedding for each categorical row of the dataset\n",
        "\n",
        "        !!!Works only with categorical datasets!!!\n",
        "        dataset - pandas DataFrame with only categorical columns in str format (after cat_prep) \n",
        "        (each row is our object to get an embedding for)\n",
        "        fill_unknown_cat_value - the value to fill embedding vector for unknown categories\n",
        "        \"\"\"\n",
        "\n",
        "        dataset = dataset.copy()\n",
        "        feature_list = list(dataset.columns)        \n",
        "        emb_size = len(feature_list) - 1\n",
        "        if verbose:\n",
        "          print(\"Mapping vectors to categories...\")\n",
        "        for f in tqdm(feature_list):\n",
        "            dataset[f] = dataset[f].map(self.substitute_dict[f])              \n",
        "            dataset[f] = dataset[f].fillna('empty')\n",
        "            dataset[f] = dataset[f].apply(lambda x: [fill_unknown_cat_value] * emb_size if x == 'empty' else x)\n",
        "        \n",
        "        embeddings_list = []\n",
        "        if verbose:\n",
        "          print(\"Creating an embedding for each row...\")\n",
        "        for row in tqdm(dataset[feature_list].itertuples()):\n",
        "            embeddings_list.append(list(itertools.chain(*row[1:])))\n",
        "\n",
        "        return embeddings_list\n"
      ],
      "execution_count": null,
      "outputs": []
    },
    {
      "cell_type": "markdown",
      "metadata": {
        "id": "pHOQgafgMcTs"
      },
      "source": [
        "Let's use our preprocessing method to prepare the dataset for the embedder"
      ]
    },
    {
      "cell_type": "code",
      "metadata": {
        "colab": {
          "base_uri": "https://localhost:8080/",
          "height": 324,
          "referenced_widgets": [
            "f19c297ae91d4f71bb9bb1e2a8ac6fee",
            "4de9d47df75542bc98d24f65127ca4cd",
            "a55384362c0144749e4ffb787acf8b7a",
            "77c0eb77d4d34efe97bc17fe6ff1ecd9",
            "59434da8424045c481046713546fdd68",
            "ed566bd982474657979ba41bb2b492ec",
            "45cf7942dfae45c88f4143604fb640ce",
            "3d5452e5163d43b385b598ec64c1a68c",
            "1cf41ec9c9b54ee6aec08352600be6b6",
            "88a1dd733947447c973c17ea63c5884d",
            "1d1af3fb032a45fa90d20811a9020e00"
          ]
        },
        "id": "scqhEb4IrNaI",
        "outputId": "960a0b57-c789-4df0-e81b-2f5317cfc978"
      },
      "source": [
        "df_train = X_train.copy()\n",
        "df_train = EntropyCategoricalEmbedder.cat_prep(df_train)\n",
        "df_train.head()"
      ],
      "execution_count": null,
      "outputs": [
        {
          "output_type": "display_data",
          "data": {
            "application/vnd.jupyter.widget-view+json": {
              "model_id": "f19c297ae91d4f71bb9bb1e2a8ac6fee",
              "version_minor": 0,
              "version_major": 2
            },
            "text/plain": [
              "  0%|          | 0/23 [00:00<?, ?it/s]"
            ]
          },
          "metadata": {}
        },
        {
          "output_type": "execute_result",
          "data": {
            "text/html": [
              "<div>\n",
              "<style scoped>\n",
              "    .dataframe tbody tr th:only-of-type {\n",
              "        vertical-align: middle;\n",
              "    }\n",
              "\n",
              "    .dataframe tbody tr th {\n",
              "        vertical-align: top;\n",
              "    }\n",
              "\n",
              "    .dataframe thead th {\n",
              "        text-align: right;\n",
              "    }\n",
              "</style>\n",
              "<table border=\"1\" class=\"dataframe\">\n",
              "  <thead>\n",
              "    <tr style=\"text-align: right;\">\n",
              "      <th></th>\n",
              "      <th>bin_0</th>\n",
              "      <th>bin_1</th>\n",
              "      <th>bin_2</th>\n",
              "      <th>bin_3</th>\n",
              "      <th>bin_4</th>\n",
              "      <th>nom_0</th>\n",
              "      <th>nom_1</th>\n",
              "      <th>nom_2</th>\n",
              "      <th>nom_3</th>\n",
              "      <th>nom_4</th>\n",
              "      <th>nom_5</th>\n",
              "      <th>nom_6</th>\n",
              "      <th>nom_7</th>\n",
              "      <th>nom_8</th>\n",
              "      <th>nom_9</th>\n",
              "      <th>ord_0</th>\n",
              "      <th>ord_1</th>\n",
              "      <th>ord_2</th>\n",
              "      <th>ord_3</th>\n",
              "      <th>ord_4</th>\n",
              "      <th>ord_5</th>\n",
              "      <th>day</th>\n",
              "      <th>month</th>\n",
              "    </tr>\n",
              "    <tr>\n",
              "      <th>id</th>\n",
              "      <th></th>\n",
              "      <th></th>\n",
              "      <th></th>\n",
              "      <th></th>\n",
              "      <th></th>\n",
              "      <th></th>\n",
              "      <th></th>\n",
              "      <th></th>\n",
              "      <th></th>\n",
              "      <th></th>\n",
              "      <th></th>\n",
              "      <th></th>\n",
              "      <th></th>\n",
              "      <th></th>\n",
              "      <th></th>\n",
              "      <th></th>\n",
              "      <th></th>\n",
              "      <th></th>\n",
              "      <th></th>\n",
              "      <th></th>\n",
              "      <th></th>\n",
              "      <th></th>\n",
              "      <th></th>\n",
              "    </tr>\n",
              "  </thead>\n",
              "  <tbody>\n",
              "    <tr>\n",
              "      <th>0</th>\n",
              "      <td>bin_0_0</td>\n",
              "      <td>bin_1_0</td>\n",
              "      <td>bin_2_0</td>\n",
              "      <td>bin_3_T</td>\n",
              "      <td>bin_4_Y</td>\n",
              "      <td>nom_0_Green</td>\n",
              "      <td>nom_1_Triangle</td>\n",
              "      <td>nom_2_Snake</td>\n",
              "      <td>nom_3_Finland</td>\n",
              "      <td>nom_4_Bassoon</td>\n",
              "      <td>nom_5_50f116bcf</td>\n",
              "      <td>nom_6_3ac1b8814</td>\n",
              "      <td>nom_7_68f6ad3e9</td>\n",
              "      <td>nom_8_c389000ab</td>\n",
              "      <td>nom_9_2f4cb3d51</td>\n",
              "      <td>ord_0_2</td>\n",
              "      <td>ord_1_Grandmaster</td>\n",
              "      <td>ord_2_Cold</td>\n",
              "      <td>ord_3_h</td>\n",
              "      <td>ord_4_D</td>\n",
              "      <td>ord_5_kr</td>\n",
              "      <td>day_2</td>\n",
              "      <td>month_2</td>\n",
              "    </tr>\n",
              "    <tr>\n",
              "      <th>1</th>\n",
              "      <td>bin_0_0</td>\n",
              "      <td>bin_1_1</td>\n",
              "      <td>bin_2_0</td>\n",
              "      <td>bin_3_T</td>\n",
              "      <td>bin_4_Y</td>\n",
              "      <td>nom_0_Green</td>\n",
              "      <td>nom_1_Trapezoid</td>\n",
              "      <td>nom_2_Hamster</td>\n",
              "      <td>nom_3_Russia</td>\n",
              "      <td>nom_4_Piano</td>\n",
              "      <td>nom_5_b3b4d25d0</td>\n",
              "      <td>nom_6_fbcb50fc1</td>\n",
              "      <td>nom_7_3b6dd5612</td>\n",
              "      <td>nom_8_4cd920251</td>\n",
              "      <td>nom_9_f83c56c21</td>\n",
              "      <td>ord_0_1</td>\n",
              "      <td>ord_1_Grandmaster</td>\n",
              "      <td>ord_2_Hot</td>\n",
              "      <td>ord_3_a</td>\n",
              "      <td>ord_4_A</td>\n",
              "      <td>ord_5_bF</td>\n",
              "      <td>day_7</td>\n",
              "      <td>month_8</td>\n",
              "    </tr>\n",
              "    <tr>\n",
              "      <th>2</th>\n",
              "      <td>bin_0_0</td>\n",
              "      <td>bin_1_0</td>\n",
              "      <td>bin_2_0</td>\n",
              "      <td>bin_3_F</td>\n",
              "      <td>bin_4_Y</td>\n",
              "      <td>nom_0_Blue</td>\n",
              "      <td>nom_1_Trapezoid</td>\n",
              "      <td>nom_2_Lion</td>\n",
              "      <td>nom_3_Russia</td>\n",
              "      <td>nom_4_Theremin</td>\n",
              "      <td>nom_5_3263bdce5</td>\n",
              "      <td>nom_6_0922e3cb8</td>\n",
              "      <td>nom_7_a6a36f527</td>\n",
              "      <td>nom_8_de9c9f684</td>\n",
              "      <td>nom_9_ae6800dd0</td>\n",
              "      <td>ord_0_1</td>\n",
              "      <td>ord_1_Expert</td>\n",
              "      <td>ord_2_Lava Hot</td>\n",
              "      <td>ord_3_h</td>\n",
              "      <td>ord_4_R</td>\n",
              "      <td>ord_5_Jc</td>\n",
              "      <td>day_7</td>\n",
              "      <td>month_2</td>\n",
              "    </tr>\n",
              "    <tr>\n",
              "      <th>3</th>\n",
              "      <td>bin_0_0</td>\n",
              "      <td>bin_1_1</td>\n",
              "      <td>bin_2_0</td>\n",
              "      <td>bin_3_F</td>\n",
              "      <td>bin_4_Y</td>\n",
              "      <td>nom_0_Red</td>\n",
              "      <td>nom_1_Trapezoid</td>\n",
              "      <td>nom_2_Snake</td>\n",
              "      <td>nom_3_Canada</td>\n",
              "      <td>nom_4_Oboe</td>\n",
              "      <td>nom_5_f12246592</td>\n",
              "      <td>nom_6_50d7ad46a</td>\n",
              "      <td>nom_7_ec69236eb</td>\n",
              "      <td>nom_8_4ade6ab69</td>\n",
              "      <td>nom_9_8270f0d71</td>\n",
              "      <td>ord_0_1</td>\n",
              "      <td>ord_1_Grandmaster</td>\n",
              "      <td>ord_2_Boiling Hot</td>\n",
              "      <td>ord_3_i</td>\n",
              "      <td>ord_4_D</td>\n",
              "      <td>ord_5_kW</td>\n",
              "      <td>day_2</td>\n",
              "      <td>month_1</td>\n",
              "    </tr>\n",
              "    <tr>\n",
              "      <th>4</th>\n",
              "      <td>bin_0_0</td>\n",
              "      <td>bin_1_0</td>\n",
              "      <td>bin_2_0</td>\n",
              "      <td>bin_3_F</td>\n",
              "      <td>bin_4_N</td>\n",
              "      <td>nom_0_Red</td>\n",
              "      <td>nom_1_Trapezoid</td>\n",
              "      <td>nom_2_Lion</td>\n",
              "      <td>nom_3_Canada</td>\n",
              "      <td>nom_4_Oboe</td>\n",
              "      <td>nom_5_5b0f5acd5</td>\n",
              "      <td>nom_6_1fe17a1fd</td>\n",
              "      <td>nom_7_04ddac2be</td>\n",
              "      <td>nom_8_cb43ab175</td>\n",
              "      <td>nom_9_b164b72a7</td>\n",
              "      <td>ord_0_1</td>\n",
              "      <td>ord_1_Grandmaster</td>\n",
              "      <td>ord_2_Freezing</td>\n",
              "      <td>ord_3_a</td>\n",
              "      <td>ord_4_R</td>\n",
              "      <td>ord_5_qP</td>\n",
              "      <td>day_7</td>\n",
              "      <td>month_8</td>\n",
              "    </tr>\n",
              "  </tbody>\n",
              "</table>\n",
              "</div>"
            ],
            "text/plain": [
              "      bin_0    bin_1    bin_2    bin_3  ...    ord_4     ord_5    day    month\n",
              "id                                      ...                                   \n",
              "0   bin_0_0  bin_1_0  bin_2_0  bin_3_T  ...  ord_4_D  ord_5_kr  day_2  month_2\n",
              "1   bin_0_0  bin_1_1  bin_2_0  bin_3_T  ...  ord_4_A  ord_5_bF  day_7  month_8\n",
              "2   bin_0_0  bin_1_0  bin_2_0  bin_3_F  ...  ord_4_R  ord_5_Jc  day_7  month_2\n",
              "3   bin_0_0  bin_1_1  bin_2_0  bin_3_F  ...  ord_4_D  ord_5_kW  day_2  month_1\n",
              "4   bin_0_0  bin_1_0  bin_2_0  bin_3_F  ...  ord_4_R  ord_5_qP  day_7  month_8\n",
              "\n",
              "[5 rows x 23 columns]"
            ]
          },
          "metadata": {},
          "execution_count": 9
        }
      ]
    },
    {
      "cell_type": "code",
      "metadata": {
        "colab": {
          "base_uri": "https://localhost:8080/",
          "height": 341,
          "referenced_widgets": [
            "5eec0066af914a4bb4e8dee72b1725b7",
            "90781da2c082463496cd35cfcca0b8d7",
            "4bfc619e38154fde866fa8eac2dd182b",
            "4a1a9d1cd37b4116983ce20d8feafd29",
            "e4e4e31cb4f1480cb54ce62739cf94e0",
            "28de27b691484542a9c4301f188c0650",
            "4f392dd18cce4ff698a08f337aedd4e6",
            "684005cbd5c74b53976dc07aa08dc135",
            "c98e72987b564489ae1a9e4d6c033218",
            "0280341ed97546a08401107f406804c6",
            "1c7def831b2a4cb2b4944fce5588d9e5"
          ]
        },
        "id": "VIDA4GIrrNPd",
        "outputId": "a6fe58df-6fae-4c98-a8be-e49f99f55ad6"
      },
      "source": [
        "df_test = X_test.copy()\n",
        "df_test = EntropyCategoricalEmbedder.cat_prep(df_test)\n",
        "df_test.head()"
      ],
      "execution_count": null,
      "outputs": [
        {
          "output_type": "display_data",
          "data": {
            "application/vnd.jupyter.widget-view+json": {
              "model_id": "5eec0066af914a4bb4e8dee72b1725b7",
              "version_minor": 0,
              "version_major": 2
            },
            "text/plain": [
              "  0%|          | 0/23 [00:00<?, ?it/s]"
            ]
          },
          "metadata": {}
        },
        {
          "output_type": "execute_result",
          "data": {
            "text/html": [
              "<div>\n",
              "<style scoped>\n",
              "    .dataframe tbody tr th:only-of-type {\n",
              "        vertical-align: middle;\n",
              "    }\n",
              "\n",
              "    .dataframe tbody tr th {\n",
              "        vertical-align: top;\n",
              "    }\n",
              "\n",
              "    .dataframe thead th {\n",
              "        text-align: right;\n",
              "    }\n",
              "</style>\n",
              "<table border=\"1\" class=\"dataframe\">\n",
              "  <thead>\n",
              "    <tr style=\"text-align: right;\">\n",
              "      <th></th>\n",
              "      <th>bin_0</th>\n",
              "      <th>bin_1</th>\n",
              "      <th>bin_2</th>\n",
              "      <th>bin_3</th>\n",
              "      <th>bin_4</th>\n",
              "      <th>nom_0</th>\n",
              "      <th>nom_1</th>\n",
              "      <th>nom_2</th>\n",
              "      <th>nom_3</th>\n",
              "      <th>nom_4</th>\n",
              "      <th>nom_5</th>\n",
              "      <th>nom_6</th>\n",
              "      <th>nom_7</th>\n",
              "      <th>nom_8</th>\n",
              "      <th>nom_9</th>\n",
              "      <th>ord_0</th>\n",
              "      <th>ord_1</th>\n",
              "      <th>ord_2</th>\n",
              "      <th>ord_3</th>\n",
              "      <th>ord_4</th>\n",
              "      <th>ord_5</th>\n",
              "      <th>day</th>\n",
              "      <th>month</th>\n",
              "    </tr>\n",
              "    <tr>\n",
              "      <th>id</th>\n",
              "      <th></th>\n",
              "      <th></th>\n",
              "      <th></th>\n",
              "      <th></th>\n",
              "      <th></th>\n",
              "      <th></th>\n",
              "      <th></th>\n",
              "      <th></th>\n",
              "      <th></th>\n",
              "      <th></th>\n",
              "      <th></th>\n",
              "      <th></th>\n",
              "      <th></th>\n",
              "      <th></th>\n",
              "      <th></th>\n",
              "      <th></th>\n",
              "      <th></th>\n",
              "      <th></th>\n",
              "      <th></th>\n",
              "      <th></th>\n",
              "      <th></th>\n",
              "      <th></th>\n",
              "      <th></th>\n",
              "    </tr>\n",
              "  </thead>\n",
              "  <tbody>\n",
              "    <tr>\n",
              "      <th>230000</th>\n",
              "      <td>bin_0_1</td>\n",
              "      <td>bin_1_1</td>\n",
              "      <td>bin_2_0</td>\n",
              "      <td>bin_3_F</td>\n",
              "      <td>bin_4_Y</td>\n",
              "      <td>nom_0_Green</td>\n",
              "      <td>nom_1_Square</td>\n",
              "      <td>nom_2_Dog</td>\n",
              "      <td>nom_3_Russia</td>\n",
              "      <td>nom_4_Piano</td>\n",
              "      <td>nom_5_92190168b</td>\n",
              "      <td>nom_6_fa498a5ae</td>\n",
              "      <td>nom_7_d10553e7e</td>\n",
              "      <td>nom_8_80be47228</td>\n",
              "      <td>nom_9_47d38e9d3</td>\n",
              "      <td>ord_0_1</td>\n",
              "      <td>ord_1_Master</td>\n",
              "      <td>ord_2_Lava Hot</td>\n",
              "      <td>ord_3_e</td>\n",
              "      <td>ord_4_U</td>\n",
              "      <td>ord_5_MO</td>\n",
              "      <td>day_4</td>\n",
              "      <td>month_2</td>\n",
              "    </tr>\n",
              "    <tr>\n",
              "      <th>230001</th>\n",
              "      <td>bin_0_0</td>\n",
              "      <td>bin_1_0</td>\n",
              "      <td>bin_2_0</td>\n",
              "      <td>bin_3_T</td>\n",
              "      <td>bin_4_Y</td>\n",
              "      <td>nom_0_Red</td>\n",
              "      <td>nom_1_Star</td>\n",
              "      <td>nom_2_Lion</td>\n",
              "      <td>nom_3_Canada</td>\n",
              "      <td>nom_4_Piano</td>\n",
              "      <td>nom_5_e7d9ca356</td>\n",
              "      <td>nom_6_0b23e3352</td>\n",
              "      <td>nom_7_40f84f6de</td>\n",
              "      <td>nom_8_333f46907</td>\n",
              "      <td>nom_9_e9e56a3f8</td>\n",
              "      <td>ord_0_1</td>\n",
              "      <td>ord_1_Expert</td>\n",
              "      <td>ord_2_Boiling Hot</td>\n",
              "      <td>ord_3_i</td>\n",
              "      <td>ord_4_O</td>\n",
              "      <td>ord_5_CM</td>\n",
              "      <td>day_1</td>\n",
              "      <td>month_1</td>\n",
              "    </tr>\n",
              "    <tr>\n",
              "      <th>230002</th>\n",
              "      <td>bin_0_0</td>\n",
              "      <td>bin_1_0</td>\n",
              "      <td>bin_2_0</td>\n",
              "      <td>bin_3_F</td>\n",
              "      <td>bin_4_Y</td>\n",
              "      <td>nom_0_Red</td>\n",
              "      <td>nom_1_Circle</td>\n",
              "      <td>nom_2_Cat</td>\n",
              "      <td>nom_3_Canada</td>\n",
              "      <td>nom_4_Bassoon</td>\n",
              "      <td>nom_5_a3f640358</td>\n",
              "      <td>nom_6_9b1c3c8b7</td>\n",
              "      <td>nom_7_d1586e0e0</td>\n",
              "      <td>nom_8_1b9339c49</td>\n",
              "      <td>nom_9_973983691</td>\n",
              "      <td>ord_0_3</td>\n",
              "      <td>ord_1_Grandmaster</td>\n",
              "      <td>ord_2_Freezing</td>\n",
              "      <td>ord_3_b</td>\n",
              "      <td>ord_4_T</td>\n",
              "      <td>ord_5_RL</td>\n",
              "      <td>day_3</td>\n",
              "      <td>month_8</td>\n",
              "    </tr>\n",
              "    <tr>\n",
              "      <th>230003</th>\n",
              "      <td>bin_0_1</td>\n",
              "      <td>bin_1_0</td>\n",
              "      <td>bin_2_0</td>\n",
              "      <td>bin_3_T</td>\n",
              "      <td>bin_4_N</td>\n",
              "      <td>nom_0_Green</td>\n",
              "      <td>nom_1_Trapezoid</td>\n",
              "      <td>nom_2_Hamster</td>\n",
              "      <td>nom_3_Costa Rica</td>\n",
              "      <td>nom_4_Bassoon</td>\n",
              "      <td>nom_5_0b3bec656</td>\n",
              "      <td>nom_6_603232dea</td>\n",
              "      <td>nom_7_5387ed7d2</td>\n",
              "      <td>nom_8_da8be1022</td>\n",
              "      <td>nom_9_508c9de37</td>\n",
              "      <td>ord_0_1</td>\n",
              "      <td>ord_1_Novice</td>\n",
              "      <td>ord_2_Warm</td>\n",
              "      <td>ord_3_e</td>\n",
              "      <td>ord_4_U</td>\n",
              "      <td>ord_5_Qo</td>\n",
              "      <td>day_2</td>\n",
              "      <td>month_11</td>\n",
              "    </tr>\n",
              "    <tr>\n",
              "      <th>230004</th>\n",
              "      <td>bin_0_1</td>\n",
              "      <td>bin_1_0</td>\n",
              "      <td>bin_2_0</td>\n",
              "      <td>bin_3_T</td>\n",
              "      <td>bin_4_Y</td>\n",
              "      <td>nom_0_Blue</td>\n",
              "      <td>nom_1_Star</td>\n",
              "      <td>nom_2_Axolotl</td>\n",
              "      <td>nom_3_Canada</td>\n",
              "      <td>nom_4_Piano</td>\n",
              "      <td>nom_5_4173a0252</td>\n",
              "      <td>nom_6_c135cdf77</td>\n",
              "      <td>nom_7_91cd074b1</td>\n",
              "      <td>nom_8_1a2fd4686</td>\n",
              "      <td>nom_9_75193d88a</td>\n",
              "      <td>ord_0_3</td>\n",
              "      <td>ord_1_Novice</td>\n",
              "      <td>ord_2_Hot</td>\n",
              "      <td>ord_3_g</td>\n",
              "      <td>ord_4_U</td>\n",
              "      <td>ord_5_LE</td>\n",
              "      <td>day_4</td>\n",
              "      <td>month_12</td>\n",
              "    </tr>\n",
              "  </tbody>\n",
              "</table>\n",
              "</div>"
            ],
            "text/plain": [
              "          bin_0    bin_1    bin_2    bin_3  ...    ord_4     ord_5    day     month\n",
              "id                                          ...                                    \n",
              "230000  bin_0_1  bin_1_1  bin_2_0  bin_3_F  ...  ord_4_U  ord_5_MO  day_4   month_2\n",
              "230001  bin_0_0  bin_1_0  bin_2_0  bin_3_T  ...  ord_4_O  ord_5_CM  day_1   month_1\n",
              "230002  bin_0_0  bin_1_0  bin_2_0  bin_3_F  ...  ord_4_T  ord_5_RL  day_3   month_8\n",
              "230003  bin_0_1  bin_1_0  bin_2_0  bin_3_T  ...  ord_4_U  ord_5_Qo  day_2  month_11\n",
              "230004  bin_0_1  bin_1_0  bin_2_0  bin_3_T  ...  ord_4_U  ord_5_LE  day_4  month_12\n",
              "\n",
              "[5 rows x 23 columns]"
            ]
          },
          "metadata": {},
          "execution_count": 10
        }
      ]
    },
    {
      "cell_type": "markdown",
      "metadata": {
        "id": "UNm0mcnVMieK"
      },
      "source": [
        "Initialize an embedder"
      ]
    },
    {
      "cell_type": "code",
      "metadata": {
        "colab": {
          "base_uri": "https://localhost:8080/"
        },
        "id": "mM8MvEymrM2J",
        "outputId": "b42901a4-91b6-4559-874d-7000cd494ec0"
      },
      "source": [
        "embedder = EntropyCategoricalEmbedder()\n",
        "embedder"
      ],
      "execution_count": null,
      "outputs": [
        {
          "output_type": "execute_result",
          "data": {
            "text/plain": [
              "EntropyCategoricalEmbedder()"
            ]
          },
          "metadata": {},
          "execution_count": 11
        }
      ]
    },
    {
      "cell_type": "code",
      "metadata": {
        "colab": {
          "base_uri": "https://localhost:8080/",
          "height": 101,
          "referenced_widgets": [
            "b6320734849e4ff9b0b42445e77ce40b",
            "d5532c0ec5044ed0bfe9934671d199ee",
            "0394544949374752ac895d180daa1b98",
            "4a46d2b5156d4c6b9449e1746f9cd824",
            "b23401c6b5824fa8872eca17cc2c25f1",
            "6034886cbd144f2e91ccd587a87fc32b",
            "0e21197601b44fc885e3f4df8339dd61",
            "3ff89413a8e54368a942b7d8afcff6ef",
            "96e3a7c960bf46a28bfba182d41b46c3",
            "79f16cd54b1d47acb6e867c017a75048",
            "dee51a2d75a1458ab6f050f682f15b1d"
          ]
        },
        "id": "B3ZtTND5skH1",
        "outputId": "401267b7-c855-4861-8632-e6dac6cd387d"
      },
      "source": [
        "%%time\n",
        "embedder.fit(df_train, verbose=False)"
      ],
      "execution_count": null,
      "outputs": [
        {
          "output_type": "display_data",
          "data": {
            "application/vnd.jupyter.widget-view+json": {
              "model_id": "b6320734849e4ff9b0b42445e77ce40b",
              "version_minor": 0,
              "version_major": 2
            },
            "text/plain": [
              "  0%|          | 0/23 [00:00<?, ?it/s]"
            ]
          },
          "metadata": {}
        },
        {
          "output_type": "stream",
          "name": "stdout",
          "text": [
            "CPU times: user 35.9 s, sys: 462 ms, total: 36.4 s\n",
            "Wall time: 36.3 s\n"
          ]
        },
        {
          "output_type": "execute_result",
          "data": {
            "text/plain": [
              "EntropyCategoricalEmbedder()"
            ]
          },
          "metadata": {},
          "execution_count": 12
        }
      ]
    },
    {
      "cell_type": "code",
      "metadata": {
        "colab": {
          "base_uri": "https://localhost:8080/",
          "height": 116,
          "referenced_widgets": [
            "03e27a04374e4d0fbe38d5c8e1c35ceb",
            "08d9d38b5f6049889c70cb2b04fc5807",
            "56787fc0d6614bf49587423b9cac1ff1",
            "40303d446ece48f6856145fa25bdd372",
            "11554d72faa044338916ed4dc4cbe38c",
            "d0fe7277f1e142f982a2707f34aeb138",
            "5335e6719f34466090cfda372ccc4350",
            "27277e3dfce1480db2cfc7d97817daef",
            "d70b3912deeb4e7fb65fe52f68d0d153",
            "b2059870f86f4e848cefadac673d3c91",
            "1515f2ba2909491597e85da46dfbff22",
            "4dd7bf03c5894855b8ecae7291700f39",
            "e8dcdcfcb8ef41ff851a266b6106c64d",
            "908fdb1df5bc4827bf6e5fa9f5d4acac",
            "3e23018daf724562a781225fda6f6f7c",
            "5a7a0ec78b0f4aecbd41c4144c83dd70",
            "e1072c6b78d247948f9eaceb40197784",
            "1fd8eb4ef43e4fe7968139d8e94fe8c1",
            "ed7f4e4c58724f4d916010e43f1c0b9e",
            "748f54ed33ea4de9a38bb472370267f8",
            "f7960e3c25e24d1982efa94457736008",
            "d0a5afcba6b94f2d86a09e16c057b39e"
          ]
        },
        "id": "rRtFVaqsrMoE",
        "outputId": "e6145f7c-d135-47da-bd0f-c379ca0fbed1"
      },
      "source": [
        "%%time\n",
        "train_feat = embedder.transform(df_train)"
      ],
      "execution_count": null,
      "outputs": [
        {
          "output_type": "display_data",
          "data": {
            "application/vnd.jupyter.widget-view+json": {
              "model_id": "03e27a04374e4d0fbe38d5c8e1c35ceb",
              "version_minor": 0,
              "version_major": 2
            },
            "text/plain": [
              "  0%|          | 0/23 [00:00<?, ?it/s]"
            ]
          },
          "metadata": {}
        },
        {
          "output_type": "display_data",
          "data": {
            "application/vnd.jupyter.widget-view+json": {
              "model_id": "4dd7bf03c5894855b8ecae7291700f39",
              "version_minor": 0,
              "version_major": 2
            },
            "text/plain": [
              "0it [00:00, ?it/s]"
            ]
          },
          "metadata": {}
        },
        {
          "output_type": "stream",
          "name": "stdout",
          "text": [
            "CPU times: user 7.79 s, sys: 433 ms, total: 8.22 s\n",
            "Wall time: 8.18 s\n"
          ]
        }
      ]
    },
    {
      "cell_type": "code",
      "metadata": {
        "colab": {
          "base_uri": "https://localhost:8080/",
          "height": 116,
          "referenced_widgets": [
            "461ba72b165f45b890e8b33166178ebb",
            "627195cf5c744e76a2d7a846fe9379b4",
            "c707454c4d1e4f82bf649bd8af0bddb8",
            "d07ab15749da41e58d58c2bcf4bdb252",
            "fb36d35b73d348fb8964bb65a3d20599",
            "a697bbc9ef884ba98df580da60b307d3",
            "9ce7c836f4ba4c20a686fd2b3e7d88fb",
            "302643c6b4d74863b46d1954962e9a5e",
            "c305c818381641b5a6bb31e6da5f0b97",
            "e051ef9256d44b4da008d45e3d9e5d76",
            "2434bcc242a042039ec27c0e04d09fd3",
            "8bfcdecc59fa41f09b623aa3aed86dea",
            "d295ab8663e24e93bd7d269f23455ae5",
            "1b90922d95af4437b464b321a98c212b",
            "679fc1aff7054d08b5cd29512392b737",
            "cabe8c6041e141f5ae598a334853aac3",
            "b840e8b5d6e04073a027b672c471681a",
            "8967e8ce8f1c4fd7975e347e1672c1bf",
            "9efbf7d615c9460bb5ca0cef704c84a3",
            "762f2e60f8fa4488b52817bcfc835297",
            "d4c95179647046d9ac599bba6faefe2d",
            "86a341c47b154d0e8375e63289d42a65"
          ]
        },
        "id": "c8bNpQpZrcjv",
        "outputId": "4386cece-ce07-411f-cb4a-9117f6758a0c"
      },
      "source": [
        "%%time\n",
        "test_feat = embedder.transform(df_test)"
      ],
      "execution_count": null,
      "outputs": [
        {
          "output_type": "display_data",
          "data": {
            "application/vnd.jupyter.widget-view+json": {
              "model_id": "461ba72b165f45b890e8b33166178ebb",
              "version_minor": 0,
              "version_major": 2
            },
            "text/plain": [
              "  0%|          | 0/23 [00:00<?, ?it/s]"
            ]
          },
          "metadata": {}
        },
        {
          "output_type": "display_data",
          "data": {
            "application/vnd.jupyter.widget-view+json": {
              "model_id": "8bfcdecc59fa41f09b623aa3aed86dea",
              "version_minor": 0,
              "version_major": 2
            },
            "text/plain": [
              "0it [00:00, ?it/s]"
            ]
          },
          "metadata": {}
        },
        {
          "output_type": "stream",
          "name": "stdout",
          "text": [
            "CPU times: user 3.16 s, sys: 218 ms, total: 3.38 s\n",
            "Wall time: 3.36 s\n"
          ]
        }
      ]
    },
    {
      "cell_type": "markdown",
      "metadata": {
        "id": "CkA5FiFCBQ3H"
      },
      "source": [
        "Let's look at our embeddings"
      ]
    },
    {
      "cell_type": "code",
      "metadata": {
        "colab": {
          "base_uri": "https://localhost:8080/"
        },
        "id": "fYecW1MWA6qT",
        "outputId": "e8fbcce5-158d-4865-d03b-71ad6615269a"
      },
      "source": [
        "np.array(test_feat)"
      ],
      "execution_count": null,
      "outputs": [
        {
          "output_type": "execute_result",
          "data": {
            "text/plain": [
              "array([[0.56476913, 0.66604397, 0.69291283, ..., 3.12228551, 5.07155551,\n",
              "        1.70702943],\n",
              "       [0.56976774, 0.66525145, 0.69286518, ..., 3.12214316, 5.06463587,\n",
              "        1.71082852],\n",
              "       [0.56976774, 0.66525145, 0.69286518, ..., 3.12415566, 5.06408276,\n",
              "        1.71545568],\n",
              "       ...,\n",
              "       [0.56976774, 0.66525145, 0.69286518, ..., 3.127963  , 5.0678695 ,\n",
              "        1.70882849],\n",
              "       [0.56976774, 0.66525145, 0.69286518, ..., 3.12415566, 5.06408276,\n",
              "        1.71545568],\n",
              "       [0.56976774, 0.66525145, 0.69286518, ..., 3.12038487, 5.06101374,\n",
              "        1.71209282]])"
            ]
          },
          "metadata": {},
          "execution_count": 15
        }
      ]
    },
    {
      "cell_type": "markdown",
      "metadata": {
        "id": "xweKn2tR05kc"
      },
      "source": [
        "You can see that we have less problems with scale of the components, that's nice!"
      ]
    },
    {
      "cell_type": "code",
      "metadata": {
        "colab": {
          "base_uri": "https://localhost:8080/"
        },
        "id": "SDPA1kEurccK",
        "outputId": "4e92dccd-1a95-46cf-b0c8-20ca39721d3b"
      },
      "source": [
        "np.array(test_feat).shape"
      ],
      "execution_count": null,
      "outputs": [
        {
          "output_type": "execute_result",
          "data": {
            "text/plain": [
              "(70000, 506)"
            ]
          },
          "metadata": {},
          "execution_count": 16
        }
      ]
    },
    {
      "cell_type": "markdown",
      "metadata": {
        "id": "M_wCMnoU2Abd"
      },
      "source": [
        "Estimate of OHE dimensionality"
      ]
    },
    {
      "cell_type": "code",
      "metadata": {
        "colab": {
          "base_uri": "https://localhost:8080/"
        },
        "id": "cft30fUdFRV5",
        "outputId": "6fe6a752-c2ff-4cdb-8476-605e13448d18"
      },
      "source": [
        "number_of_cat = 0\n",
        "for col in df_train.columns:\n",
        "  number_of_cat += df_train[col].unique().shape[0]\n",
        "number_of_cat"
      ],
      "execution_count": null,
      "outputs": [
        {
          "output_type": "execute_result",
          "data": {
            "text/plain": [
              "16380"
            ]
          },
          "metadata": {},
          "execution_count": 22
        }
      ]
    },
    {
      "cell_type": "markdown",
      "metadata": {
        "id": "cJjk-CHAM1m-"
      },
      "source": [
        "You can see that the dimensionality of the embedding is 506 against 16 000 in the case of using OHE!"
      ]
    },
    {
      "cell_type": "markdown",
      "metadata": {
        "id": "h6TeVzXpNOM8"
      },
      "source": [
        "### Here we'll test it via our classification task. How much information we've preserved?"
      ]
    },
    {
      "cell_type": "markdown",
      "metadata": {
        "id": "av3WNAlONRic"
      },
      "source": [
        "LightGBM."
      ]
    },
    {
      "cell_type": "code",
      "metadata": {
        "colab": {
          "base_uri": "https://localhost:8080/"
        },
        "id": "y6H-I2zJul3K",
        "outputId": "01fb0381-976c-4f20-f363-dcf8df6c6fe7"
      },
      "source": [
        "%%time\n",
        "lgmb_clf = lgb.LGBMClassifier(random_state=33).fit(train_feat, y_train)"
      ],
      "execution_count": null,
      "outputs": [
        {
          "output_type": "stream",
          "name": "stdout",
          "text": [
            "CPU times: user 2min 48s, sys: 1.62 s, total: 2min 49s\n",
            "Wall time: 51 s\n"
          ]
        }
      ]
    },
    {
      "cell_type": "code",
      "metadata": {
        "colab": {
          "base_uri": "https://localhost:8080/"
        },
        "id": "x7_87ag7rcUo",
        "outputId": "a443498e-485d-4455-f522-ce4de61a6d46"
      },
      "source": [
        "probs = lgmb_clf.predict_proba(test_feat)\n",
        "score_lgbm = roc_auc_score(y_test, probs[:,1])\n",
        "print(score_lgbm)"
      ],
      "execution_count": null,
      "outputs": [
        {
          "output_type": "stream",
          "name": "stdout",
          "text": [
            "0.7678731665784\n"
          ]
        }
      ]
    },
    {
      "cell_type": "markdown",
      "metadata": {
        "id": "yQmkdX2PNVPL"
      },
      "source": [
        "Let's look at feature importances"
      ]
    },
    {
      "cell_type": "code",
      "metadata": {
        "colab": {
          "base_uri": "https://localhost:8080/",
          "height": 853
        },
        "id": "AhPXPjKvJ0u6",
        "outputId": "b9926b42-27b1-41ef-f173-c64048e5c62d"
      },
      "source": [
        "lgb.plot_importance(lgmb_clf, importance_type='split', figsize=(20, 15));"
      ],
      "execution_count": null,
      "outputs": [
        {
          "output_type": "display_data",
          "data": {
            "image/png": "[encoded data removed]",
            "text/plain": [
              "<Figure size 1440x1080 with 1 Axes>"
            ]
          },
          "metadata": {
            "needs_background": "light"
          }
        }
      ]
    },
    {
      "cell_type": "markdown",
      "metadata": {
        "id": "d8vTFCgeNZRy"
      },
      "source": [
        "### In this case we have more balanced distribution of the feature importances than in the previous cases! Not bad :) "
      ]
    },
    {
      "cell_type": "markdown",
      "metadata": {
        "id": "v6ur-WY-Ntn_"
      },
      "source": [
        "Logistic Regression\n",
        "\n"
      ]
    },
    {
      "cell_type": "code",
      "metadata": {
        "colab": {
          "base_uri": "https://localhost:8080/"
        },
        "id": "5sqhUsjDunyL",
        "outputId": "59f77e1d-f7c1-43c1-d776-12856b1a4a90"
      },
      "source": [
        "%%time\n",
        "lr_pipe = Pipeline([('scaler', StandardScaler()),\n",
        "                      ('classifier', LogisticRegression())])\n",
        "lr_pipe.fit(train_feat, y_train)"
      ],
      "execution_count": null,
      "outputs": [
        {
          "output_type": "stream",
          "name": "stdout",
          "text": [
            "CPU times: user 1min 2s, sys: 10 s, total: 1min 12s\n",
            "Wall time: 33.7 s\n"
          ]
        }
      ]
    },
    {
      "cell_type": "code",
      "metadata": {
        "colab": {
          "base_uri": "https://localhost:8080/"
        },
        "id": "OmuZmcEtrbv2",
        "outputId": "16c90564-b353-49e2-cdbe-ff8f293b3f8b"
      },
      "source": [
        "probs = lr_pipe.predict_proba(test_feat)\n",
        "score_lr_scaled = roc_auc_score(y_test, probs[:, 1])\n",
        "print(score_lr_scaled)"
      ],
      "execution_count": null,
      "outputs": [
        {
          "output_type": "stream",
          "name": "stdout",
          "text": [
            "0.739932540320303\n"
          ]
        }
      ]
    },
    {
      "cell_type": "markdown",
      "metadata": {
        "id": "B7osf9WxNwvG"
      },
      "source": [
        "Conclusions:\n",
        "\n",
        "Pros:\n",
        "-\tFast\n",
        "-\tHigh quality embeddings\n",
        "-\tLower dimensionality of embeddings\n",
        "-\tGood fit for medium-sized data with many high cardinality variables\n",
        "- More balanced distribution of feature importances\n",
        "\n",
        "Cons:\n",
        "-\tWhat to do if we have lots of low cardinality variables?\n",
        "-\tFixed dimensionality of embeddings\n",
        "-\tScaling? But less than in the previous method\n",
        "-\tCorrelation?\n"
      ]
    },
    {
      "cell_type": "markdown",
      "metadata": {
        "id": "62_Iz1AHpbQV"
      },
      "source": [
        "# Visualization"
      ]
    },
    {
      "cell_type": "markdown",
      "metadata": {
        "id": "oZepX3Z-prY6"
      },
      "source": [
        "Generate a subsample to visualize."
      ]
    },
    {
      "cell_type": "code",
      "metadata": {
        "id": "1rE2TUsHpbQW"
      },
      "source": [
        "_, emb_sample, _, _ = train_test_split(test_feat, y_test, test_size=0.03, random_state=78)"
      ],
      "execution_count": null,
      "outputs": []
    },
    {
      "cell_type": "markdown",
      "metadata": {
        "id": "uU_miunLqIcG"
      },
      "source": [
        "Scale the data\n"
      ]
    },
    {
      "cell_type": "code",
      "metadata": {
        "colab": {
          "base_uri": "https://localhost:8080/"
        },
        "id": "y2cnOt-LpbQW",
        "outputId": "c994fd12-57d8-4af9-c90d-0560b0632d45"
      },
      "source": [
        "%%time\n",
        "scaler = StandardScaler()\n",
        "scaler.fit(train_feat)\n",
        "\n",
        "scaled_emb = scaler.transform(emb_sample)"
      ],
      "execution_count": null,
      "outputs": [
        {
          "output_type": "stream",
          "name": "stdout",
          "text": [
            "CPU times: user 7.36 s, sys: 48 ms, total: 7.41 s\n",
            "Wall time: 7.37 s\n"
          ]
        }
      ]
    },
    {
      "cell_type": "markdown",
      "metadata": {
        "id": "txa2Q3zUqNkN"
      },
      "source": [
        "t-SNE"
      ]
    },
    {
      "cell_type": "code",
      "metadata": {
        "colab": {
          "base_uri": "https://localhost:8080/"
        },
        "id": "XQg4V9kYpbQX",
        "outputId": "b6a1eabf-9b24-4b6a-dc77-f1e47aec8194"
      },
      "source": [
        "%%time\n",
        "tsne = TSNE(n_components=2, random_state=33)\n",
        "T = tsne.fit_transform(scaled_emb)"
      ],
      "execution_count": null,
      "outputs": [
        {
          "output_type": "stream",
          "name": "stdout",
          "text": [
            "CPU times: user 55.5 s, sys: 130 ms, total: 55.6 s\n",
            "Wall time: 17.8 s\n"
          ]
        }
      ]
    },
    {
      "cell_type": "code",
      "metadata": {
        "colab": {
          "base_uri": "https://localhost:8080/",
          "height": 483
        },
        "id": "W7fDxf5eLmFa",
        "outputId": "b16a1636-d016-4c51-b8cb-b84ffb4628c6"
      },
      "source": [
        "plt.figure(figsize=(12, 8))\n",
        "plt.scatter(T[:, 0], T[:, 1], alpha=0.7)\n",
        "plt.xlim((-70, 70))\n",
        "plt.grid()"
      ],
      "execution_count": null,
      "outputs": [
        {
          "output_type": "display_data",
          "data": {
            "image/png": "[encoded data removed]",
            "text/plain": [
              "<Figure size 864x576 with 1 Axes>"
            ]
          },
          "metadata": {
            "needs_background": "light"
          }
        }
      ]
    },
    {
      "cell_type": "markdown",
      "metadata": {
        "id": "58Zfxn6WORA5"
      },
      "source": [
        "### Lots of clusters! I like it :)"
      ]
    },
    {
      "cell_type": "markdown",
      "metadata": {
        "id": "IQR3EEbYqRhw"
      },
      "source": [
        "MDS"
      ]
    },
    {
      "cell_type": "code",
      "metadata": {
        "colab": {
          "base_uri": "https://localhost:8080/"
        },
        "id": "g8dA0lkepbQY",
        "outputId": "b2df56d9-f3be-4dab-db0a-87a1e2224b9c"
      },
      "source": [
        "%%time\n",
        "mds_trans = MDS(n_components=2, random_state=33)\n",
        "M = mds_trans.fit_transform(scaled_emb)"
      ],
      "execution_count": null,
      "outputs": [
        {
          "output_type": "stream",
          "name": "stdout",
          "text": [
            "CPU times: user 3min 50s, sys: 6min 37s, total: 10min 28s\n",
            "Wall time: 2min 43s\n"
          ]
        }
      ]
    },
    {
      "cell_type": "code",
      "metadata": {
        "colab": {
          "base_uri": "https://localhost:8080/",
          "height": 487
        },
        "id": "JWJq0v-ILzJi",
        "outputId": "5d64631b-7d73-4050-e6c1-20ee7524530c"
      },
      "source": [
        "plt.figure(figsize=(12, 8))\n",
        "plt.scatter(M[:, 0], M[:, 1], alpha=0.7)\n",
        "plt.xlim((-30, 30))\n",
        "plt.ylim((-30, 30))\n",
        "plt.grid()"
      ],
      "execution_count": null,
      "outputs": [
        {
          "output_type": "display_data",
          "data": {
            "image/png": "[encoded data removed]",
            "text/plain": [
              "<Figure size 864x576 with 1 Axes>"
            ]
          },
          "metadata": {
            "needs_background": "light"
          }
        }
      ]
    },
    {
      "cell_type": "markdown",
      "metadata": {
        "id": "9pPAHkVHOXjf"
      },
      "source": [
        "### And... Here we have clusters too! I like it even more :) So, if you want to find some structure in your objects and visualize it, try this encoding method!"
      ]
    },
    {
      "cell_type": "code",
      "metadata": {
        "id": "eG3cFEu71d6r"
      },
      "source": [
        ""
      ],
      "execution_count": null,
      "outputs": []
    }
  ]
}